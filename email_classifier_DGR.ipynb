{
 "cells": [
  {
   "cell_type": "markdown",
   "metadata": {
    "id": "1GO9AjH2uulc"
   },
   "source": [
    "# Project 1: Create a project for Spam email classification\n",
    "## Spam email classifier\n",
    "Dataset:\n",
    "https://drive.google.com/file/d/11dlUIHgx0b32sRwt68rIggpIrbqzvBqB/view?usp=sharing\n",
    "###Objective of the project - To create a classifier that helps classify between Spam (unimportant) mail & Ham (important) mail\n",
    "Feel free to do any text cleaning and feature engineering required.\n",
    "\n",
    "Compare using both ML & DL model approaches for the purpose."
   ]
  },
  {
   "cell_type": "markdown",
   "metadata": {
    "id": "da-BOGiav2xO"
   },
   "source": [
    "---"
   ]
  },
  {
   "cell_type": "markdown",
   "metadata": {
    "id": "ec7MjBTxxH-6"
   },
   "source": [
    "## Steps\n",
    "\n",
    "1.   Data Colllection and preparation:Gather and prepare the data for analysis.\n",
    "2.   Exploratory Data Analysis: Understand, analyse data and summarize main caracteristics.\n",
    "3.   Feature engineering: Create, delete features for opptimal modeling.\n",
    "4.   Model development: Develop and train various machine learning models.\n",
    "5.   Model evaluation: Meassure how well the model performs itss task.\n",
    "6.   Validation: Test the model on new data.\n",
    "\n",
    "\n",
    "\n",
    "\n",
    "\n",
    "\n"
   ]
  },
  {
   "cell_type": "markdown",
   "metadata": {
    "id": "XjNH-BEh-dv4"
   },
   "source": [
    "---"
   ]
  },
  {
   "cell_type": "markdown",
   "metadata": {
    "id": "FAirzndy4qOX"
   },
   "source": [
    "## I.- Import libraries\n"
   ]
  },
  {
   "cell_type": "markdown",
   "metadata": {
    "id": "ZWn9X-YpxH-7"
   },
   "source": [
    "- Importing essential libraries needed for data analysis, visualization, and machine learning tasks. It imports numpy and pandas, which are fundamental for handling numerical data and data frames, respectively.\n",
    "- For visualization, matplotlib.pyplot and seaborn are imported, providing tools for creating a wide range of static plots.\n",
    "- The train_test_split function from the sklearn.model_selection module is brought in to facilitate the division of the dataset into training and testing subsets, crucial for model evaluation.\n",
    "- classification_report and confusion_matrix from sklearn.metrics, which are used to assess the performance of classification models by generating detailed reports and confusion matrices, respectively.\n",
    "- Importing the Natural Language Toolkit (nltk) library. It imports the stopwords module from nltk.corpus, which provides a collection of common stop words that can be filtered out during text processing to improve the efficiency of NLP tasks.\n",
    "-Import the re module for working with regular expressions\n",
    "-Import the Counter class from the collections module. It is a collection where elements are stored as dictionary keys and their counts are stored as dictionary values."
   ]
  },
  {
   "cell_type": "code",
   "execution_count": 30,
   "metadata": {
    "colab": {
     "base_uri": "https://localhost:8080/"
    },
    "id": "aijKmgqYF3Sw",
    "outputId": "01306c90-dcd4-4eae-c522-4c7e6dc8845d"
   },
   "outputs": [
    {
     "name": "stderr",
     "output_type": "stream",
     "text": [
      "[nltk_data] Downloading package stopwords to\n",
      "[nltk_data]     C:\\Users\\DELL\\AppData\\Roaming\\nltk_data...\n",
      "[nltk_data]   Package stopwords is already up-to-date!\n"
     ]
    }
   ],
   "source": [
    "import pandas as pd\n",
    "import numpy as np\n",
    "import matplotlib.pyplot as plt # type: ignore\n",
    "import seaborn as sb # type: ignore\n",
    "from sklearn.model_selection import train_test_split \n",
    "from sklearn.model_selection import cross_val_score # Import cross-validation score evaluation function\n",
    "from sklearn.linear_model import LinearRegression\n",
    "from sklearn.metrics import classification_report, confusion_matrix\n",
    "from sklearn.naive_bayes import MultinomialNB # Importing the Multinomial Naive Bayes classifier from scikit-learn\n",
    "from sklearn.linear_model import LogisticRegression # Importing the Logistic Regression classifier from scikit-learn\n",
    "from sklearn import preprocessing # Importing preprocessing module from sklearn\n",
    "import nltk\n",
    "from nltk.corpus import stopwords\n",
    "# Download the stopwords dataset from nltk\n",
    "nltk.download('stopwords')\n",
    "import re\n",
    "from collections import Counter  # Import the Counter class from the collections module\n"
   ]
  },
  {
   "cell_type": "markdown",
   "metadata": {
    "id": "kkKdbzPY-jQc"
   },
   "source": [
    "---"
   ]
  },
  {
   "cell_type": "markdown",
   "metadata": {
    "id": "PcBVnN5M9Weq"
   },
   "source": [
    "## II .- Functions definition"
   ]
  },
  {
   "cell_type": "markdown",
   "metadata": {
    "id": "AChVUlhD8NSq"
   },
   "source": [
    "- In a simple project with only a few functions it is a good practice to define them at the beginning of your notebook."
   ]
  },
  {
   "cell_type": "code",
   "execution_count": 31,
   "metadata": {
    "id": "D-tAvdZzNCYW"
   },
   "outputs": [],
   "source": [
    "# Funcion para tokenizar los emails\n",
    "def prepare_df(text):\n",
    "  text = re.sub('[^a-zA-Z]', ' ', text.lower()) # Remove chars and convert to lowercase\n",
    "  text = re.sub(r\"\\W\", \" \", text) # Replace any non word character with a space\n",
    "  text = re.sub(r\"\\s+\", \" \", text) # remove extra white spaces\n",
    "  tokens = text.split()\n",
    "  return tokens\n"
   ]
  },
  {
   "cell_type": "markdown",
   "metadata": {
    "id": "nyNrSehfhR9g"
   },
   "source": [
    "- \"prepare_df\" is a function to remove non word characters and tokenize each resulting email text."
   ]
  },
  {
   "cell_type": "markdown",
   "metadata": {
    "id": "JWXefrHv-uis"
   },
   "source": [
    "---"
   ]
  },
  {
   "cell_type": "markdown",
   "metadata": {
    "id": "2ePh7MCrAybr"
   },
   "source": [
    "## III.- Data Collection and preparation\n",
    "\n",
    "- At first, load the dataset into a DataFrame using the Pandas library in Python. This is the first step in data exploration and preprocessing. It enables us to perform various operations, such as cleaning, transforming, and analyzing the data."
   ]
  },
  {
   "cell_type": "code",
   "execution_count": 32,
   "metadata": {
    "colab": {
     "base_uri": "https://localhost:8080/",
     "height": 424
    },
    "id": "_vC_X1_eJ4wh",
    "outputId": "08999e47-c656-43a1-eb5e-b2775882ea9a"
   },
   "outputs": [
    {
     "data": {
      "text/html": [
       "<div>\n",
       "<style scoped>\n",
       "    .dataframe tbody tr th:only-of-type {\n",
       "        vertical-align: middle;\n",
       "    }\n",
       "\n",
       "    .dataframe tbody tr th {\n",
       "        vertical-align: top;\n",
       "    }\n",
       "\n",
       "    .dataframe thead th {\n",
       "        text-align: right;\n",
       "    }\n",
       "</style>\n",
       "<table border=\"1\" class=\"dataframe\">\n",
       "  <thead>\n",
       "    <tr style=\"text-align: right;\">\n",
       "      <th></th>\n",
       "      <th>type</th>\n",
       "      <th>text</th>\n",
       "    </tr>\n",
       "  </thead>\n",
       "  <tbody>\n",
       "    <tr>\n",
       "      <th>0</th>\n",
       "      <td>ham</td>\n",
       "      <td>Hope you are having a good week. Just checking in</td>\n",
       "    </tr>\n",
       "    <tr>\n",
       "      <th>1</th>\n",
       "      <td>ham</td>\n",
       "      <td>K..give back my thanks.</td>\n",
       "    </tr>\n",
       "    <tr>\n",
       "      <th>2</th>\n",
       "      <td>ham</td>\n",
       "      <td>Am also doing in cbe only. But have to pay.</td>\n",
       "    </tr>\n",
       "    <tr>\n",
       "      <th>3</th>\n",
       "      <td>spam</td>\n",
       "      <td>complimentary 4 STAR Ibiza Holiday or å£10,000...</td>\n",
       "    </tr>\n",
       "    <tr>\n",
       "      <th>4</th>\n",
       "      <td>spam</td>\n",
       "      <td>okmail: Dear Dave this is your final notice to...</td>\n",
       "    </tr>\n",
       "    <tr>\n",
       "      <th>...</th>\n",
       "      <td>...</td>\n",
       "      <td>...</td>\n",
       "    </tr>\n",
       "    <tr>\n",
       "      <th>5554</th>\n",
       "      <td>ham</td>\n",
       "      <td>You are a great role model. You are giving so ...</td>\n",
       "    </tr>\n",
       "    <tr>\n",
       "      <th>5555</th>\n",
       "      <td>ham</td>\n",
       "      <td>Awesome, I remember the last time we got someb...</td>\n",
       "    </tr>\n",
       "    <tr>\n",
       "      <th>5556</th>\n",
       "      <td>spam</td>\n",
       "      <td>If you don't, your prize will go to another cu...</td>\n",
       "    </tr>\n",
       "    <tr>\n",
       "      <th>5557</th>\n",
       "      <td>spam</td>\n",
       "      <td>SMS. ac JSco: Energy is high, but u may not kn...</td>\n",
       "    </tr>\n",
       "    <tr>\n",
       "      <th>5558</th>\n",
       "      <td>ham</td>\n",
       "      <td>Shall call now dear having food</td>\n",
       "    </tr>\n",
       "  </tbody>\n",
       "</table>\n",
       "<p>5559 rows × 2 columns</p>\n",
       "</div>"
      ],
      "text/plain": [
       "      type                                               text\n",
       "0      ham  Hope you are having a good week. Just checking in\n",
       "1      ham                            K..give back my thanks.\n",
       "2      ham        Am also doing in cbe only. But have to pay.\n",
       "3     spam  complimentary 4 STAR Ibiza Holiday or å£10,000...\n",
       "4     spam  okmail: Dear Dave this is your final notice to...\n",
       "...    ...                                                ...\n",
       "5554   ham  You are a great role model. You are giving so ...\n",
       "5555   ham  Awesome, I remember the last time we got someb...\n",
       "5556  spam  If you don't, your prize will go to another cu...\n",
       "5557  spam  SMS. ac JSco: Energy is high, but u may not kn...\n",
       "5558   ham                    Shall call now dear having food\n",
       "\n",
       "[5559 rows x 2 columns]"
      ]
     },
     "execution_count": 32,
     "metadata": {},
     "output_type": "execute_result"
    }
   ],
   "source": [
    "df = pd.read_csv('D:\\DESARROLLOS_EN_GITHUB\\email_classifier\\Hamspam.csv', encoding='latin-1')\n",
    "df.head()\n",
    "df"
   ]
  },
  {
   "cell_type": "markdown",
   "metadata": {
    "id": "m3b8wxkR-2cJ"
   },
   "source": [
    "---"
   ]
  },
  {
   "cell_type": "markdown",
   "metadata": {
    "id": "p_AE0CfLBwfd"
   },
   "source": [
    "##IV.- Exploratory Data Analysis\n",
    "Afterward, checked the structure and missing values to prepare the data for further processing and modeling. Besides, calculate descriptive statistics to give a summary of the data and help in understanding its characteristics. They are useful for identifying trends, outliers, and the overall distribution of the data."
   ]
  },
  {
   "cell_type": "markdown",
   "metadata": {
    "id": "7lu3QXXlbnRP"
   },
   "source": [
    "### 1. DataFrame Inspection\n",
    "\n",
    "- Upon loading the dataset into a DataFrame, it is important to review its structure. This includes checking the column names to understand what features are present, verifying data types (e.g., numeric, categorical, text), and inspecting a sample of data entries to get an initial sense of the data."
   ]
  },
  {
   "cell_type": "code",
   "execution_count": 33,
   "metadata": {
    "colab": {
     "base_uri": "https://localhost:8080/",
     "height": 206
    },
    "id": "58vLU09uRfS8",
    "outputId": "2f004749-80d6-4b8a-82e6-e67c24e699c7"
   },
   "outputs": [
    {
     "data": {
      "text/html": [
       "<div>\n",
       "<style scoped>\n",
       "    .dataframe tbody tr th:only-of-type {\n",
       "        vertical-align: middle;\n",
       "    }\n",
       "\n",
       "    .dataframe tbody tr th {\n",
       "        vertical-align: top;\n",
       "    }\n",
       "\n",
       "    .dataframe thead th {\n",
       "        text-align: right;\n",
       "    }\n",
       "</style>\n",
       "<table border=\"1\" class=\"dataframe\">\n",
       "  <thead>\n",
       "    <tr style=\"text-align: right;\">\n",
       "      <th></th>\n",
       "      <th>type</th>\n",
       "      <th>text</th>\n",
       "    </tr>\n",
       "  </thead>\n",
       "  <tbody>\n",
       "    <tr>\n",
       "      <th>0</th>\n",
       "      <td>ham</td>\n",
       "      <td>Hope you are having a good week. Just checking in</td>\n",
       "    </tr>\n",
       "    <tr>\n",
       "      <th>1</th>\n",
       "      <td>ham</td>\n",
       "      <td>K..give back my thanks.</td>\n",
       "    </tr>\n",
       "    <tr>\n",
       "      <th>2</th>\n",
       "      <td>ham</td>\n",
       "      <td>Am also doing in cbe only. But have to pay.</td>\n",
       "    </tr>\n",
       "    <tr>\n",
       "      <th>3</th>\n",
       "      <td>spam</td>\n",
       "      <td>complimentary 4 STAR Ibiza Holiday or å£10,000...</td>\n",
       "    </tr>\n",
       "    <tr>\n",
       "      <th>4</th>\n",
       "      <td>spam</td>\n",
       "      <td>okmail: Dear Dave this is your final notice to...</td>\n",
       "    </tr>\n",
       "  </tbody>\n",
       "</table>\n",
       "</div>"
      ],
      "text/plain": [
       "   type                                               text\n",
       "0   ham  Hope you are having a good week. Just checking in\n",
       "1   ham                            K..give back my thanks.\n",
       "2   ham        Am also doing in cbe only. But have to pay.\n",
       "3  spam  complimentary 4 STAR Ibiza Holiday or å£10,000...\n",
       "4  spam  okmail: Dear Dave this is your final notice to..."
      ]
     },
     "execution_count": 33,
     "metadata": {},
     "output_type": "execute_result"
    }
   ],
   "source": [
    "df.head(5)"
   ]
  },
  {
   "cell_type": "code",
   "execution_count": 34,
   "metadata": {
    "colab": {
     "base_uri": "https://localhost:8080/",
     "height": 206
    },
    "id": "1pU58Q8wdMJv",
    "outputId": "77412553-7c47-444c-ce6a-4135283c83b8"
   },
   "outputs": [
    {
     "data": {
      "text/html": [
       "<div>\n",
       "<style scoped>\n",
       "    .dataframe tbody tr th:only-of-type {\n",
       "        vertical-align: middle;\n",
       "    }\n",
       "\n",
       "    .dataframe tbody tr th {\n",
       "        vertical-align: top;\n",
       "    }\n",
       "\n",
       "    .dataframe thead th {\n",
       "        text-align: right;\n",
       "    }\n",
       "</style>\n",
       "<table border=\"1\" class=\"dataframe\">\n",
       "  <thead>\n",
       "    <tr style=\"text-align: right;\">\n",
       "      <th></th>\n",
       "      <th>type</th>\n",
       "      <th>text</th>\n",
       "    </tr>\n",
       "  </thead>\n",
       "  <tbody>\n",
       "    <tr>\n",
       "      <th>5554</th>\n",
       "      <td>ham</td>\n",
       "      <td>You are a great role model. You are giving so ...</td>\n",
       "    </tr>\n",
       "    <tr>\n",
       "      <th>5555</th>\n",
       "      <td>ham</td>\n",
       "      <td>Awesome, I remember the last time we got someb...</td>\n",
       "    </tr>\n",
       "    <tr>\n",
       "      <th>5556</th>\n",
       "      <td>spam</td>\n",
       "      <td>If you don't, your prize will go to another cu...</td>\n",
       "    </tr>\n",
       "    <tr>\n",
       "      <th>5557</th>\n",
       "      <td>spam</td>\n",
       "      <td>SMS. ac JSco: Energy is high, but u may not kn...</td>\n",
       "    </tr>\n",
       "    <tr>\n",
       "      <th>5558</th>\n",
       "      <td>ham</td>\n",
       "      <td>Shall call now dear having food</td>\n",
       "    </tr>\n",
       "  </tbody>\n",
       "</table>\n",
       "</div>"
      ],
      "text/plain": [
       "      type                                               text\n",
       "5554   ham  You are a great role model. You are giving so ...\n",
       "5555   ham  Awesome, I remember the last time we got someb...\n",
       "5556  spam  If you don't, your prize will go to another cu...\n",
       "5557  spam  SMS. ac JSco: Energy is high, but u may not kn...\n",
       "5558   ham                    Shall call now dear having food"
      ]
     },
     "execution_count": 34,
     "metadata": {},
     "output_type": "execute_result"
    }
   ],
   "source": [
    "df.tail()"
   ]
  },
  {
   "cell_type": "code",
   "execution_count": 35,
   "metadata": {
    "colab": {
     "base_uri": "https://localhost:8080/"
    },
    "id": "qk3T17qQde44",
    "outputId": "9afbf4ce-9382-4d7b-b41a-dd214eaeccbf"
   },
   "outputs": [
    {
     "data": {
      "text/plain": [
       "(5559, 2)"
      ]
     },
     "execution_count": 35,
     "metadata": {},
     "output_type": "execute_result"
    }
   ],
   "source": [
    "df.shape"
   ]
  },
  {
   "cell_type": "code",
   "execution_count": 36,
   "metadata": {
    "colab": {
     "base_uri": "https://localhost:8080/"
    },
    "id": "VajcH5F-nNFZ",
    "outputId": "e3e94f0e-a60b-4043-b98c-fed0076bd907"
   },
   "outputs": [
    {
     "data": {
      "text/plain": [
       "Index(['type', 'text'], dtype='object')"
      ]
     },
     "execution_count": 36,
     "metadata": {},
     "output_type": "execute_result"
    }
   ],
   "source": [
    "df.columns"
   ]
  },
  {
   "cell_type": "code",
   "execution_count": 37,
   "metadata": {
    "colab": {
     "base_uri": "https://localhost:8080/"
    },
    "id": "Kg-sSqf-DwpR",
    "outputId": "0075d091-2fa4-44ed-fc74-432d7c1f50df"
   },
   "outputs": [
    {
     "name": "stdout",
     "output_type": "stream",
     "text": [
      "<class 'pandas.core.frame.DataFrame'>\n",
      "RangeIndex: 5559 entries, 0 to 5558\n",
      "Data columns (total 2 columns):\n",
      " #   Column  Non-Null Count  Dtype \n",
      "---  ------  --------------  ----- \n",
      " 0   type    5559 non-null   object\n",
      " 1   text    5559 non-null   object\n",
      "dtypes: object(2)\n",
      "memory usage: 87.0+ KB\n"
     ]
    }
   ],
   "source": [
    "df.info()"
   ]
  },
  {
   "cell_type": "code",
   "execution_count": 38,
   "metadata": {
    "colab": {
     "base_uri": "https://localhost:8080/",
     "height": 147
    },
    "id": "ms7dD9DLFDRR",
    "outputId": "fab6699a-2ffd-4333-ea25-0eb0bc9a703e"
   },
   "outputs": [
    {
     "data": {
      "text/plain": [
       "type    0\n",
       "text    0\n",
       "dtype: int64"
      ]
     },
     "execution_count": 38,
     "metadata": {},
     "output_type": "execute_result"
    }
   ],
   "source": [
    "df.isnull().sum()"
   ]
  },
  {
   "cell_type": "markdown",
   "metadata": {
    "id": "2osKbxT4eD-g"
   },
   "source": [
    "#### 2. Observation after DataFrame Inspection\n",
    "\n",
    "- By observing the dataset, see that it consists of 5559 emails represented as rows, two columns for text email and type (ham, spam).\n",
    "- For ease, it will be better to incorporate \"type\" along with the text of each email, since it will be necessary to convert each word into a \"feature\".\n",
    "- Also, \"type\" will be renamed to \"Target\""
   ]
  },
  {
   "cell_type": "code",
   "execution_count": 39,
   "metadata": {
    "id": "vLg285EKHpnX"
   },
   "outputs": [],
   "source": [
    "data_list =[]\n",
    "type_index = 0\n",
    "for text in df['text']:\n",
    "  tokens = prepare_df(text) # Call \"prepare_df\" function defined in II\n",
    "  word_counts = Counter(tokens) # Count word frequencies\n",
    "  data = {word: count for word, count in word_counts.items()} # Create a dictionary for the current email's word frequencies\n",
    "  data['Target'] = 1 if df['type'][type_index] == 'spam' else 0 # Rename column \"type\" to \"Target\" and replace \"ham\" with 0 and spam with 1\n",
    "  type_index += 1\n",
    "  data_list.append(data)\n",
    "df = pd.DataFrame(data_list)\n",
    "\n",
    "\n"
   ]
  },
  {
   "cell_type": "code",
   "execution_count": 40,
   "metadata": {
    "colab": {
     "base_uri": "https://localhost:8080/",
     "height": 424
    },
    "id": "zIM-CmZslY4v",
    "outputId": "cd60f73e-b312-4f62-de94-3c675e8ced2f"
   },
   "outputs": [
    {
     "data": {
      "text/html": [
       "<div>\n",
       "<style scoped>\n",
       "    .dataframe tbody tr th:only-of-type {\n",
       "        vertical-align: middle;\n",
       "    }\n",
       "\n",
       "    .dataframe tbody tr th {\n",
       "        vertical-align: top;\n",
       "    }\n",
       "\n",
       "    .dataframe thead th {\n",
       "        text-align: right;\n",
       "    }\n",
       "</style>\n",
       "<table border=\"1\" class=\"dataframe\">\n",
       "  <thead>\n",
       "    <tr style=\"text-align: right;\">\n",
       "      <th></th>\n",
       "      <th>hope</th>\n",
       "      <th>you</th>\n",
       "      <th>are</th>\n",
       "      <th>having</th>\n",
       "      <th>a</th>\n",
       "      <th>good</th>\n",
       "      <th>week</th>\n",
       "      <th>just</th>\n",
       "      <th>checking</th>\n",
       "      <th>in</th>\n",
       "      <th>...</th>\n",
       "      <th>blanket</th>\n",
       "      <th>sang</th>\n",
       "      <th>uptown</th>\n",
       "      <th>pounded</th>\n",
       "      <th>young</th>\n",
       "      <th>diesel</th>\n",
       "      <th>jsco</th>\n",
       "      <th>leadership</th>\n",
       "      <th>skills</th>\n",
       "      <th>psychic</th>\n",
       "    </tr>\n",
       "  </thead>\n",
       "  <tbody>\n",
       "    <tr>\n",
       "      <th>0</th>\n",
       "      <td>1.0</td>\n",
       "      <td>1.0</td>\n",
       "      <td>1.0</td>\n",
       "      <td>1.0</td>\n",
       "      <td>1.0</td>\n",
       "      <td>1.0</td>\n",
       "      <td>1.0</td>\n",
       "      <td>1.0</td>\n",
       "      <td>1.0</td>\n",
       "      <td>1.0</td>\n",
       "      <td>...</td>\n",
       "      <td>NaN</td>\n",
       "      <td>NaN</td>\n",
       "      <td>NaN</td>\n",
       "      <td>NaN</td>\n",
       "      <td>NaN</td>\n",
       "      <td>NaN</td>\n",
       "      <td>NaN</td>\n",
       "      <td>NaN</td>\n",
       "      <td>NaN</td>\n",
       "      <td>NaN</td>\n",
       "    </tr>\n",
       "    <tr>\n",
       "      <th>1</th>\n",
       "      <td>NaN</td>\n",
       "      <td>NaN</td>\n",
       "      <td>NaN</td>\n",
       "      <td>NaN</td>\n",
       "      <td>NaN</td>\n",
       "      <td>NaN</td>\n",
       "      <td>NaN</td>\n",
       "      <td>NaN</td>\n",
       "      <td>NaN</td>\n",
       "      <td>NaN</td>\n",
       "      <td>...</td>\n",
       "      <td>NaN</td>\n",
       "      <td>NaN</td>\n",
       "      <td>NaN</td>\n",
       "      <td>NaN</td>\n",
       "      <td>NaN</td>\n",
       "      <td>NaN</td>\n",
       "      <td>NaN</td>\n",
       "      <td>NaN</td>\n",
       "      <td>NaN</td>\n",
       "      <td>NaN</td>\n",
       "    </tr>\n",
       "    <tr>\n",
       "      <th>2</th>\n",
       "      <td>NaN</td>\n",
       "      <td>NaN</td>\n",
       "      <td>NaN</td>\n",
       "      <td>NaN</td>\n",
       "      <td>NaN</td>\n",
       "      <td>NaN</td>\n",
       "      <td>NaN</td>\n",
       "      <td>NaN</td>\n",
       "      <td>NaN</td>\n",
       "      <td>1.0</td>\n",
       "      <td>...</td>\n",
       "      <td>NaN</td>\n",
       "      <td>NaN</td>\n",
       "      <td>NaN</td>\n",
       "      <td>NaN</td>\n",
       "      <td>NaN</td>\n",
       "      <td>NaN</td>\n",
       "      <td>NaN</td>\n",
       "      <td>NaN</td>\n",
       "      <td>NaN</td>\n",
       "      <td>NaN</td>\n",
       "    </tr>\n",
       "    <tr>\n",
       "      <th>3</th>\n",
       "      <td>NaN</td>\n",
       "      <td>NaN</td>\n",
       "      <td>NaN</td>\n",
       "      <td>NaN</td>\n",
       "      <td>NaN</td>\n",
       "      <td>NaN</td>\n",
       "      <td>NaN</td>\n",
       "      <td>NaN</td>\n",
       "      <td>NaN</td>\n",
       "      <td>NaN</td>\n",
       "      <td>...</td>\n",
       "      <td>NaN</td>\n",
       "      <td>NaN</td>\n",
       "      <td>NaN</td>\n",
       "      <td>NaN</td>\n",
       "      <td>NaN</td>\n",
       "      <td>NaN</td>\n",
       "      <td>NaN</td>\n",
       "      <td>NaN</td>\n",
       "      <td>NaN</td>\n",
       "      <td>NaN</td>\n",
       "    </tr>\n",
       "    <tr>\n",
       "      <th>4</th>\n",
       "      <td>NaN</td>\n",
       "      <td>NaN</td>\n",
       "      <td>NaN</td>\n",
       "      <td>NaN</td>\n",
       "      <td>NaN</td>\n",
       "      <td>NaN</td>\n",
       "      <td>NaN</td>\n",
       "      <td>NaN</td>\n",
       "      <td>NaN</td>\n",
       "      <td>NaN</td>\n",
       "      <td>...</td>\n",
       "      <td>NaN</td>\n",
       "      <td>NaN</td>\n",
       "      <td>NaN</td>\n",
       "      <td>NaN</td>\n",
       "      <td>NaN</td>\n",
       "      <td>NaN</td>\n",
       "      <td>NaN</td>\n",
       "      <td>NaN</td>\n",
       "      <td>NaN</td>\n",
       "      <td>NaN</td>\n",
       "    </tr>\n",
       "    <tr>\n",
       "      <th>...</th>\n",
       "      <td>...</td>\n",
       "      <td>...</td>\n",
       "      <td>...</td>\n",
       "      <td>...</td>\n",
       "      <td>...</td>\n",
       "      <td>...</td>\n",
       "      <td>...</td>\n",
       "      <td>...</td>\n",
       "      <td>...</td>\n",
       "      <td>...</td>\n",
       "      <td>...</td>\n",
       "      <td>...</td>\n",
       "      <td>...</td>\n",
       "      <td>...</td>\n",
       "      <td>...</td>\n",
       "      <td>...</td>\n",
       "      <td>...</td>\n",
       "      <td>...</td>\n",
       "      <td>...</td>\n",
       "      <td>...</td>\n",
       "      <td>...</td>\n",
       "    </tr>\n",
       "    <tr>\n",
       "      <th>5554</th>\n",
       "      <td>NaN</td>\n",
       "      <td>3.0</td>\n",
       "      <td>2.0</td>\n",
       "      <td>NaN</td>\n",
       "      <td>4.0</td>\n",
       "      <td>NaN</td>\n",
       "      <td>NaN</td>\n",
       "      <td>NaN</td>\n",
       "      <td>NaN</td>\n",
       "      <td>NaN</td>\n",
       "      <td>...</td>\n",
       "      <td>NaN</td>\n",
       "      <td>NaN</td>\n",
       "      <td>NaN</td>\n",
       "      <td>NaN</td>\n",
       "      <td>1.0</td>\n",
       "      <td>NaN</td>\n",
       "      <td>NaN</td>\n",
       "      <td>NaN</td>\n",
       "      <td>NaN</td>\n",
       "      <td>NaN</td>\n",
       "    </tr>\n",
       "    <tr>\n",
       "      <th>5555</th>\n",
       "      <td>NaN</td>\n",
       "      <td>NaN</td>\n",
       "      <td>NaN</td>\n",
       "      <td>NaN</td>\n",
       "      <td>NaN</td>\n",
       "      <td>NaN</td>\n",
       "      <td>NaN</td>\n",
       "      <td>NaN</td>\n",
       "      <td>NaN</td>\n",
       "      <td>NaN</td>\n",
       "      <td>...</td>\n",
       "      <td>NaN</td>\n",
       "      <td>NaN</td>\n",
       "      <td>NaN</td>\n",
       "      <td>NaN</td>\n",
       "      <td>NaN</td>\n",
       "      <td>1.0</td>\n",
       "      <td>NaN</td>\n",
       "      <td>NaN</td>\n",
       "      <td>NaN</td>\n",
       "      <td>NaN</td>\n",
       "    </tr>\n",
       "    <tr>\n",
       "      <th>5556</th>\n",
       "      <td>NaN</td>\n",
       "      <td>1.0</td>\n",
       "      <td>NaN</td>\n",
       "      <td>NaN</td>\n",
       "      <td>NaN</td>\n",
       "      <td>NaN</td>\n",
       "      <td>NaN</td>\n",
       "      <td>NaN</td>\n",
       "      <td>NaN</td>\n",
       "      <td>NaN</td>\n",
       "      <td>...</td>\n",
       "      <td>NaN</td>\n",
       "      <td>NaN</td>\n",
       "      <td>NaN</td>\n",
       "      <td>NaN</td>\n",
       "      <td>NaN</td>\n",
       "      <td>NaN</td>\n",
       "      <td>NaN</td>\n",
       "      <td>NaN</td>\n",
       "      <td>NaN</td>\n",
       "      <td>NaN</td>\n",
       "    </tr>\n",
       "    <tr>\n",
       "      <th>5557</th>\n",
       "      <td>NaN</td>\n",
       "      <td>NaN</td>\n",
       "      <td>NaN</td>\n",
       "      <td>NaN</td>\n",
       "      <td>NaN</td>\n",
       "      <td>NaN</td>\n",
       "      <td>NaN</td>\n",
       "      <td>NaN</td>\n",
       "      <td>NaN</td>\n",
       "      <td>NaN</td>\n",
       "      <td>...</td>\n",
       "      <td>NaN</td>\n",
       "      <td>NaN</td>\n",
       "      <td>NaN</td>\n",
       "      <td>NaN</td>\n",
       "      <td>NaN</td>\n",
       "      <td>NaN</td>\n",
       "      <td>2.0</td>\n",
       "      <td>1.0</td>\n",
       "      <td>1.0</td>\n",
       "      <td>1.0</td>\n",
       "    </tr>\n",
       "    <tr>\n",
       "      <th>5558</th>\n",
       "      <td>NaN</td>\n",
       "      <td>NaN</td>\n",
       "      <td>NaN</td>\n",
       "      <td>1.0</td>\n",
       "      <td>NaN</td>\n",
       "      <td>NaN</td>\n",
       "      <td>NaN</td>\n",
       "      <td>NaN</td>\n",
       "      <td>NaN</td>\n",
       "      <td>NaN</td>\n",
       "      <td>...</td>\n",
       "      <td>NaN</td>\n",
       "      <td>NaN</td>\n",
       "      <td>NaN</td>\n",
       "      <td>NaN</td>\n",
       "      <td>NaN</td>\n",
       "      <td>NaN</td>\n",
       "      <td>NaN</td>\n",
       "      <td>NaN</td>\n",
       "      <td>NaN</td>\n",
       "      <td>NaN</td>\n",
       "    </tr>\n",
       "  </tbody>\n",
       "</table>\n",
       "<p>5559 rows × 7737 columns</p>\n",
       "</div>"
      ],
      "text/plain": [
       "      hope  you  are  having    a  good  week  just  checking   in  ...  \\\n",
       "0      1.0  1.0  1.0     1.0  1.0   1.0   1.0   1.0       1.0  1.0  ...   \n",
       "1      NaN  NaN  NaN     NaN  NaN   NaN   NaN   NaN       NaN  NaN  ...   \n",
       "2      NaN  NaN  NaN     NaN  NaN   NaN   NaN   NaN       NaN  1.0  ...   \n",
       "3      NaN  NaN  NaN     NaN  NaN   NaN   NaN   NaN       NaN  NaN  ...   \n",
       "4      NaN  NaN  NaN     NaN  NaN   NaN   NaN   NaN       NaN  NaN  ...   \n",
       "...    ...  ...  ...     ...  ...   ...   ...   ...       ...  ...  ...   \n",
       "5554   NaN  3.0  2.0     NaN  4.0   NaN   NaN   NaN       NaN  NaN  ...   \n",
       "5555   NaN  NaN  NaN     NaN  NaN   NaN   NaN   NaN       NaN  NaN  ...   \n",
       "5556   NaN  1.0  NaN     NaN  NaN   NaN   NaN   NaN       NaN  NaN  ...   \n",
       "5557   NaN  NaN  NaN     NaN  NaN   NaN   NaN   NaN       NaN  NaN  ...   \n",
       "5558   NaN  NaN  NaN     1.0  NaN   NaN   NaN   NaN       NaN  NaN  ...   \n",
       "\n",
       "      blanket  sang  uptown  pounded  young  diesel  jsco  leadership  skills  \\\n",
       "0         NaN   NaN     NaN      NaN    NaN     NaN   NaN         NaN     NaN   \n",
       "1         NaN   NaN     NaN      NaN    NaN     NaN   NaN         NaN     NaN   \n",
       "2         NaN   NaN     NaN      NaN    NaN     NaN   NaN         NaN     NaN   \n",
       "3         NaN   NaN     NaN      NaN    NaN     NaN   NaN         NaN     NaN   \n",
       "4         NaN   NaN     NaN      NaN    NaN     NaN   NaN         NaN     NaN   \n",
       "...       ...   ...     ...      ...    ...     ...   ...         ...     ...   \n",
       "5554      NaN   NaN     NaN      NaN    1.0     NaN   NaN         NaN     NaN   \n",
       "5555      NaN   NaN     NaN      NaN    NaN     1.0   NaN         NaN     NaN   \n",
       "5556      NaN   NaN     NaN      NaN    NaN     NaN   NaN         NaN     NaN   \n",
       "5557      NaN   NaN     NaN      NaN    NaN     NaN   2.0         1.0     1.0   \n",
       "5558      NaN   NaN     NaN      NaN    NaN     NaN   NaN         NaN     NaN   \n",
       "\n",
       "      psychic  \n",
       "0         NaN  \n",
       "1         NaN  \n",
       "2         NaN  \n",
       "3         NaN  \n",
       "4         NaN  \n",
       "...       ...  \n",
       "5554      NaN  \n",
       "5555      NaN  \n",
       "5556      NaN  \n",
       "5557      1.0  \n",
       "5558      NaN  \n",
       "\n",
       "[5559 rows x 7737 columns]"
      ]
     },
     "execution_count": 40,
     "metadata": {},
     "output_type": "execute_result"
    }
   ],
   "source": [
    "df"
   ]
  },
  {
   "cell_type": "code",
   "execution_count": 41,
   "metadata": {
    "id": "93TK1MEkfD9n"
   },
   "outputs": [],
   "source": [
    "df.fillna(0, inplace=True) # fill NaN with 0"
   ]
  },
  {
   "cell_type": "code",
   "execution_count": 42,
   "metadata": {
    "colab": {
     "base_uri": "https://localhost:8080/",
     "height": 424
    },
    "id": "X1gC3LLgfK9u",
    "outputId": "b45d3ac5-69ad-46be-a0e2-e017c69b2094"
   },
   "outputs": [
    {
     "data": {
      "text/html": [
       "<div>\n",
       "<style scoped>\n",
       "    .dataframe tbody tr th:only-of-type {\n",
       "        vertical-align: middle;\n",
       "    }\n",
       "\n",
       "    .dataframe tbody tr th {\n",
       "        vertical-align: top;\n",
       "    }\n",
       "\n",
       "    .dataframe thead th {\n",
       "        text-align: right;\n",
       "    }\n",
       "</style>\n",
       "<table border=\"1\" class=\"dataframe\">\n",
       "  <thead>\n",
       "    <tr style=\"text-align: right;\">\n",
       "      <th></th>\n",
       "      <th>hope</th>\n",
       "      <th>you</th>\n",
       "      <th>are</th>\n",
       "      <th>having</th>\n",
       "      <th>a</th>\n",
       "      <th>good</th>\n",
       "      <th>week</th>\n",
       "      <th>just</th>\n",
       "      <th>checking</th>\n",
       "      <th>in</th>\n",
       "      <th>...</th>\n",
       "      <th>blanket</th>\n",
       "      <th>sang</th>\n",
       "      <th>uptown</th>\n",
       "      <th>pounded</th>\n",
       "      <th>young</th>\n",
       "      <th>diesel</th>\n",
       "      <th>jsco</th>\n",
       "      <th>leadership</th>\n",
       "      <th>skills</th>\n",
       "      <th>psychic</th>\n",
       "    </tr>\n",
       "  </thead>\n",
       "  <tbody>\n",
       "    <tr>\n",
       "      <th>0</th>\n",
       "      <td>1.0</td>\n",
       "      <td>1.0</td>\n",
       "      <td>1.0</td>\n",
       "      <td>1.0</td>\n",
       "      <td>1.0</td>\n",
       "      <td>1.0</td>\n",
       "      <td>1.0</td>\n",
       "      <td>1.0</td>\n",
       "      <td>1.0</td>\n",
       "      <td>1.0</td>\n",
       "      <td>...</td>\n",
       "      <td>0.0</td>\n",
       "      <td>0.0</td>\n",
       "      <td>0.0</td>\n",
       "      <td>0.0</td>\n",
       "      <td>0.0</td>\n",
       "      <td>0.0</td>\n",
       "      <td>0.0</td>\n",
       "      <td>0.0</td>\n",
       "      <td>0.0</td>\n",
       "      <td>0.0</td>\n",
       "    </tr>\n",
       "    <tr>\n",
       "      <th>1</th>\n",
       "      <td>0.0</td>\n",
       "      <td>0.0</td>\n",
       "      <td>0.0</td>\n",
       "      <td>0.0</td>\n",
       "      <td>0.0</td>\n",
       "      <td>0.0</td>\n",
       "      <td>0.0</td>\n",
       "      <td>0.0</td>\n",
       "      <td>0.0</td>\n",
       "      <td>0.0</td>\n",
       "      <td>...</td>\n",
       "      <td>0.0</td>\n",
       "      <td>0.0</td>\n",
       "      <td>0.0</td>\n",
       "      <td>0.0</td>\n",
       "      <td>0.0</td>\n",
       "      <td>0.0</td>\n",
       "      <td>0.0</td>\n",
       "      <td>0.0</td>\n",
       "      <td>0.0</td>\n",
       "      <td>0.0</td>\n",
       "    </tr>\n",
       "    <tr>\n",
       "      <th>2</th>\n",
       "      <td>0.0</td>\n",
       "      <td>0.0</td>\n",
       "      <td>0.0</td>\n",
       "      <td>0.0</td>\n",
       "      <td>0.0</td>\n",
       "      <td>0.0</td>\n",
       "      <td>0.0</td>\n",
       "      <td>0.0</td>\n",
       "      <td>0.0</td>\n",
       "      <td>1.0</td>\n",
       "      <td>...</td>\n",
       "      <td>0.0</td>\n",
       "      <td>0.0</td>\n",
       "      <td>0.0</td>\n",
       "      <td>0.0</td>\n",
       "      <td>0.0</td>\n",
       "      <td>0.0</td>\n",
       "      <td>0.0</td>\n",
       "      <td>0.0</td>\n",
       "      <td>0.0</td>\n",
       "      <td>0.0</td>\n",
       "    </tr>\n",
       "    <tr>\n",
       "      <th>3</th>\n",
       "      <td>0.0</td>\n",
       "      <td>0.0</td>\n",
       "      <td>0.0</td>\n",
       "      <td>0.0</td>\n",
       "      <td>0.0</td>\n",
       "      <td>0.0</td>\n",
       "      <td>0.0</td>\n",
       "      <td>0.0</td>\n",
       "      <td>0.0</td>\n",
       "      <td>0.0</td>\n",
       "      <td>...</td>\n",
       "      <td>0.0</td>\n",
       "      <td>0.0</td>\n",
       "      <td>0.0</td>\n",
       "      <td>0.0</td>\n",
       "      <td>0.0</td>\n",
       "      <td>0.0</td>\n",
       "      <td>0.0</td>\n",
       "      <td>0.0</td>\n",
       "      <td>0.0</td>\n",
       "      <td>0.0</td>\n",
       "    </tr>\n",
       "    <tr>\n",
       "      <th>4</th>\n",
       "      <td>0.0</td>\n",
       "      <td>0.0</td>\n",
       "      <td>0.0</td>\n",
       "      <td>0.0</td>\n",
       "      <td>0.0</td>\n",
       "      <td>0.0</td>\n",
       "      <td>0.0</td>\n",
       "      <td>0.0</td>\n",
       "      <td>0.0</td>\n",
       "      <td>0.0</td>\n",
       "      <td>...</td>\n",
       "      <td>0.0</td>\n",
       "      <td>0.0</td>\n",
       "      <td>0.0</td>\n",
       "      <td>0.0</td>\n",
       "      <td>0.0</td>\n",
       "      <td>0.0</td>\n",
       "      <td>0.0</td>\n",
       "      <td>0.0</td>\n",
       "      <td>0.0</td>\n",
       "      <td>0.0</td>\n",
       "    </tr>\n",
       "    <tr>\n",
       "      <th>...</th>\n",
       "      <td>...</td>\n",
       "      <td>...</td>\n",
       "      <td>...</td>\n",
       "      <td>...</td>\n",
       "      <td>...</td>\n",
       "      <td>...</td>\n",
       "      <td>...</td>\n",
       "      <td>...</td>\n",
       "      <td>...</td>\n",
       "      <td>...</td>\n",
       "      <td>...</td>\n",
       "      <td>...</td>\n",
       "      <td>...</td>\n",
       "      <td>...</td>\n",
       "      <td>...</td>\n",
       "      <td>...</td>\n",
       "      <td>...</td>\n",
       "      <td>...</td>\n",
       "      <td>...</td>\n",
       "      <td>...</td>\n",
       "      <td>...</td>\n",
       "    </tr>\n",
       "    <tr>\n",
       "      <th>5554</th>\n",
       "      <td>0.0</td>\n",
       "      <td>3.0</td>\n",
       "      <td>2.0</td>\n",
       "      <td>0.0</td>\n",
       "      <td>4.0</td>\n",
       "      <td>0.0</td>\n",
       "      <td>0.0</td>\n",
       "      <td>0.0</td>\n",
       "      <td>0.0</td>\n",
       "      <td>0.0</td>\n",
       "      <td>...</td>\n",
       "      <td>0.0</td>\n",
       "      <td>0.0</td>\n",
       "      <td>0.0</td>\n",
       "      <td>0.0</td>\n",
       "      <td>1.0</td>\n",
       "      <td>0.0</td>\n",
       "      <td>0.0</td>\n",
       "      <td>0.0</td>\n",
       "      <td>0.0</td>\n",
       "      <td>0.0</td>\n",
       "    </tr>\n",
       "    <tr>\n",
       "      <th>5555</th>\n",
       "      <td>0.0</td>\n",
       "      <td>0.0</td>\n",
       "      <td>0.0</td>\n",
       "      <td>0.0</td>\n",
       "      <td>0.0</td>\n",
       "      <td>0.0</td>\n",
       "      <td>0.0</td>\n",
       "      <td>0.0</td>\n",
       "      <td>0.0</td>\n",
       "      <td>0.0</td>\n",
       "      <td>...</td>\n",
       "      <td>0.0</td>\n",
       "      <td>0.0</td>\n",
       "      <td>0.0</td>\n",
       "      <td>0.0</td>\n",
       "      <td>0.0</td>\n",
       "      <td>1.0</td>\n",
       "      <td>0.0</td>\n",
       "      <td>0.0</td>\n",
       "      <td>0.0</td>\n",
       "      <td>0.0</td>\n",
       "    </tr>\n",
       "    <tr>\n",
       "      <th>5556</th>\n",
       "      <td>0.0</td>\n",
       "      <td>1.0</td>\n",
       "      <td>0.0</td>\n",
       "      <td>0.0</td>\n",
       "      <td>0.0</td>\n",
       "      <td>0.0</td>\n",
       "      <td>0.0</td>\n",
       "      <td>0.0</td>\n",
       "      <td>0.0</td>\n",
       "      <td>0.0</td>\n",
       "      <td>...</td>\n",
       "      <td>0.0</td>\n",
       "      <td>0.0</td>\n",
       "      <td>0.0</td>\n",
       "      <td>0.0</td>\n",
       "      <td>0.0</td>\n",
       "      <td>0.0</td>\n",
       "      <td>0.0</td>\n",
       "      <td>0.0</td>\n",
       "      <td>0.0</td>\n",
       "      <td>0.0</td>\n",
       "    </tr>\n",
       "    <tr>\n",
       "      <th>5557</th>\n",
       "      <td>0.0</td>\n",
       "      <td>0.0</td>\n",
       "      <td>0.0</td>\n",
       "      <td>0.0</td>\n",
       "      <td>0.0</td>\n",
       "      <td>0.0</td>\n",
       "      <td>0.0</td>\n",
       "      <td>0.0</td>\n",
       "      <td>0.0</td>\n",
       "      <td>0.0</td>\n",
       "      <td>...</td>\n",
       "      <td>0.0</td>\n",
       "      <td>0.0</td>\n",
       "      <td>0.0</td>\n",
       "      <td>0.0</td>\n",
       "      <td>0.0</td>\n",
       "      <td>0.0</td>\n",
       "      <td>2.0</td>\n",
       "      <td>1.0</td>\n",
       "      <td>1.0</td>\n",
       "      <td>1.0</td>\n",
       "    </tr>\n",
       "    <tr>\n",
       "      <th>5558</th>\n",
       "      <td>0.0</td>\n",
       "      <td>0.0</td>\n",
       "      <td>0.0</td>\n",
       "      <td>1.0</td>\n",
       "      <td>0.0</td>\n",
       "      <td>0.0</td>\n",
       "      <td>0.0</td>\n",
       "      <td>0.0</td>\n",
       "      <td>0.0</td>\n",
       "      <td>0.0</td>\n",
       "      <td>...</td>\n",
       "      <td>0.0</td>\n",
       "      <td>0.0</td>\n",
       "      <td>0.0</td>\n",
       "      <td>0.0</td>\n",
       "      <td>0.0</td>\n",
       "      <td>0.0</td>\n",
       "      <td>0.0</td>\n",
       "      <td>0.0</td>\n",
       "      <td>0.0</td>\n",
       "      <td>0.0</td>\n",
       "    </tr>\n",
       "  </tbody>\n",
       "</table>\n",
       "<p>5559 rows × 7737 columns</p>\n",
       "</div>"
      ],
      "text/plain": [
       "      hope  you  are  having    a  good  week  just  checking   in  ...  \\\n",
       "0      1.0  1.0  1.0     1.0  1.0   1.0   1.0   1.0       1.0  1.0  ...   \n",
       "1      0.0  0.0  0.0     0.0  0.0   0.0   0.0   0.0       0.0  0.0  ...   \n",
       "2      0.0  0.0  0.0     0.0  0.0   0.0   0.0   0.0       0.0  1.0  ...   \n",
       "3      0.0  0.0  0.0     0.0  0.0   0.0   0.0   0.0       0.0  0.0  ...   \n",
       "4      0.0  0.0  0.0     0.0  0.0   0.0   0.0   0.0       0.0  0.0  ...   \n",
       "...    ...  ...  ...     ...  ...   ...   ...   ...       ...  ...  ...   \n",
       "5554   0.0  3.0  2.0     0.0  4.0   0.0   0.0   0.0       0.0  0.0  ...   \n",
       "5555   0.0  0.0  0.0     0.0  0.0   0.0   0.0   0.0       0.0  0.0  ...   \n",
       "5556   0.0  1.0  0.0     0.0  0.0   0.0   0.0   0.0       0.0  0.0  ...   \n",
       "5557   0.0  0.0  0.0     0.0  0.0   0.0   0.0   0.0       0.0  0.0  ...   \n",
       "5558   0.0  0.0  0.0     1.0  0.0   0.0   0.0   0.0       0.0  0.0  ...   \n",
       "\n",
       "      blanket  sang  uptown  pounded  young  diesel  jsco  leadership  skills  \\\n",
       "0         0.0   0.0     0.0      0.0    0.0     0.0   0.0         0.0     0.0   \n",
       "1         0.0   0.0     0.0      0.0    0.0     0.0   0.0         0.0     0.0   \n",
       "2         0.0   0.0     0.0      0.0    0.0     0.0   0.0         0.0     0.0   \n",
       "3         0.0   0.0     0.0      0.0    0.0     0.0   0.0         0.0     0.0   \n",
       "4         0.0   0.0     0.0      0.0    0.0     0.0   0.0         0.0     0.0   \n",
       "...       ...   ...     ...      ...    ...     ...   ...         ...     ...   \n",
       "5554      0.0   0.0     0.0      0.0    1.0     0.0   0.0         0.0     0.0   \n",
       "5555      0.0   0.0     0.0      0.0    0.0     1.0   0.0         0.0     0.0   \n",
       "5556      0.0   0.0     0.0      0.0    0.0     0.0   0.0         0.0     0.0   \n",
       "5557      0.0   0.0     0.0      0.0    0.0     0.0   2.0         1.0     1.0   \n",
       "5558      0.0   0.0     0.0      0.0    0.0     0.0   0.0         0.0     0.0   \n",
       "\n",
       "      psychic  \n",
       "0         0.0  \n",
       "1         0.0  \n",
       "2         0.0  \n",
       "3         0.0  \n",
       "4         0.0  \n",
       "...       ...  \n",
       "5554      0.0  \n",
       "5555      0.0  \n",
       "5556      0.0  \n",
       "5557      1.0  \n",
       "5558      0.0  \n",
       "\n",
       "[5559 rows x 7737 columns]"
      ]
     },
     "execution_count": 42,
     "metadata": {},
     "output_type": "execute_result"
    }
   ],
   "source": [
    "df"
   ]
  },
  {
   "cell_type": "code",
   "execution_count": 43,
   "metadata": {
    "colab": {
     "base_uri": "https://localhost:8080/"
    },
    "id": "LKDIco91y7rx",
    "outputId": "8e4fae30-8095-43e0-e888-143ac8d00321"
   },
   "outputs": [
    {
     "data": {
      "text/plain": [
       "Index(['hope', 'you', 'are', 'having', 'a', 'good', 'week', 'just', 'checking',\n",
       "       'in',\n",
       "       ...\n",
       "       'blanket', 'sang', 'uptown', 'pounded', 'young', 'diesel', 'jsco',\n",
       "       'leadership', 'skills', 'psychic'],\n",
       "      dtype='object', length=7737)"
      ]
     },
     "execution_count": 43,
     "metadata": {},
     "output_type": "execute_result"
    }
   ],
   "source": [
    "df.columns"
   ]
  },
  {
   "cell_type": "code",
   "execution_count": 44,
   "metadata": {
    "colab": {
     "base_uri": "https://localhost:8080/",
     "height": 458
    },
    "id": "en5qTmIPYArC",
    "outputId": "e6cc0e44-dbb0-49a5-a5c4-0a8cb3c67e47"
   },
   "outputs": [
    {
     "data": {
      "text/plain": [
       "hope          float64\n",
       "you           float64\n",
       "are           float64\n",
       "having        float64\n",
       "a             float64\n",
       "               ...   \n",
       "diesel        float64\n",
       "jsco          float64\n",
       "leadership    float64\n",
       "skills        float64\n",
       "psychic       float64\n",
       "Length: 7737, dtype: object"
      ]
     },
     "execution_count": 44,
     "metadata": {},
     "output_type": "execute_result"
    }
   ],
   "source": [
    "df.dtypes"
   ]
  },
  {
   "cell_type": "code",
   "execution_count": 45,
   "metadata": {
    "colab": {
     "base_uri": "https://localhost:8080/",
     "height": 458
    },
    "id": "j9qZqJmsWMRq",
    "outputId": "7d8ad009-0dd4-4f13-e4e9-8322c3a5ed1b"
   },
   "outputs": [
    {
     "data": {
      "text/plain": [
       "0       0.0\n",
       "1       0.0\n",
       "2       0.0\n",
       "3       0.0\n",
       "4       0.0\n",
       "       ... \n",
       "5554    0.0\n",
       "5555    0.0\n",
       "5556    0.0\n",
       "5557    0.0\n",
       "5558    0.0\n",
       "Name: spam, Length: 5559, dtype: float64"
      ]
     },
     "execution_count": 45,
     "metadata": {},
     "output_type": "execute_result"
    }
   ],
   "source": [
    "df['spam']"
   ]
  },
  {
   "cell_type": "code",
   "execution_count": 46,
   "metadata": {
    "colab": {
     "base_uri": "https://localhost:8080/",
     "height": 458
    },
    "id": "cTf3Oo_QowoK",
    "outputId": "bc557ab0-6ca8-48c6-a0db-92c17ec068fa"
   },
   "outputs": [
    {
     "data": {
      "text/plain": [
       "hope          1.0\n",
       "you           1.0\n",
       "are           1.0\n",
       "having        1.0\n",
       "a             1.0\n",
       "             ... \n",
       "diesel        0.0\n",
       "jsco          0.0\n",
       "leadership    0.0\n",
       "skills        0.0\n",
       "psychic       0.0\n",
       "Name: 0, Length: 7737, dtype: float64"
      ]
     },
     "execution_count": 46,
     "metadata": {},
     "output_type": "execute_result"
    }
   ],
   "source": [
    "df.iloc[0,:]"
   ]
  },
  {
   "cell_type": "code",
   "execution_count": 47,
   "metadata": {
    "colab": {
     "base_uri": "https://localhost:8080/",
     "height": 424
    },
    "id": "F8QIzZ6qQFVM",
    "outputId": "37af04cd-2beb-4ea3-bbd9-ede281b123a6"
   },
   "outputs": [
    {
     "data": {
      "text/html": [
       "<div>\n",
       "<style scoped>\n",
       "    .dataframe tbody tr th:only-of-type {\n",
       "        vertical-align: middle;\n",
       "    }\n",
       "\n",
       "    .dataframe tbody tr th {\n",
       "        vertical-align: top;\n",
       "    }\n",
       "\n",
       "    .dataframe thead th {\n",
       "        text-align: right;\n",
       "    }\n",
       "</style>\n",
       "<table border=\"1\" class=\"dataframe\">\n",
       "  <thead>\n",
       "    <tr style=\"text-align: right;\">\n",
       "      <th></th>\n",
       "      <th>ham</th>\n",
       "      <th>spam</th>\n",
       "    </tr>\n",
       "  </thead>\n",
       "  <tbody>\n",
       "    <tr>\n",
       "      <th>0</th>\n",
       "      <td>0.0</td>\n",
       "      <td>0.0</td>\n",
       "    </tr>\n",
       "    <tr>\n",
       "      <th>1</th>\n",
       "      <td>0.0</td>\n",
       "      <td>0.0</td>\n",
       "    </tr>\n",
       "    <tr>\n",
       "      <th>2</th>\n",
       "      <td>0.0</td>\n",
       "      <td>0.0</td>\n",
       "    </tr>\n",
       "    <tr>\n",
       "      <th>3</th>\n",
       "      <td>0.0</td>\n",
       "      <td>0.0</td>\n",
       "    </tr>\n",
       "    <tr>\n",
       "      <th>4</th>\n",
       "      <td>0.0</td>\n",
       "      <td>0.0</td>\n",
       "    </tr>\n",
       "    <tr>\n",
       "      <th>...</th>\n",
       "      <td>...</td>\n",
       "      <td>...</td>\n",
       "    </tr>\n",
       "    <tr>\n",
       "      <th>5554</th>\n",
       "      <td>0.0</td>\n",
       "      <td>0.0</td>\n",
       "    </tr>\n",
       "    <tr>\n",
       "      <th>5555</th>\n",
       "      <td>0.0</td>\n",
       "      <td>0.0</td>\n",
       "    </tr>\n",
       "    <tr>\n",
       "      <th>5556</th>\n",
       "      <td>0.0</td>\n",
       "      <td>0.0</td>\n",
       "    </tr>\n",
       "    <tr>\n",
       "      <th>5557</th>\n",
       "      <td>0.0</td>\n",
       "      <td>0.0</td>\n",
       "    </tr>\n",
       "    <tr>\n",
       "      <th>5558</th>\n",
       "      <td>0.0</td>\n",
       "      <td>0.0</td>\n",
       "    </tr>\n",
       "  </tbody>\n",
       "</table>\n",
       "<p>5559 rows × 2 columns</p>\n",
       "</div>"
      ],
      "text/plain": [
       "      ham  spam\n",
       "0     0.0   0.0\n",
       "1     0.0   0.0\n",
       "2     0.0   0.0\n",
       "3     0.0   0.0\n",
       "4     0.0   0.0\n",
       "...   ...   ...\n",
       "5554  0.0   0.0\n",
       "5555  0.0   0.0\n",
       "5556  0.0   0.0\n",
       "5557  0.0   0.0\n",
       "5558  0.0   0.0\n",
       "\n",
       "[5559 rows x 2 columns]"
      ]
     },
     "execution_count": 47,
     "metadata": {},
     "output_type": "execute_result"
    }
   ],
   "source": [
    "df.loc[:, ['ham', 'spam']] # Just checking if \"ham\" and \"spam\" are in email text (now as columns)"
   ]
  },
  {
   "cell_type": "code",
   "execution_count": 48,
   "metadata": {
    "colab": {
     "base_uri": "https://localhost:8080/",
     "height": 458
    },
    "id": "MJC1VeCBeN-v",
    "outputId": "39af0918-2786-4ef6-8b69-03e1ee6979cc"
   },
   "outputs": [
    {
     "data": {
      "text/plain": [
       "0       0.0\n",
       "1       0.0\n",
       "2       0.0\n",
       "3       0.0\n",
       "4       0.0\n",
       "       ... \n",
       "5554    0.0\n",
       "5555    0.0\n",
       "5556    0.0\n",
       "5557    0.0\n",
       "5558    0.0\n",
       "Name: spam, Length: 5559, dtype: float64"
      ]
     },
     "execution_count": 48,
     "metadata": {},
     "output_type": "execute_result"
    }
   ],
   "source": [
    "df.loc[:, 'spam']"
   ]
  },
  {
   "cell_type": "code",
   "execution_count": 49,
   "metadata": {
    "colab": {
     "base_uri": "https://localhost:8080/"
    },
    "id": "7g7270TX1UGw",
    "outputId": "ca40a721-3e4e-4e2f-b3fe-c263854579eb"
   },
   "outputs": [
    {
     "data": {
      "text/plain": [
       "dtype('int64')"
      ]
     },
     "execution_count": 49,
     "metadata": {},
     "output_type": "execute_result"
    }
   ],
   "source": [
    "df['Target'].dtypes"
   ]
  },
  {
   "cell_type": "code",
   "execution_count": 50,
   "metadata": {
    "colab": {
     "base_uri": "https://localhost:8080/",
     "height": 115
    },
    "id": "k3icofRc5fGR",
    "outputId": "2760840a-400c-4e7b-f5c7-90dcd09e8de3"
   },
   "outputs": [
    {
     "data": {
      "text/plain": [
       "Target    0\n",
       "dtype: int64"
      ]
     },
     "execution_count": 50,
     "metadata": {},
     "output_type": "execute_result"
    }
   ],
   "source": [
    "df.loc[:, [\"Target\"]].isnull().sum()"
   ]
  },
  {
   "cell_type": "code",
   "execution_count": 51,
   "metadata": {
    "colab": {
     "base_uri": "https://localhost:8080/",
     "height": 110
    },
    "id": "rNuPwW_c6O3s",
    "outputId": "87939aca-209a-4d93-9a2c-6803fbaea72c"
   },
   "outputs": [
    {
     "data": {
      "text/html": [
       "<div>\n",
       "<style scoped>\n",
       "    .dataframe tbody tr th:only-of-type {\n",
       "        vertical-align: middle;\n",
       "    }\n",
       "\n",
       "    .dataframe tbody tr th {\n",
       "        vertical-align: top;\n",
       "    }\n",
       "\n",
       "    .dataframe thead th {\n",
       "        text-align: right;\n",
       "    }\n",
       "</style>\n",
       "<table border=\"1\" class=\"dataframe\">\n",
       "  <thead>\n",
       "    <tr style=\"text-align: right;\">\n",
       "      <th></th>\n",
       "      <th>hope</th>\n",
       "      <th>you</th>\n",
       "      <th>are</th>\n",
       "      <th>having</th>\n",
       "      <th>a</th>\n",
       "      <th>good</th>\n",
       "      <th>week</th>\n",
       "      <th>just</th>\n",
       "      <th>checking</th>\n",
       "      <th>in</th>\n",
       "      <th>...</th>\n",
       "      <th>blanket</th>\n",
       "      <th>sang</th>\n",
       "      <th>uptown</th>\n",
       "      <th>pounded</th>\n",
       "      <th>young</th>\n",
       "      <th>diesel</th>\n",
       "      <th>jsco</th>\n",
       "      <th>leadership</th>\n",
       "      <th>skills</th>\n",
       "      <th>psychic</th>\n",
       "    </tr>\n",
       "  </thead>\n",
       "  <tbody>\n",
       "    <tr>\n",
       "      <th>0</th>\n",
       "      <td>1.0</td>\n",
       "      <td>1.0</td>\n",
       "      <td>1.0</td>\n",
       "      <td>1.0</td>\n",
       "      <td>1.0</td>\n",
       "      <td>1.0</td>\n",
       "      <td>1.0</td>\n",
       "      <td>1.0</td>\n",
       "      <td>1.0</td>\n",
       "      <td>1.0</td>\n",
       "      <td>...</td>\n",
       "      <td>0.0</td>\n",
       "      <td>0.0</td>\n",
       "      <td>0.0</td>\n",
       "      <td>0.0</td>\n",
       "      <td>0.0</td>\n",
       "      <td>0.0</td>\n",
       "      <td>0.0</td>\n",
       "      <td>0.0</td>\n",
       "      <td>0.0</td>\n",
       "      <td>0.0</td>\n",
       "    </tr>\n",
       "  </tbody>\n",
       "</table>\n",
       "<p>1 rows × 7737 columns</p>\n",
       "</div>"
      ],
      "text/plain": [
       "   hope  you  are  having    a  good  week  just  checking   in  ...  blanket  \\\n",
       "0   1.0  1.0  1.0     1.0  1.0   1.0   1.0   1.0       1.0  1.0  ...      0.0   \n",
       "\n",
       "   sang  uptown  pounded  young  diesel  jsco  leadership  skills  psychic  \n",
       "0   0.0     0.0      0.0    0.0     0.0   0.0         0.0     0.0      0.0  \n",
       "\n",
       "[1 rows x 7737 columns]"
      ]
     },
     "execution_count": 51,
     "metadata": {},
     "output_type": "execute_result"
    }
   ],
   "source": [
    "df.iloc[[0]]"
   ]
  },
  {
   "cell_type": "code",
   "execution_count": 52,
   "metadata": {
    "colab": {
     "base_uri": "https://localhost:8080/"
    },
    "id": "_fQKcaH773u2",
    "outputId": "fd41ef7c-5b7e-4c27-bfc2-e770430d36cc"
   },
   "outputs": [
    {
     "name": "stdout",
     "output_type": "stream",
     "text": [
      "      hope  you  are  having    a  good  week  just  checking   in  ...  sang  \\\n",
      "0      1.0  1.0  1.0     1.0  1.0   1.0   1.0   1.0       1.0  1.0  ...   0.0   \n",
      "1      0.0  0.0  0.0     0.0  0.0   0.0   0.0   0.0       0.0  0.0  ...   0.0   \n",
      "2      0.0  0.0  0.0     0.0  0.0   0.0   0.0   0.0       0.0  1.0  ...   0.0   \n",
      "3      0.0  0.0  0.0     0.0  0.0   0.0   0.0   0.0       0.0  0.0  ...   0.0   \n",
      "4      0.0  0.0  0.0     0.0  0.0   0.0   0.0   0.0       0.0  0.0  ...   0.0   \n",
      "...    ...  ...  ...     ...  ...   ...   ...   ...       ...  ...  ...   ...   \n",
      "5554   0.0  3.0  2.0     0.0  4.0   0.0   0.0   0.0       0.0  0.0  ...   0.0   \n",
      "5555   0.0  0.0  0.0     0.0  0.0   0.0   0.0   0.0       0.0  0.0  ...   0.0   \n",
      "5556   0.0  1.0  0.0     0.0  0.0   0.0   0.0   0.0       0.0  0.0  ...   0.0   \n",
      "5557   0.0  0.0  0.0     0.0  0.0   0.0   0.0   0.0       0.0  0.0  ...   0.0   \n",
      "5558   0.0  0.0  0.0     1.0  0.0   0.0   0.0   0.0       0.0  0.0  ...   0.0   \n",
      "\n",
      "      uptown  pounded  young  diesel  jsco  leadership  skills  psychic  \\\n",
      "0        0.0      0.0    0.0     0.0   0.0         0.0     0.0      0.0   \n",
      "1        0.0      0.0    0.0     0.0   0.0         0.0     0.0      0.0   \n",
      "2        0.0      0.0    0.0     0.0   0.0         0.0     0.0      0.0   \n",
      "3        0.0      0.0    0.0     0.0   0.0         0.0     0.0      0.0   \n",
      "4        0.0      0.0    0.0     0.0   0.0         0.0     0.0      0.0   \n",
      "...      ...      ...    ...     ...   ...         ...     ...      ...   \n",
      "5554     0.0      0.0    1.0     0.0   0.0         0.0     0.0      0.0   \n",
      "5555     0.0      0.0    0.0     1.0   0.0         0.0     0.0      0.0   \n",
      "5556     0.0      0.0    0.0     0.0   0.0         0.0     0.0      0.0   \n",
      "5557     0.0      0.0    0.0     0.0   2.0         1.0     1.0      1.0   \n",
      "5558     0.0      0.0    0.0     0.0   0.0         0.0     0.0      0.0   \n",
      "\n",
      "      Target  \n",
      "0          0  \n",
      "1          0  \n",
      "2          0  \n",
      "3          1  \n",
      "4          1  \n",
      "...      ...  \n",
      "5554       0  \n",
      "5555       0  \n",
      "5556       1  \n",
      "5557       1  \n",
      "5558       0  \n",
      "\n",
      "[5559 rows x 7737 columns]\n"
     ]
    }
   ],
   "source": [
    "# Move Target column to the end\n",
    "df = df[[col for col in df.columns if col != 'Target'] + ['Target']]\n",
    "print(df)"
   ]
  },
  {
   "cell_type": "code",
   "execution_count": 53,
   "metadata": {
    "colab": {
     "base_uri": "https://localhost:8080/"
    },
    "id": "6Libi6ML8WQl",
    "outputId": "fd59b506-01d0-4f9a-9dfd-7a74b0a8f704"
   },
   "outputs": [
    {
     "data": {
      "text/plain": [
       "Index(['hope', 'you', 'are', 'having', 'a', 'good', 'week', 'just', 'checking',\n",
       "       'in',\n",
       "       ...\n",
       "       'sang', 'uptown', 'pounded', 'young', 'diesel', 'jsco', 'leadership',\n",
       "       'skills', 'psychic', 'Target'],\n",
       "      dtype='object', length=7737)"
      ]
     },
     "execution_count": 53,
     "metadata": {},
     "output_type": "execute_result"
    }
   ],
   "source": [
    "df.columns\n"
   ]
  },
  {
   "cell_type": "code",
   "execution_count": 54,
   "metadata": {
    "colab": {
     "base_uri": "https://localhost:8080/",
     "height": 236
    },
    "id": "jjcfyC_s8h3o",
    "outputId": "c4502634-ff88-41ff-d52f-731f8dd73365"
   },
   "outputs": [
    {
     "data": {
      "text/html": [
       "<div>\n",
       "<style scoped>\n",
       "    .dataframe tbody tr th:only-of-type {\n",
       "        vertical-align: middle;\n",
       "    }\n",
       "\n",
       "    .dataframe tbody tr th {\n",
       "        vertical-align: top;\n",
       "    }\n",
       "\n",
       "    .dataframe thead th {\n",
       "        text-align: right;\n",
       "    }\n",
       "</style>\n",
       "<table border=\"1\" class=\"dataframe\">\n",
       "  <thead>\n",
       "    <tr style=\"text-align: right;\">\n",
       "      <th></th>\n",
       "      <th>hope</th>\n",
       "      <th>you</th>\n",
       "      <th>are</th>\n",
       "      <th>having</th>\n",
       "      <th>a</th>\n",
       "      <th>good</th>\n",
       "      <th>week</th>\n",
       "      <th>just</th>\n",
       "      <th>checking</th>\n",
       "      <th>in</th>\n",
       "      <th>...</th>\n",
       "      <th>sang</th>\n",
       "      <th>uptown</th>\n",
       "      <th>pounded</th>\n",
       "      <th>young</th>\n",
       "      <th>diesel</th>\n",
       "      <th>jsco</th>\n",
       "      <th>leadership</th>\n",
       "      <th>skills</th>\n",
       "      <th>psychic</th>\n",
       "      <th>Target</th>\n",
       "    </tr>\n",
       "  </thead>\n",
       "  <tbody>\n",
       "    <tr>\n",
       "      <th>0</th>\n",
       "      <td>1.0</td>\n",
       "      <td>1.0</td>\n",
       "      <td>1.0</td>\n",
       "      <td>1.0</td>\n",
       "      <td>1.0</td>\n",
       "      <td>1.0</td>\n",
       "      <td>1.0</td>\n",
       "      <td>1.0</td>\n",
       "      <td>1.0</td>\n",
       "      <td>1.0</td>\n",
       "      <td>...</td>\n",
       "      <td>0.0</td>\n",
       "      <td>0.0</td>\n",
       "      <td>0.0</td>\n",
       "      <td>0.0</td>\n",
       "      <td>0.0</td>\n",
       "      <td>0.0</td>\n",
       "      <td>0.0</td>\n",
       "      <td>0.0</td>\n",
       "      <td>0.0</td>\n",
       "      <td>0</td>\n",
       "    </tr>\n",
       "    <tr>\n",
       "      <th>1</th>\n",
       "      <td>0.0</td>\n",
       "      <td>0.0</td>\n",
       "      <td>0.0</td>\n",
       "      <td>0.0</td>\n",
       "      <td>0.0</td>\n",
       "      <td>0.0</td>\n",
       "      <td>0.0</td>\n",
       "      <td>0.0</td>\n",
       "      <td>0.0</td>\n",
       "      <td>0.0</td>\n",
       "      <td>...</td>\n",
       "      <td>0.0</td>\n",
       "      <td>0.0</td>\n",
       "      <td>0.0</td>\n",
       "      <td>0.0</td>\n",
       "      <td>0.0</td>\n",
       "      <td>0.0</td>\n",
       "      <td>0.0</td>\n",
       "      <td>0.0</td>\n",
       "      <td>0.0</td>\n",
       "      <td>0</td>\n",
       "    </tr>\n",
       "    <tr>\n",
       "      <th>2</th>\n",
       "      <td>0.0</td>\n",
       "      <td>0.0</td>\n",
       "      <td>0.0</td>\n",
       "      <td>0.0</td>\n",
       "      <td>0.0</td>\n",
       "      <td>0.0</td>\n",
       "      <td>0.0</td>\n",
       "      <td>0.0</td>\n",
       "      <td>0.0</td>\n",
       "      <td>1.0</td>\n",
       "      <td>...</td>\n",
       "      <td>0.0</td>\n",
       "      <td>0.0</td>\n",
       "      <td>0.0</td>\n",
       "      <td>0.0</td>\n",
       "      <td>0.0</td>\n",
       "      <td>0.0</td>\n",
       "      <td>0.0</td>\n",
       "      <td>0.0</td>\n",
       "      <td>0.0</td>\n",
       "      <td>0</td>\n",
       "    </tr>\n",
       "    <tr>\n",
       "      <th>3</th>\n",
       "      <td>0.0</td>\n",
       "      <td>0.0</td>\n",
       "      <td>0.0</td>\n",
       "      <td>0.0</td>\n",
       "      <td>0.0</td>\n",
       "      <td>0.0</td>\n",
       "      <td>0.0</td>\n",
       "      <td>0.0</td>\n",
       "      <td>0.0</td>\n",
       "      <td>0.0</td>\n",
       "      <td>...</td>\n",
       "      <td>0.0</td>\n",
       "      <td>0.0</td>\n",
       "      <td>0.0</td>\n",
       "      <td>0.0</td>\n",
       "      <td>0.0</td>\n",
       "      <td>0.0</td>\n",
       "      <td>0.0</td>\n",
       "      <td>0.0</td>\n",
       "      <td>0.0</td>\n",
       "      <td>1</td>\n",
       "    </tr>\n",
       "    <tr>\n",
       "      <th>4</th>\n",
       "      <td>0.0</td>\n",
       "      <td>0.0</td>\n",
       "      <td>0.0</td>\n",
       "      <td>0.0</td>\n",
       "      <td>0.0</td>\n",
       "      <td>0.0</td>\n",
       "      <td>0.0</td>\n",
       "      <td>0.0</td>\n",
       "      <td>0.0</td>\n",
       "      <td>0.0</td>\n",
       "      <td>...</td>\n",
       "      <td>0.0</td>\n",
       "      <td>0.0</td>\n",
       "      <td>0.0</td>\n",
       "      <td>0.0</td>\n",
       "      <td>0.0</td>\n",
       "      <td>0.0</td>\n",
       "      <td>0.0</td>\n",
       "      <td>0.0</td>\n",
       "      <td>0.0</td>\n",
       "      <td>1</td>\n",
       "    </tr>\n",
       "  </tbody>\n",
       "</table>\n",
       "<p>5 rows × 7737 columns</p>\n",
       "</div>"
      ],
      "text/plain": [
       "   hope  you  are  having    a  good  week  just  checking   in  ...  sang  \\\n",
       "0   1.0  1.0  1.0     1.0  1.0   1.0   1.0   1.0       1.0  1.0  ...   0.0   \n",
       "1   0.0  0.0  0.0     0.0  0.0   0.0   0.0   0.0       0.0  0.0  ...   0.0   \n",
       "2   0.0  0.0  0.0     0.0  0.0   0.0   0.0   0.0       0.0  1.0  ...   0.0   \n",
       "3   0.0  0.0  0.0     0.0  0.0   0.0   0.0   0.0       0.0  0.0  ...   0.0   \n",
       "4   0.0  0.0  0.0     0.0  0.0   0.0   0.0   0.0       0.0  0.0  ...   0.0   \n",
       "\n",
       "   uptown  pounded  young  diesel  jsco  leadership  skills  psychic  Target  \n",
       "0     0.0      0.0    0.0     0.0   0.0         0.0     0.0      0.0       0  \n",
       "1     0.0      0.0    0.0     0.0   0.0         0.0     0.0      0.0       0  \n",
       "2     0.0      0.0    0.0     0.0   0.0         0.0     0.0      0.0       0  \n",
       "3     0.0      0.0    0.0     0.0   0.0         0.0     0.0      0.0       1  \n",
       "4     0.0      0.0    0.0     0.0   0.0         0.0     0.0      0.0       1  \n",
       "\n",
       "[5 rows x 7737 columns]"
      ]
     },
     "execution_count": 54,
     "metadata": {},
     "output_type": "execute_result"
    }
   ],
   "source": [
    "df.head()"
   ]
  },
  {
   "cell_type": "code",
   "execution_count": 55,
   "metadata": {
    "colab": {
     "base_uri": "https://localhost:8080/",
     "height": 350
    },
    "id": "JlLv862_-8d7",
    "outputId": "66ebd658-edc4-4172-ba38-182fb8d35102"
   },
   "outputs": [
    {
     "data": {
      "text/html": [
       "<div>\n",
       "<style scoped>\n",
       "    .dataframe tbody tr th:only-of-type {\n",
       "        vertical-align: middle;\n",
       "    }\n",
       "\n",
       "    .dataframe tbody tr th {\n",
       "        vertical-align: top;\n",
       "    }\n",
       "\n",
       "    .dataframe thead th {\n",
       "        text-align: right;\n",
       "    }\n",
       "</style>\n",
       "<table border=\"1\" class=\"dataframe\">\n",
       "  <thead>\n",
       "    <tr style=\"text-align: right;\">\n",
       "      <th></th>\n",
       "      <th>hope</th>\n",
       "      <th>you</th>\n",
       "      <th>are</th>\n",
       "      <th>having</th>\n",
       "      <th>a</th>\n",
       "      <th>good</th>\n",
       "      <th>week</th>\n",
       "      <th>just</th>\n",
       "      <th>checking</th>\n",
       "      <th>in</th>\n",
       "      <th>...</th>\n",
       "      <th>sang</th>\n",
       "      <th>uptown</th>\n",
       "      <th>pounded</th>\n",
       "      <th>young</th>\n",
       "      <th>diesel</th>\n",
       "      <th>jsco</th>\n",
       "      <th>leadership</th>\n",
       "      <th>skills</th>\n",
       "      <th>psychic</th>\n",
       "      <th>Target</th>\n",
       "    </tr>\n",
       "  </thead>\n",
       "  <tbody>\n",
       "    <tr>\n",
       "      <th>count</th>\n",
       "      <td>5559.000000</td>\n",
       "      <td>5559.000000</td>\n",
       "      <td>5559.000000</td>\n",
       "      <td>5559.000000</td>\n",
       "      <td>5559.000000</td>\n",
       "      <td>5559.000000</td>\n",
       "      <td>5559.000000</td>\n",
       "      <td>5559.000000</td>\n",
       "      <td>5559.000000</td>\n",
       "      <td>5559.000000</td>\n",
       "      <td>...</td>\n",
       "      <td>5559.000000</td>\n",
       "      <td>5559.000000</td>\n",
       "      <td>5559.000000</td>\n",
       "      <td>5559.000000</td>\n",
       "      <td>5559.000000</td>\n",
       "      <td>5559.000000</td>\n",
       "      <td>5559.000000</td>\n",
       "      <td>5559.000000</td>\n",
       "      <td>5559.000000</td>\n",
       "      <td>5559.000000</td>\n",
       "    </tr>\n",
       "    <tr>\n",
       "      <th>mean</th>\n",
       "      <td>0.020507</td>\n",
       "      <td>0.402411</td>\n",
       "      <td>0.089045</td>\n",
       "      <td>0.007375</td>\n",
       "      <td>0.262817</td>\n",
       "      <td>0.044432</td>\n",
       "      <td>0.022666</td>\n",
       "      <td>0.067458</td>\n",
       "      <td>0.001979</td>\n",
       "      <td>0.162979</td>\n",
       "      <td>...</td>\n",
       "      <td>0.000180</td>\n",
       "      <td>0.000180</td>\n",
       "      <td>0.000180</td>\n",
       "      <td>0.000180</td>\n",
       "      <td>0.000180</td>\n",
       "      <td>0.000360</td>\n",
       "      <td>0.000180</td>\n",
       "      <td>0.000180</td>\n",
       "      <td>0.000180</td>\n",
       "      <td>0.134377</td>\n",
       "    </tr>\n",
       "    <tr>\n",
       "      <th>std</th>\n",
       "      <td>0.144257</td>\n",
       "      <td>0.797261</td>\n",
       "      <td>0.322739</td>\n",
       "      <td>0.085571</td>\n",
       "      <td>0.560327</td>\n",
       "      <td>0.218777</td>\n",
       "      <td>0.168147</td>\n",
       "      <td>0.259301</td>\n",
       "      <td>0.044443</td>\n",
       "      <td>0.415242</td>\n",
       "      <td>...</td>\n",
       "      <td>0.013412</td>\n",
       "      <td>0.013412</td>\n",
       "      <td>0.013412</td>\n",
       "      <td>0.013412</td>\n",
       "      <td>0.013412</td>\n",
       "      <td>0.026825</td>\n",
       "      <td>0.013412</td>\n",
       "      <td>0.013412</td>\n",
       "      <td>0.013412</td>\n",
       "      <td>0.341087</td>\n",
       "    </tr>\n",
       "    <tr>\n",
       "      <th>min</th>\n",
       "      <td>0.000000</td>\n",
       "      <td>0.000000</td>\n",
       "      <td>0.000000</td>\n",
       "      <td>0.000000</td>\n",
       "      <td>0.000000</td>\n",
       "      <td>0.000000</td>\n",
       "      <td>0.000000</td>\n",
       "      <td>0.000000</td>\n",
       "      <td>0.000000</td>\n",
       "      <td>0.000000</td>\n",
       "      <td>...</td>\n",
       "      <td>0.000000</td>\n",
       "      <td>0.000000</td>\n",
       "      <td>0.000000</td>\n",
       "      <td>0.000000</td>\n",
       "      <td>0.000000</td>\n",
       "      <td>0.000000</td>\n",
       "      <td>0.000000</td>\n",
       "      <td>0.000000</td>\n",
       "      <td>0.000000</td>\n",
       "      <td>0.000000</td>\n",
       "    </tr>\n",
       "    <tr>\n",
       "      <th>25%</th>\n",
       "      <td>0.000000</td>\n",
       "      <td>0.000000</td>\n",
       "      <td>0.000000</td>\n",
       "      <td>0.000000</td>\n",
       "      <td>0.000000</td>\n",
       "      <td>0.000000</td>\n",
       "      <td>0.000000</td>\n",
       "      <td>0.000000</td>\n",
       "      <td>0.000000</td>\n",
       "      <td>0.000000</td>\n",
       "      <td>...</td>\n",
       "      <td>0.000000</td>\n",
       "      <td>0.000000</td>\n",
       "      <td>0.000000</td>\n",
       "      <td>0.000000</td>\n",
       "      <td>0.000000</td>\n",
       "      <td>0.000000</td>\n",
       "      <td>0.000000</td>\n",
       "      <td>0.000000</td>\n",
       "      <td>0.000000</td>\n",
       "      <td>0.000000</td>\n",
       "    </tr>\n",
       "    <tr>\n",
       "      <th>50%</th>\n",
       "      <td>0.000000</td>\n",
       "      <td>0.000000</td>\n",
       "      <td>0.000000</td>\n",
       "      <td>0.000000</td>\n",
       "      <td>0.000000</td>\n",
       "      <td>0.000000</td>\n",
       "      <td>0.000000</td>\n",
       "      <td>0.000000</td>\n",
       "      <td>0.000000</td>\n",
       "      <td>0.000000</td>\n",
       "      <td>...</td>\n",
       "      <td>0.000000</td>\n",
       "      <td>0.000000</td>\n",
       "      <td>0.000000</td>\n",
       "      <td>0.000000</td>\n",
       "      <td>0.000000</td>\n",
       "      <td>0.000000</td>\n",
       "      <td>0.000000</td>\n",
       "      <td>0.000000</td>\n",
       "      <td>0.000000</td>\n",
       "      <td>0.000000</td>\n",
       "    </tr>\n",
       "    <tr>\n",
       "      <th>75%</th>\n",
       "      <td>0.000000</td>\n",
       "      <td>1.000000</td>\n",
       "      <td>0.000000</td>\n",
       "      <td>0.000000</td>\n",
       "      <td>0.000000</td>\n",
       "      <td>0.000000</td>\n",
       "      <td>0.000000</td>\n",
       "      <td>0.000000</td>\n",
       "      <td>0.000000</td>\n",
       "      <td>0.000000</td>\n",
       "      <td>...</td>\n",
       "      <td>0.000000</td>\n",
       "      <td>0.000000</td>\n",
       "      <td>0.000000</td>\n",
       "      <td>0.000000</td>\n",
       "      <td>0.000000</td>\n",
       "      <td>0.000000</td>\n",
       "      <td>0.000000</td>\n",
       "      <td>0.000000</td>\n",
       "      <td>0.000000</td>\n",
       "      <td>0.000000</td>\n",
       "    </tr>\n",
       "    <tr>\n",
       "      <th>max</th>\n",
       "      <td>2.000000</td>\n",
       "      <td>14.000000</td>\n",
       "      <td>5.000000</td>\n",
       "      <td>1.000000</td>\n",
       "      <td>4.000000</td>\n",
       "      <td>3.000000</td>\n",
       "      <td>3.000000</td>\n",
       "      <td>3.000000</td>\n",
       "      <td>1.000000</td>\n",
       "      <td>3.000000</td>\n",
       "      <td>...</td>\n",
       "      <td>1.000000</td>\n",
       "      <td>1.000000</td>\n",
       "      <td>1.000000</td>\n",
       "      <td>1.000000</td>\n",
       "      <td>1.000000</td>\n",
       "      <td>2.000000</td>\n",
       "      <td>1.000000</td>\n",
       "      <td>1.000000</td>\n",
       "      <td>1.000000</td>\n",
       "      <td>1.000000</td>\n",
       "    </tr>\n",
       "  </tbody>\n",
       "</table>\n",
       "<p>8 rows × 7737 columns</p>\n",
       "</div>"
      ],
      "text/plain": [
       "              hope          you          are       having            a  \\\n",
       "count  5559.000000  5559.000000  5559.000000  5559.000000  5559.000000   \n",
       "mean      0.020507     0.402411     0.089045     0.007375     0.262817   \n",
       "std       0.144257     0.797261     0.322739     0.085571     0.560327   \n",
       "min       0.000000     0.000000     0.000000     0.000000     0.000000   \n",
       "25%       0.000000     0.000000     0.000000     0.000000     0.000000   \n",
       "50%       0.000000     0.000000     0.000000     0.000000     0.000000   \n",
       "75%       0.000000     1.000000     0.000000     0.000000     0.000000   \n",
       "max       2.000000    14.000000     5.000000     1.000000     4.000000   \n",
       "\n",
       "              good         week         just     checking           in  ...  \\\n",
       "count  5559.000000  5559.000000  5559.000000  5559.000000  5559.000000  ...   \n",
       "mean      0.044432     0.022666     0.067458     0.001979     0.162979  ...   \n",
       "std       0.218777     0.168147     0.259301     0.044443     0.415242  ...   \n",
       "min       0.000000     0.000000     0.000000     0.000000     0.000000  ...   \n",
       "25%       0.000000     0.000000     0.000000     0.000000     0.000000  ...   \n",
       "50%       0.000000     0.000000     0.000000     0.000000     0.000000  ...   \n",
       "75%       0.000000     0.000000     0.000000     0.000000     0.000000  ...   \n",
       "max       3.000000     3.000000     3.000000     1.000000     3.000000  ...   \n",
       "\n",
       "              sang       uptown      pounded        young       diesel  \\\n",
       "count  5559.000000  5559.000000  5559.000000  5559.000000  5559.000000   \n",
       "mean      0.000180     0.000180     0.000180     0.000180     0.000180   \n",
       "std       0.013412     0.013412     0.013412     0.013412     0.013412   \n",
       "min       0.000000     0.000000     0.000000     0.000000     0.000000   \n",
       "25%       0.000000     0.000000     0.000000     0.000000     0.000000   \n",
       "50%       0.000000     0.000000     0.000000     0.000000     0.000000   \n",
       "75%       0.000000     0.000000     0.000000     0.000000     0.000000   \n",
       "max       1.000000     1.000000     1.000000     1.000000     1.000000   \n",
       "\n",
       "              jsco   leadership       skills      psychic       Target  \n",
       "count  5559.000000  5559.000000  5559.000000  5559.000000  5559.000000  \n",
       "mean      0.000360     0.000180     0.000180     0.000180     0.134377  \n",
       "std       0.026825     0.013412     0.013412     0.013412     0.341087  \n",
       "min       0.000000     0.000000     0.000000     0.000000     0.000000  \n",
       "25%       0.000000     0.000000     0.000000     0.000000     0.000000  \n",
       "50%       0.000000     0.000000     0.000000     0.000000     0.000000  \n",
       "75%       0.000000     0.000000     0.000000     0.000000     0.000000  \n",
       "max       2.000000     1.000000     1.000000     1.000000     1.000000  \n",
       "\n",
       "[8 rows x 7737 columns]"
      ]
     },
     "execution_count": 55,
     "metadata": {},
     "output_type": "execute_result"
    }
   ],
   "source": [
    "df.describe()"
   ]
  },
  {
   "cell_type": "code",
   "execution_count": 56,
   "metadata": {
    "colab": {
     "base_uri": "https://localhost:8080/",
     "height": 178
    },
    "id": "9emR0NGqATRI",
    "outputId": "32a65efb-1949-4a3b-b32e-4062f9ddf1e4"
   },
   "outputs": [
    {
     "data": {
      "text/plain": [
       "Target\n",
       "0    4812\n",
       "1     747\n",
       "Name: count, dtype: int64"
      ]
     },
     "execution_count": 56,
     "metadata": {},
     "output_type": "execute_result"
    }
   ],
   "source": [
    "df['Target'].value_counts()"
   ]
  },
  {
   "cell_type": "code",
   "execution_count": 57,
   "metadata": {
    "colab": {
     "base_uri": "https://localhost:8080/",
     "height": 314
    },
    "id": "0VCGkLLlmf6S",
    "outputId": "23caa0d3-4325-42ef-f63a-cd298c8f8b9c"
   },
   "outputs": [
    {
     "data": {
      "image/png": "[encoded data removed]",
      "text/plain": [
       "<Figure size 600x300 with 1 Axes>"
      ]
     },
     "metadata": {},
     "output_type": "display_data"
    }
   ],
   "source": [
    "plt.figure(figsize=(6, 3))\n",
    "sb.countplot(x = 'Target',\n",
    "            data = df)\n",
    "plt.xticks([1,0],['Spam','Ham'])\n",
    "plt.show()"
   ]
  },
  {
   "cell_type": "markdown",
   "metadata": {
    "id": "USWok79xqBsy"
   },
   "source": [
    "- Analyzing the distribution of the target labels (ham vs. spam) helps understand the balance of the dataset.\n",
    "- Dataset is imbalanced, meaning there are significantly more ham emails than spam ones.\n",
    "- This imbalance can affect the performance of classification algorithms, as they might be biased towards the majority class (ham)."
   ]
  },
  {
   "cell_type": "code",
   "execution_count": 58,
   "metadata": {
    "colab": {
     "base_uri": "https://localhost:8080/",
     "height": 514
    },
    "id": "RrVBKKS3q-mr",
    "outputId": "4691f448-e0f3-44ed-8c8f-ad68dd4f991f"
   },
   "outputs": [
    {
     "data": {
      "image/png": "[encoded data removed]",
      "text/plain": [
       "<Figure size 640x480 with 2 Axes>"
      ]
     },
     "metadata": {},
     "output_type": "display_data"
    }
   ],
   "source": [
    "# Plotting correlation heatmap\n",
    "dataplot = sb.heatmap(df.corr(numeric_only=True))\n",
    "\n",
    "# Displaying heatmap\n",
    "plt.show()"
   ]
  },
  {
   "cell_type": "code",
   "execution_count": 59,
   "metadata": {
    "colab": {
     "base_uri": "https://localhost:8080/",
     "height": 529
    },
    "id": "GW81QgpuwDgs",
    "outputId": "6d019ed6-f649-416a-dbcc-80f3e018d6d5"
   },
   "outputs": [
    {
     "data": {
      "image/png": "[encoded data removed]",
      "text/plain": [
       "<Figure size 640x480 with 2 Axes>"
      ]
     },
     "metadata": {},
     "output_type": "display_data"
    }
   ],
   "source": [
    "# Calculate the correlation matrix for the numeric columns in the dataset.\n",
    "correlation_matrix = df.corr()\n",
    "\n",
    "# Build a matrix of booleans (True, False) with the same shape as the data\n",
    "ones_corr = np.ones_like(correlation_matrix, dtype=bool)\n",
    "\n",
    "# The variable mask now contains the upper triangular matrix mask created in the previous step\n",
    "mask = np.triu(ones_corr)\n",
    "\n",
    "# Create a heatmap to visualize the correlation matrix.\n",
    "sb.heatmap(correlation_matrix, mask=mask, annot=False, cmap=\"coolwarm\")\n",
    "\n",
    "# Customize the plot\n",
    "plt.title(\"Correlation Heatmap\")\n",
    "plt.show()"
   ]
  },
  {
   "cell_type": "markdown",
   "metadata": {
    "id": "uBPsnMDy_IHY"
   },
   "source": [
    "---"
   ]
  },
  {
   "cell_type": "markdown",
   "metadata": {
    "id": "fIxXDxx_02Jg"
   },
   "source": [
    "## V.- Data Modelling\n",
    "\n",
    "- Begin by applying a simple model to evaluate the performance of the data.\n",
    "- This initial step involves using basic machine learning algorithms to establish a baseline for model performance.\n",
    "- By assessing how well these simple models perform, can evaluate the effectiveness of the data and identify potential areas for improvement.\n",
    "- This baseline also allows us to compare more complex models and techniques, ensuring that any advancements in performance are meaningful and not just a result of overfitting or data leakage."
   ]
  },
  {
   "cell_type": "markdown",
   "metadata": {
    "id": "0yAApvx41FXO"
   },
   "source": [
    "### 1. Train-Test Sets Preparation"
   ]
  },
  {
   "cell_type": "markdown",
   "metadata": {
    "id": "SZkO-S9mDg1t"
   },
   "source": [
    "#### a. Create a new dataframe X by dropping the 'Target' Column from the original dataframe"
   ]
  },
  {
   "cell_type": "code",
   "execution_count": 60,
   "metadata": {
    "colab": {
     "base_uri": "https://localhost:8080/",
     "height": 424
    },
    "id": "4ljraoqUEFBH",
    "outputId": "654acd54-4028-4025-8343-503ebda1b43c"
   },
   "outputs": [
    {
     "data": {
      "text/html": [
       "<div>\n",
       "<style scoped>\n",
       "    .dataframe tbody tr th:only-of-type {\n",
       "        vertical-align: middle;\n",
       "    }\n",
       "\n",
       "    .dataframe tbody tr th {\n",
       "        vertical-align: top;\n",
       "    }\n",
       "\n",
       "    .dataframe thead th {\n",
       "        text-align: right;\n",
       "    }\n",
       "</style>\n",
       "<table border=\"1\" class=\"dataframe\">\n",
       "  <thead>\n",
       "    <tr style=\"text-align: right;\">\n",
       "      <th></th>\n",
       "      <th>hope</th>\n",
       "      <th>you</th>\n",
       "      <th>are</th>\n",
       "      <th>having</th>\n",
       "      <th>a</th>\n",
       "      <th>good</th>\n",
       "      <th>week</th>\n",
       "      <th>just</th>\n",
       "      <th>checking</th>\n",
       "      <th>in</th>\n",
       "      <th>...</th>\n",
       "      <th>blanket</th>\n",
       "      <th>sang</th>\n",
       "      <th>uptown</th>\n",
       "      <th>pounded</th>\n",
       "      <th>young</th>\n",
       "      <th>diesel</th>\n",
       "      <th>jsco</th>\n",
       "      <th>leadership</th>\n",
       "      <th>skills</th>\n",
       "      <th>psychic</th>\n",
       "    </tr>\n",
       "  </thead>\n",
       "  <tbody>\n",
       "    <tr>\n",
       "      <th>0</th>\n",
       "      <td>1.0</td>\n",
       "      <td>1.0</td>\n",
       "      <td>1.0</td>\n",
       "      <td>1.0</td>\n",
       "      <td>1.0</td>\n",
       "      <td>1.0</td>\n",
       "      <td>1.0</td>\n",
       "      <td>1.0</td>\n",
       "      <td>1.0</td>\n",
       "      <td>1.0</td>\n",
       "      <td>...</td>\n",
       "      <td>0.0</td>\n",
       "      <td>0.0</td>\n",
       "      <td>0.0</td>\n",
       "      <td>0.0</td>\n",
       "      <td>0.0</td>\n",
       "      <td>0.0</td>\n",
       "      <td>0.0</td>\n",
       "      <td>0.0</td>\n",
       "      <td>0.0</td>\n",
       "      <td>0.0</td>\n",
       "    </tr>\n",
       "    <tr>\n",
       "      <th>1</th>\n",
       "      <td>0.0</td>\n",
       "      <td>0.0</td>\n",
       "      <td>0.0</td>\n",
       "      <td>0.0</td>\n",
       "      <td>0.0</td>\n",
       "      <td>0.0</td>\n",
       "      <td>0.0</td>\n",
       "      <td>0.0</td>\n",
       "      <td>0.0</td>\n",
       "      <td>0.0</td>\n",
       "      <td>...</td>\n",
       "      <td>0.0</td>\n",
       "      <td>0.0</td>\n",
       "      <td>0.0</td>\n",
       "      <td>0.0</td>\n",
       "      <td>0.0</td>\n",
       "      <td>0.0</td>\n",
       "      <td>0.0</td>\n",
       "      <td>0.0</td>\n",
       "      <td>0.0</td>\n",
       "      <td>0.0</td>\n",
       "    </tr>\n",
       "    <tr>\n",
       "      <th>2</th>\n",
       "      <td>0.0</td>\n",
       "      <td>0.0</td>\n",
       "      <td>0.0</td>\n",
       "      <td>0.0</td>\n",
       "      <td>0.0</td>\n",
       "      <td>0.0</td>\n",
       "      <td>0.0</td>\n",
       "      <td>0.0</td>\n",
       "      <td>0.0</td>\n",
       "      <td>1.0</td>\n",
       "      <td>...</td>\n",
       "      <td>0.0</td>\n",
       "      <td>0.0</td>\n",
       "      <td>0.0</td>\n",
       "      <td>0.0</td>\n",
       "      <td>0.0</td>\n",
       "      <td>0.0</td>\n",
       "      <td>0.0</td>\n",
       "      <td>0.0</td>\n",
       "      <td>0.0</td>\n",
       "      <td>0.0</td>\n",
       "    </tr>\n",
       "    <tr>\n",
       "      <th>3</th>\n",
       "      <td>0.0</td>\n",
       "      <td>0.0</td>\n",
       "      <td>0.0</td>\n",
       "      <td>0.0</td>\n",
       "      <td>0.0</td>\n",
       "      <td>0.0</td>\n",
       "      <td>0.0</td>\n",
       "      <td>0.0</td>\n",
       "      <td>0.0</td>\n",
       "      <td>0.0</td>\n",
       "      <td>...</td>\n",
       "      <td>0.0</td>\n",
       "      <td>0.0</td>\n",
       "      <td>0.0</td>\n",
       "      <td>0.0</td>\n",
       "      <td>0.0</td>\n",
       "      <td>0.0</td>\n",
       "      <td>0.0</td>\n",
       "      <td>0.0</td>\n",
       "      <td>0.0</td>\n",
       "      <td>0.0</td>\n",
       "    </tr>\n",
       "    <tr>\n",
       "      <th>4</th>\n",
       "      <td>0.0</td>\n",
       "      <td>0.0</td>\n",
       "      <td>0.0</td>\n",
       "      <td>0.0</td>\n",
       "      <td>0.0</td>\n",
       "      <td>0.0</td>\n",
       "      <td>0.0</td>\n",
       "      <td>0.0</td>\n",
       "      <td>0.0</td>\n",
       "      <td>0.0</td>\n",
       "      <td>...</td>\n",
       "      <td>0.0</td>\n",
       "      <td>0.0</td>\n",
       "      <td>0.0</td>\n",
       "      <td>0.0</td>\n",
       "      <td>0.0</td>\n",
       "      <td>0.0</td>\n",
       "      <td>0.0</td>\n",
       "      <td>0.0</td>\n",
       "      <td>0.0</td>\n",
       "      <td>0.0</td>\n",
       "    </tr>\n",
       "    <tr>\n",
       "      <th>...</th>\n",
       "      <td>...</td>\n",
       "      <td>...</td>\n",
       "      <td>...</td>\n",
       "      <td>...</td>\n",
       "      <td>...</td>\n",
       "      <td>...</td>\n",
       "      <td>...</td>\n",
       "      <td>...</td>\n",
       "      <td>...</td>\n",
       "      <td>...</td>\n",
       "      <td>...</td>\n",
       "      <td>...</td>\n",
       "      <td>...</td>\n",
       "      <td>...</td>\n",
       "      <td>...</td>\n",
       "      <td>...</td>\n",
       "      <td>...</td>\n",
       "      <td>...</td>\n",
       "      <td>...</td>\n",
       "      <td>...</td>\n",
       "      <td>...</td>\n",
       "    </tr>\n",
       "    <tr>\n",
       "      <th>5554</th>\n",
       "      <td>0.0</td>\n",
       "      <td>3.0</td>\n",
       "      <td>2.0</td>\n",
       "      <td>0.0</td>\n",
       "      <td>4.0</td>\n",
       "      <td>0.0</td>\n",
       "      <td>0.0</td>\n",
       "      <td>0.0</td>\n",
       "      <td>0.0</td>\n",
       "      <td>0.0</td>\n",
       "      <td>...</td>\n",
       "      <td>0.0</td>\n",
       "      <td>0.0</td>\n",
       "      <td>0.0</td>\n",
       "      <td>0.0</td>\n",
       "      <td>1.0</td>\n",
       "      <td>0.0</td>\n",
       "      <td>0.0</td>\n",
       "      <td>0.0</td>\n",
       "      <td>0.0</td>\n",
       "      <td>0.0</td>\n",
       "    </tr>\n",
       "    <tr>\n",
       "      <th>5555</th>\n",
       "      <td>0.0</td>\n",
       "      <td>0.0</td>\n",
       "      <td>0.0</td>\n",
       "      <td>0.0</td>\n",
       "      <td>0.0</td>\n",
       "      <td>0.0</td>\n",
       "      <td>0.0</td>\n",
       "      <td>0.0</td>\n",
       "      <td>0.0</td>\n",
       "      <td>0.0</td>\n",
       "      <td>...</td>\n",
       "      <td>0.0</td>\n",
       "      <td>0.0</td>\n",
       "      <td>0.0</td>\n",
       "      <td>0.0</td>\n",
       "      <td>0.0</td>\n",
       "      <td>1.0</td>\n",
       "      <td>0.0</td>\n",
       "      <td>0.0</td>\n",
       "      <td>0.0</td>\n",
       "      <td>0.0</td>\n",
       "    </tr>\n",
       "    <tr>\n",
       "      <th>5556</th>\n",
       "      <td>0.0</td>\n",
       "      <td>1.0</td>\n",
       "      <td>0.0</td>\n",
       "      <td>0.0</td>\n",
       "      <td>0.0</td>\n",
       "      <td>0.0</td>\n",
       "      <td>0.0</td>\n",
       "      <td>0.0</td>\n",
       "      <td>0.0</td>\n",
       "      <td>0.0</td>\n",
       "      <td>...</td>\n",
       "      <td>0.0</td>\n",
       "      <td>0.0</td>\n",
       "      <td>0.0</td>\n",
       "      <td>0.0</td>\n",
       "      <td>0.0</td>\n",
       "      <td>0.0</td>\n",
       "      <td>0.0</td>\n",
       "      <td>0.0</td>\n",
       "      <td>0.0</td>\n",
       "      <td>0.0</td>\n",
       "    </tr>\n",
       "    <tr>\n",
       "      <th>5557</th>\n",
       "      <td>0.0</td>\n",
       "      <td>0.0</td>\n",
       "      <td>0.0</td>\n",
       "      <td>0.0</td>\n",
       "      <td>0.0</td>\n",
       "      <td>0.0</td>\n",
       "      <td>0.0</td>\n",
       "      <td>0.0</td>\n",
       "      <td>0.0</td>\n",
       "      <td>0.0</td>\n",
       "      <td>...</td>\n",
       "      <td>0.0</td>\n",
       "      <td>0.0</td>\n",
       "      <td>0.0</td>\n",
       "      <td>0.0</td>\n",
       "      <td>0.0</td>\n",
       "      <td>0.0</td>\n",
       "      <td>2.0</td>\n",
       "      <td>1.0</td>\n",
       "      <td>1.0</td>\n",
       "      <td>1.0</td>\n",
       "    </tr>\n",
       "    <tr>\n",
       "      <th>5558</th>\n",
       "      <td>0.0</td>\n",
       "      <td>0.0</td>\n",
       "      <td>0.0</td>\n",
       "      <td>1.0</td>\n",
       "      <td>0.0</td>\n",
       "      <td>0.0</td>\n",
       "      <td>0.0</td>\n",
       "      <td>0.0</td>\n",
       "      <td>0.0</td>\n",
       "      <td>0.0</td>\n",
       "      <td>...</td>\n",
       "      <td>0.0</td>\n",
       "      <td>0.0</td>\n",
       "      <td>0.0</td>\n",
       "      <td>0.0</td>\n",
       "      <td>0.0</td>\n",
       "      <td>0.0</td>\n",
       "      <td>0.0</td>\n",
       "      <td>0.0</td>\n",
       "      <td>0.0</td>\n",
       "      <td>0.0</td>\n",
       "    </tr>\n",
       "  </tbody>\n",
       "</table>\n",
       "<p>5559 rows × 7736 columns</p>\n",
       "</div>"
      ],
      "text/plain": [
       "      hope  you  are  having    a  good  week  just  checking   in  ...  \\\n",
       "0      1.0  1.0  1.0     1.0  1.0   1.0   1.0   1.0       1.0  1.0  ...   \n",
       "1      0.0  0.0  0.0     0.0  0.0   0.0   0.0   0.0       0.0  0.0  ...   \n",
       "2      0.0  0.0  0.0     0.0  0.0   0.0   0.0   0.0       0.0  1.0  ...   \n",
       "3      0.0  0.0  0.0     0.0  0.0   0.0   0.0   0.0       0.0  0.0  ...   \n",
       "4      0.0  0.0  0.0     0.0  0.0   0.0   0.0   0.0       0.0  0.0  ...   \n",
       "...    ...  ...  ...     ...  ...   ...   ...   ...       ...  ...  ...   \n",
       "5554   0.0  3.0  2.0     0.0  4.0   0.0   0.0   0.0       0.0  0.0  ...   \n",
       "5555   0.0  0.0  0.0     0.0  0.0   0.0   0.0   0.0       0.0  0.0  ...   \n",
       "5556   0.0  1.0  0.0     0.0  0.0   0.0   0.0   0.0       0.0  0.0  ...   \n",
       "5557   0.0  0.0  0.0     0.0  0.0   0.0   0.0   0.0       0.0  0.0  ...   \n",
       "5558   0.0  0.0  0.0     1.0  0.0   0.0   0.0   0.0       0.0  0.0  ...   \n",
       "\n",
       "      blanket  sang  uptown  pounded  young  diesel  jsco  leadership  skills  \\\n",
       "0         0.0   0.0     0.0      0.0    0.0     0.0   0.0         0.0     0.0   \n",
       "1         0.0   0.0     0.0      0.0    0.0     0.0   0.0         0.0     0.0   \n",
       "2         0.0   0.0     0.0      0.0    0.0     0.0   0.0         0.0     0.0   \n",
       "3         0.0   0.0     0.0      0.0    0.0     0.0   0.0         0.0     0.0   \n",
       "4         0.0   0.0     0.0      0.0    0.0     0.0   0.0         0.0     0.0   \n",
       "...       ...   ...     ...      ...    ...     ...   ...         ...     ...   \n",
       "5554      0.0   0.0     0.0      0.0    1.0     0.0   0.0         0.0     0.0   \n",
       "5555      0.0   0.0     0.0      0.0    0.0     1.0   0.0         0.0     0.0   \n",
       "5556      0.0   0.0     0.0      0.0    0.0     0.0   0.0         0.0     0.0   \n",
       "5557      0.0   0.0     0.0      0.0    0.0     0.0   2.0         1.0     1.0   \n",
       "5558      0.0   0.0     0.0      0.0    0.0     0.0   0.0         0.0     0.0   \n",
       "\n",
       "      psychic  \n",
       "0         0.0  \n",
       "1         0.0  \n",
       "2         0.0  \n",
       "3         0.0  \n",
       "4         0.0  \n",
       "...       ...  \n",
       "5554      0.0  \n",
       "5555      0.0  \n",
       "5556      0.0  \n",
       "5557      1.0  \n",
       "5558      0.0  \n",
       "\n",
       "[5559 rows x 7736 columns]"
      ]
     },
     "execution_count": 60,
     "metadata": {},
     "output_type": "execute_result"
    }
   ],
   "source": [
    "X = df.drop('Target', axis=1)\n",
    "X"
   ]
  },
  {
   "cell_type": "markdown",
   "metadata": {
    "id": "voVxC0_XJ_qR"
   },
   "source": [
    "#### b. Extract the 'Target' column from the original dataframe and store it in a new variable y."
   ]
  },
  {
   "cell_type": "code",
   "execution_count": 61,
   "metadata": {
    "colab": {
     "base_uri": "https://localhost:8080/",
     "height": 458
    },
    "id": "efz7ddzNKgvV",
    "outputId": "bbad3ce2-b6c7-4a76-ad76-3e15a0b29d21"
   },
   "outputs": [
    {
     "data": {
      "text/plain": [
       "0       0\n",
       "1       0\n",
       "2       0\n",
       "3       1\n",
       "4       1\n",
       "       ..\n",
       "5554    0\n",
       "5555    0\n",
       "5556    1\n",
       "5557    1\n",
       "5558    0\n",
       "Name: Target, Length: 5559, dtype: int64"
      ]
     },
     "execution_count": 61,
     "metadata": {},
     "output_type": "execute_result"
    }
   ],
   "source": [
    "y = df['Target']\n",
    "y"
   ]
  },
  {
   "cell_type": "markdown",
   "metadata": {
    "id": "193tQhYXKnTA"
   },
   "source": [
    "#### c. Split the data into training and test sets"
   ]
  },
  {
   "cell_type": "code",
   "execution_count": 62,
   "metadata": {
    "colab": {
     "base_uri": "https://localhost:8080/"
    },
    "id": "de91jqBXLG53",
    "outputId": "6ed6dfc4-12ad-4c11-cb8a-f1fb81f2b185"
   },
   "outputs": [
    {
     "name": "stdout",
     "output_type": "stream",
     "text": [
      "Training Features Shape: (4447, 7736)\n",
      "Training Labels Shape: (4447,)\n",
      "Test Features Shape: (1112, 7736)\n",
      "Test Labels Shape: (1112,)\n"
     ]
    }
   ],
   "source": [
    "# test_size=0.2 means 20% of the data will be used for testing and 80% for training\n",
    "# random_state is a parameter in train_test_split that controls the random number generator\n",
    "# used to shuffle the data before splitting it.\n",
    "# there's no specific reason to use the number 42 over any other value as the random_state parameter.\n",
    "# The purpose of setting a random seed (using random_state) in machine learning is to ensure reproducibility.\n",
    "X_train, X_test, y_train, y_test = train_test_split(X, y, test_size=0.2, random_state=42)\n",
    "\n",
    "# Display the shapes of the resulting training and test sets\n",
    "print(f\"Training Features Shape: {X_train.shape}\")\n",
    "print(f\"Training Labels Shape: {y_train.shape}\")\n",
    "print(f\"Test Features Shape: {X_test.shape}\")\n",
    "print(f\"Test Labels Shape: {y_test.shape}\")"
   ]
  },
  {
   "cell_type": "code",
   "execution_count": 63,
   "metadata": {
    "colab": {
     "base_uri": "https://localhost:8080/"
    },
    "id": "BLl5OFp-kRRl",
    "outputId": "2e3ea700-e01a-48a7-ee12-572e8b453e81"
   },
   "outputs": [
    {
     "data": {
      "text/plain": [
       "(7736, array([0, 1], dtype=int64))"
      ]
     },
     "execution_count": 63,
     "metadata": {},
     "output_type": "execute_result"
    }
   ],
   "source": [
    "# Determine the number of features (columns) in the DataFrame X\n",
    "# Determine the unique classes in the Series y and assign it to n_classes\n",
    "n_features, n_classes = X.shape[1], np.unique(y)\n",
    "\n",
    "# Display the number of features and the unique classes\n",
    "n_features, n_classes"
   ]
  },
  {
   "cell_type": "markdown",
   "metadata": {
    "id": "Ykueq7XOle3h"
   },
   "source": [
    "### 2. Apply Naive Bayes\n",
    "\n",
    "- At first, apply the Naive Bayes algorithm because it is well-suited for text classification tasks, where each email is represented by word counts (or frequencies) of the most common words.\n",
    "- MultinomialNB is chosen because it works with features that represent counts, which aligns with the dataset structure where each cell represents the count of a specific word in an email.\n",
    "- Besides, MultinomialNB naturally supports binary classification tasks, where the goal is to predict whether an email is spam (0) or not ham (1)"
   ]
  },
  {
   "cell_type": "code",
   "execution_count": 64,
   "metadata": {
    "colab": {
     "base_uri": "https://localhost:8080/",
     "height": 80
    },
    "id": "KEPcbhGAqKw4",
    "outputId": "b84d9263-8a88-4b4c-91d9-2d75ab145ebe"
   },
   "outputs": [
    {
     "data": {
      "text/html": [
       "<style>#sk-container-id-1 {color: black;}#sk-container-id-1 pre{padding: 0;}#sk-container-id-1 div.sk-toggleable {background-color: white;}#sk-container-id-1 label.sk-toggleable__label {cursor: pointer;display: block;width: 100%;margin-bottom: 0;padding: 0.3em;box-sizing: border-box;text-align: center;}#sk-container-id-1 label.sk-toggleable__label-arrow:before {content: \"▸\";float: left;margin-right: 0.25em;color: #696969;}#sk-container-id-1 label.sk-toggleable__label-arrow:hover:before {color: black;}#sk-container-id-1 div.sk-estimator:hover label.sk-toggleable__label-arrow:before {color: black;}#sk-container-id-1 div.sk-toggleable__content {max-height: 0;max-width: 0;overflow: hidden;text-align: left;background-color: #f0f8ff;}#sk-container-id-1 div.sk-toggleable__content pre {margin: 0.2em;color: black;border-radius: 0.25em;background-color: #f0f8ff;}#sk-container-id-1 input.sk-toggleable__control:checked~div.sk-toggleable__content {max-height: 200px;max-width: 100%;overflow: auto;}#sk-container-id-1 input.sk-toggleable__control:checked~label.sk-toggleable__label-arrow:before {content: \"▾\";}#sk-container-id-1 div.sk-estimator input.sk-toggleable__control:checked~label.sk-toggleable__label {background-color: #d4ebff;}#sk-container-id-1 div.sk-label input.sk-toggleable__control:checked~label.sk-toggleable__label {background-color: #d4ebff;}#sk-container-id-1 input.sk-hidden--visually {border: 0;clip: rect(1px 1px 1px 1px);clip: rect(1px, 1px, 1px, 1px);height: 1px;margin: -1px;overflow: hidden;padding: 0;position: absolute;width: 1px;}#sk-container-id-1 div.sk-estimator {font-family: monospace;background-color: #f0f8ff;border: 1px dotted black;border-radius: 0.25em;box-sizing: border-box;margin-bottom: 0.5em;}#sk-container-id-1 div.sk-estimator:hover {background-color: #d4ebff;}#sk-container-id-1 div.sk-parallel-item::after {content: \"\";width: 100%;border-bottom: 1px solid gray;flex-grow: 1;}#sk-container-id-1 div.sk-label:hover label.sk-toggleable__label {background-color: #d4ebff;}#sk-container-id-1 div.sk-serial::before {content: \"\";position: absolute;border-left: 1px solid gray;box-sizing: border-box;top: 0;bottom: 0;left: 50%;z-index: 0;}#sk-container-id-1 div.sk-serial {display: flex;flex-direction: column;align-items: center;background-color: white;padding-right: 0.2em;padding-left: 0.2em;position: relative;}#sk-container-id-1 div.sk-item {position: relative;z-index: 1;}#sk-container-id-1 div.sk-parallel {display: flex;align-items: stretch;justify-content: center;background-color: white;position: relative;}#sk-container-id-1 div.sk-item::before, #sk-container-id-1 div.sk-parallel-item::before {content: \"\";position: absolute;border-left: 1px solid gray;box-sizing: border-box;top: 0;bottom: 0;left: 50%;z-index: -1;}#sk-container-id-1 div.sk-parallel-item {display: flex;flex-direction: column;z-index: 1;position: relative;background-color: white;}#sk-container-id-1 div.sk-parallel-item:first-child::after {align-self: flex-end;width: 50%;}#sk-container-id-1 div.sk-parallel-item:last-child::after {align-self: flex-start;width: 50%;}#sk-container-id-1 div.sk-parallel-item:only-child::after {width: 0;}#sk-container-id-1 div.sk-dashed-wrapped {border: 1px dashed gray;margin: 0 0.4em 0.5em 0.4em;box-sizing: border-box;padding-bottom: 0.4em;background-color: white;}#sk-container-id-1 div.sk-label label {font-family: monospace;font-weight: bold;display: inline-block;line-height: 1.2em;}#sk-container-id-1 div.sk-label-container {text-align: center;}#sk-container-id-1 div.sk-container {/* jupyter's `normalize.less` sets `[hidden] { display: none; }` but bootstrap.min.css set `[hidden] { display: none !important; }` so we also need the `!important` here to be able to override the default hidden behavior on the sphinx rendered scikit-learn.org. See: https://github.com/scikit-learn/scikit-learn/issues/21755 */display: inline-block !important;position: relative;}#sk-container-id-1 div.sk-text-repr-fallback {display: none;}</style><div id=\"sk-container-id-1\" class=\"sk-top-container\"><div class=\"sk-text-repr-fallback\"><pre>MultinomialNB()</pre><b>In a Jupyter environment, please rerun this cell to show the HTML representation or trust the notebook. <br />On GitHub, the HTML representation is unable to render, please try loading this page with nbviewer.org.</b></div><div class=\"sk-container\" hidden><div class=\"sk-item\"><div class=\"sk-estimator sk-toggleable\"><input class=\"sk-toggleable__control sk-hidden--visually\" id=\"sk-estimator-id-1\" type=\"checkbox\" checked><label for=\"sk-estimator-id-1\" class=\"sk-toggleable__label sk-toggleable__label-arrow\">MultinomialNB</label><div class=\"sk-toggleable__content\"><pre>MultinomialNB()</pre></div></div></div></div></div>"
      ],
      "text/plain": [
       "MultinomialNB()"
      ]
     },
     "execution_count": 64,
     "metadata": {},
     "output_type": "execute_result"
    }
   ],
   "source": [
    "nb=MultinomialNB() # Instantiate Naive Bayes\n",
    "nb.fit(X_train, y_train) # Train (fit) the classifier on training data"
   ]
  },
  {
   "cell_type": "code",
   "execution_count": 65,
   "metadata": {
    "id": "B4dco9KbrMHU"
   },
   "outputs": [],
   "source": [
    "# Use the trained Naive Bayes classifier to predict the labels of the test data\n",
    "y_pred_nb = nb.predict(X_test)"
   ]
  },
  {
   "cell_type": "code",
   "execution_count": 66,
   "metadata": {
    "colab": {
     "base_uri": "https://localhost:8080/"
    },
    "id": "adkhN5LBrWlX",
    "outputId": "5dd7d57f-8268-4db3-c498-bec6e4b9fa10"
   },
   "outputs": [
    {
     "name": "stdout",
     "output_type": "stream",
     "text": [
      "Classification report: \n",
      "              precision    recall  f1-score   support\n",
      "\n",
      "           0       0.99      0.98      0.98       963\n",
      "           1       0.88      0.91      0.89       149\n",
      "\n",
      "    accuracy                           0.97      1112\n",
      "   macro avg       0.93      0.94      0.94      1112\n",
      "weighted avg       0.97      0.97      0.97      1112\n",
      "\n"
     ]
    }
   ],
   "source": [
    "# Print the classification report, which includes precision, recall, F1-score, and support for each class\n",
    "print(\"Classification report: \")\n",
    "print(classification_report(y_test, y_pred_nb))"
   ]
  },
  {
   "cell_type": "markdown",
   "metadata": {
    "id": "GiuUpKw-wzeT"
   },
   "source": [
    "#### Explanation of Each Metric Result When Applying Multinomial Naive Bayes\n",
    "\n",
    "- Precision: This measures the accuracy of positive predictions made by the model. For class 0 (not spam), the precision is 0.99, indicating that 99% of emails predicted as not spam were actually not spam. For class 1 (spam), the precision is 0.88, meaning that 88% of emails predicted as spam were actually spam.\n",
    "- Recall: It measures the proportion of actual positives that were correctly identified by the model. For class 0, the recall is 0.98, indicating that 98% of actual not spam emails were correctly identified as not spam. For class 1, the recall is 0.91, meaning that 91% of actual spam emails were correctly identified as spam.\n",
    "- F1-score: The F1-score is the harmonic mean of precision and recall, providing a single metric that balances both precision and recall. The F1-score for class 0 is 0.98, and for class 1, it is 0.89.\n",
    "- Support: Support is the number of actual occurrences of each class in the test dataset. In this case, there are 963 instances of class 0 (not spam) and 149 instances of class 1 (spam).\n",
    "- Accuracy: Accuracy measures the overall correctness of the model's predictions across all classes. Here, the overall accuracy is 0.97, meaning that the model correctly predicted 97% of the emails in the test set."
   ]
  },
  {
   "cell_type": "code",
   "execution_count": 67,
   "metadata": {
    "colab": {
     "base_uri": "https://localhost:8080/",
     "height": 195
    },
    "id": "AW5WQuPRyCPF",
    "outputId": "cfb6d42f-1270-4fff-b7e2-8aa6ad817c95"
   },
   "outputs": [
    {
     "data": {
      "image/png": "[encoded data removed]",
      "text/plain": [
       "<Figure size 150x150 with 1 Axes>"
      ]
     },
     "metadata": {},
     "output_type": "display_data"
    }
   ],
   "source": [
    "# Compute the confusion matrix to evaluate the performance of the Naive Bayes classifier\n",
    "cm_nb = confusion_matrix(y_test, y_pred_nb)\n",
    "\n",
    "# Create a DataFrame from the confusion matrix with labels for rows and columns\n",
    "df_cm_nb = pd.DataFrame(cm_nb, columns=np.unique(y_test), index=np.unique(y_test))\n",
    "\n",
    "# Set the names for the index (rows) and columns of the DataFrame\n",
    "df_cm_nb.index.name = 'Actual'\n",
    "df_cm_nb.columns.name = 'Predicted'\n",
    "\n",
    "# Create a new figure for the heatmap with a specific size\n",
    "plt.figure(figsize=(1.5, 1.5))\n",
    "\n",
    "# Generate a heatmap visualization of the confusion matrix\n",
    "sb.heatmap(df_cm_nb, annot=True, annot_kws={\"size\": 12}, cbar=False, square=True, fmt=\"d\", cmap=\"Reds\")\n",
    "\n",
    "# Display the heatmap\n",
    "plt.show()"
   ]
  },
  {
   "cell_type": "markdown",
   "metadata": {
    "id": "C9ogYlul5k1o"
   },
   "source": [
    "#### Discussion of Applying Multinomial Naive Bayes\n",
    "\n",
    "- By observing the confusion matrix, find that reducing false positives for class 1 (spam) predictions is necessary.\n",
    "- Multinomial Naive Bayes was initially chosen because it is well-suited for text classification tasks where features (word counts or frequencies) are non-negative integers. Given the class, it assumes that features are conditionally independent, which can work reasonably well for word count data."
   ]
  },
  {
   "cell_type": "markdown",
   "metadata": {
    "id": "CCkcE9Cf6ojc"
   },
   "source": [
    "### 3. Apply Logistic Regression\n",
    "\n",
    "- Then apply the Logistic Regression because Logistic Regression can capture more complex relationships between features and the target variable compared to the assumption of independence in Multinomial Naive Bayes.\n",
    "- Multinomial Naive Bayes assumes that features (word counts) are conditionally independent given the class label (spam or not spam). This means that the presence of one word is independent of the presence of other words, which is often not true in real-world text data because the occurrence of words in emails could be correlated or have complex interactions that Logistic Regression can potentially model more accurately.\n",
    "- Logistic Regression, on the other hand, models the relationship between the features (word counts) and the probability of each class (spam or not spam) using a logistic function."
   ]
  },
  {
   "cell_type": "code",
   "execution_count": 68,
   "metadata": {
    "colab": {
     "base_uri": "https://localhost:8080/",
     "height": 80
    },
    "id": "XFomS06J8pD-",
    "outputId": "add2de9d-1252-4de6-945b-693bc9dcca6b"
   },
   "outputs": [
    {
     "data": {
      "text/html": [
       "<style>#sk-container-id-2 {color: black;}#sk-container-id-2 pre{padding: 0;}#sk-container-id-2 div.sk-toggleable {background-color: white;}#sk-container-id-2 label.sk-toggleable__label {cursor: pointer;display: block;width: 100%;margin-bottom: 0;padding: 0.3em;box-sizing: border-box;text-align: center;}#sk-container-id-2 label.sk-toggleable__label-arrow:before {content: \"▸\";float: left;margin-right: 0.25em;color: #696969;}#sk-container-id-2 label.sk-toggleable__label-arrow:hover:before {color: black;}#sk-container-id-2 div.sk-estimator:hover label.sk-toggleable__label-arrow:before {color: black;}#sk-container-id-2 div.sk-toggleable__content {max-height: 0;max-width: 0;overflow: hidden;text-align: left;background-color: #f0f8ff;}#sk-container-id-2 div.sk-toggleable__content pre {margin: 0.2em;color: black;border-radius: 0.25em;background-color: #f0f8ff;}#sk-container-id-2 input.sk-toggleable__control:checked~div.sk-toggleable__content {max-height: 200px;max-width: 100%;overflow: auto;}#sk-container-id-2 input.sk-toggleable__control:checked~label.sk-toggleable__label-arrow:before {content: \"▾\";}#sk-container-id-2 div.sk-estimator input.sk-toggleable__control:checked~label.sk-toggleable__label {background-color: #d4ebff;}#sk-container-id-2 div.sk-label input.sk-toggleable__control:checked~label.sk-toggleable__label {background-color: #d4ebff;}#sk-container-id-2 input.sk-hidden--visually {border: 0;clip: rect(1px 1px 1px 1px);clip: rect(1px, 1px, 1px, 1px);height: 1px;margin: -1px;overflow: hidden;padding: 0;position: absolute;width: 1px;}#sk-container-id-2 div.sk-estimator {font-family: monospace;background-color: #f0f8ff;border: 1px dotted black;border-radius: 0.25em;box-sizing: border-box;margin-bottom: 0.5em;}#sk-container-id-2 div.sk-estimator:hover {background-color: #d4ebff;}#sk-container-id-2 div.sk-parallel-item::after {content: \"\";width: 100%;border-bottom: 1px solid gray;flex-grow: 1;}#sk-container-id-2 div.sk-label:hover label.sk-toggleable__label {background-color: #d4ebff;}#sk-container-id-2 div.sk-serial::before {content: \"\";position: absolute;border-left: 1px solid gray;box-sizing: border-box;top: 0;bottom: 0;left: 50%;z-index: 0;}#sk-container-id-2 div.sk-serial {display: flex;flex-direction: column;align-items: center;background-color: white;padding-right: 0.2em;padding-left: 0.2em;position: relative;}#sk-container-id-2 div.sk-item {position: relative;z-index: 1;}#sk-container-id-2 div.sk-parallel {display: flex;align-items: stretch;justify-content: center;background-color: white;position: relative;}#sk-container-id-2 div.sk-item::before, #sk-container-id-2 div.sk-parallel-item::before {content: \"\";position: absolute;border-left: 1px solid gray;box-sizing: border-box;top: 0;bottom: 0;left: 50%;z-index: -1;}#sk-container-id-2 div.sk-parallel-item {display: flex;flex-direction: column;z-index: 1;position: relative;background-color: white;}#sk-container-id-2 div.sk-parallel-item:first-child::after {align-self: flex-end;width: 50%;}#sk-container-id-2 div.sk-parallel-item:last-child::after {align-self: flex-start;width: 50%;}#sk-container-id-2 div.sk-parallel-item:only-child::after {width: 0;}#sk-container-id-2 div.sk-dashed-wrapped {border: 1px dashed gray;margin: 0 0.4em 0.5em 0.4em;box-sizing: border-box;padding-bottom: 0.4em;background-color: white;}#sk-container-id-2 div.sk-label label {font-family: monospace;font-weight: bold;display: inline-block;line-height: 1.2em;}#sk-container-id-2 div.sk-label-container {text-align: center;}#sk-container-id-2 div.sk-container {/* jupyter's `normalize.less` sets `[hidden] { display: none; }` but bootstrap.min.css set `[hidden] { display: none !important; }` so we also need the `!important` here to be able to override the default hidden behavior on the sphinx rendered scikit-learn.org. See: https://github.com/scikit-learn/scikit-learn/issues/21755 */display: inline-block !important;position: relative;}#sk-container-id-2 div.sk-text-repr-fallback {display: none;}</style><div id=\"sk-container-id-2\" class=\"sk-top-container\"><div class=\"sk-text-repr-fallback\"><pre>LogisticRegression(max_iter=1000, random_state=42)</pre><b>In a Jupyter environment, please rerun this cell to show the HTML representation or trust the notebook. <br />On GitHub, the HTML representation is unable to render, please try loading this page with nbviewer.org.</b></div><div class=\"sk-container\" hidden><div class=\"sk-item\"><div class=\"sk-estimator sk-toggleable\"><input class=\"sk-toggleable__control sk-hidden--visually\" id=\"sk-estimator-id-2\" type=\"checkbox\" checked><label for=\"sk-estimator-id-2\" class=\"sk-toggleable__label sk-toggleable__label-arrow\">LogisticRegression</label><div class=\"sk-toggleable__content\"><pre>LogisticRegression(max_iter=1000, random_state=42)</pre></div></div></div></div></div>"
      ],
      "text/plain": [
       "LogisticRegression(max_iter=1000, random_state=42)"
      ]
     },
     "execution_count": 68,
     "metadata": {},
     "output_type": "execute_result"
    }
   ],
   "source": [
    "# Initializing the Logistic Regression model with a fixed random state for reproducibility\n",
    "# The max_iter parameter is set to 1000 to ensure the solver has sufficient iterations to converge\n",
    "reg_log = LogisticRegression(random_state=42, max_iter=1000)\n",
    "\n",
    "# Training the Logistic Regression model on the training data (X_train and y_train)\n",
    "reg_log.fit(X_train, y_train)"
   ]
  },
  {
   "cell_type": "code",
   "execution_count": 69,
   "metadata": {
    "id": "0Hit-UWa80a9"
   },
   "outputs": [],
   "source": [
    "# Predict the labels for the test data using the trained Logistic Regression model\n",
    "y_pred_reg_log = reg_log.predict(X_test)"
   ]
  },
  {
   "cell_type": "code",
   "execution_count": 70,
   "metadata": {
    "colab": {
     "base_uri": "https://localhost:8080/"
    },
    "id": "OzUdX0S09CYt",
    "outputId": "595fa22f-91c4-4423-cc23-b03469040528"
   },
   "outputs": [
    {
     "name": "stdout",
     "output_type": "stream",
     "text": [
      "Classification report: \n",
      "              precision    recall  f1-score   support\n",
      "\n",
      "           0       0.98      1.00      0.99       963\n",
      "           1       0.98      0.89      0.93       149\n",
      "\n",
      "    accuracy                           0.98      1112\n",
      "   macro avg       0.98      0.94      0.96      1112\n",
      "weighted avg       0.98      0.98      0.98      1112\n",
      "\n"
     ]
    }
   ],
   "source": [
    "# Print the classification report to evaluate the performance of the Logistic Regression model\n",
    "print(\"Classification report: \")\n",
    "print(classification_report(y_test, y_pred_reg_log))"
   ]
  },
  {
   "cell_type": "code",
   "execution_count": 71,
   "metadata": {
    "colab": {
     "base_uri": "https://localhost:8080/",
     "height": 195
    },
    "id": "c732anRF9ZxZ",
    "outputId": "f835e2b4-dffa-4ce2-8394-0150a84a42b7"
   },
   "outputs": [
    {
     "data": {
      "image/png": "[encoded data removed]",
      "text/plain": [
       "<Figure size 150x150 with 1 Axes>"
      ]
     },
     "metadata": {},
     "output_type": "display_data"
    }
   ],
   "source": [
    "# Compute the confusion matrix to evaluate the performance of the Logistic Regression model\n",
    "cm_reg_log = confusion_matrix(y_test, y_pred_reg_log)\n",
    "\n",
    "# Create a DataFrame for the confusion matrix with appropriate labels for rows and columns\n",
    "df_cm_reg_log = pd.DataFrame(cm_reg_log, columns=np.unique(y_test), index = np.unique(y_test))\n",
    "\n",
    "# Set names for the index (rows) and columns of the DataFrame\n",
    "df_cm_reg_log.index.name = 'Actual'\n",
    "df_cm_reg_log.columns.name = 'Predicted'\n",
    "\n",
    "# Create a new figure for the heatmap with specified dimensions\n",
    "plt.figure(figsize = (1.5,1.5))\n",
    "\n",
    "# Generate a heatmap for the confusion matrix with annotations and custom formatting\n",
    "sb.heatmap(df_cm_reg_log, annot=True, annot_kws={\"size\": 12}, cbar=False, square=True, fmt=\"d\", cmap=\"Reds\")\n",
    "\n",
    "# Display the heatmap\n",
    "plt.show()"
   ]
  },
  {
   "cell_type": "markdown",
   "metadata": {
    "id": "lTIoCbxl_f5m"
   },
   "source": [
    "### 4. Comparison of Two Models: Multinomial Naive Bayes and Logistic Regression\n",
    "\n",
    "- Accuracy: Logistic Regression has a higher accuracy (0.98) than Multinomial Naive Bayes (0.97).\n",
    "- Precision: For Class 0, Naive Bayes (0.99) performs better than Loistic eesssion (0.98), but for Class 1, Logistic Regression (0.98) has higher precision than Multinomial Naive Bayes (0.88).\n",
    "- Recall: For Class 0, Logistic Regression has a better recall (1.0) than Multinomial Naive Bayes (0.98).\n",
    "- F1-Score: Logistic Regression has a better f1-score for both classes.\n",
    "\n",
    "Therefore, Logistic Regression performs better than MultinomialNB across most metrics."
   ]
  },
  {
   "cell_type": "markdown",
   "metadata": {
    "id": "cZhl9M0uEQny"
   },
   "source": [
    "---"
   ]
  },
  {
   "cell_type": "markdown",
   "metadata": {
    "id": "6ANXy0D-EXkb"
   },
   "source": [
    "## VI.- Improve the Performance of the Logistic Regression Model by Feature Engineering"
   ]
  },
  {
   "cell_type": "markdown",
   "metadata": {
    "id": "9Jw3l0GRHBYw"
   },
   "source": [
    "### 1. Remove Stop Words\n",
    "\n",
    "- Stop words are common words that appear frequently in a text but carry little meaningful information, such as \"the,\" \"is,\" \"in,\" \"and,\" etc.\n",
    "- Removing these words can improve the performance of machine learning models by reducing noise and dimensionality, leading to more meaningful feature representation and potentially better classification results."
   ]
  },
  {
   "cell_type": "code",
   "execution_count": 72,
   "metadata": {
    "colab": {
     "base_uri": "https://localhost:8080/"
    },
    "id": "U82EHT89HIM9",
    "outputId": "dbcfed21-07b4-4201-ee65-207b81f1a0a2"
   },
   "outputs": [
    {
     "name": "stdout",
     "output_type": "stream",
     "text": [
      "['i', 'me', 'my', 'myself', 'we', 'our', 'ours', 'ourselves', 'you', \"you're\", \"you've\", \"you'll\", \"you'd\", 'your', 'yours', 'yourself', 'yourselves', 'he', 'him', 'his', 'himself', 'she', \"she's\", 'her', 'hers', 'herself', 'it', \"it's\", 'its', 'itself', 'they', 'them', 'their', 'theirs', 'themselves', 'what', 'which', 'who', 'whom', 'this', 'that', \"that'll\", 'these', 'those', 'am', 'is', 'are', 'was', 'were', 'be', 'been', 'being', 'have', 'has', 'had', 'having', 'do', 'does', 'did', 'doing', 'a', 'an', 'the', 'and', 'but', 'if', 'or', 'because', 'as', 'until', 'while', 'of', 'at', 'by', 'for', 'with', 'about', 'against', 'between', 'into', 'through', 'during', 'before', 'after', 'above', 'below', 'to', 'from', 'up', 'down', 'in', 'out', 'on', 'off', 'over', 'under', 'again', 'further', 'then', 'once', 'here', 'there', 'when', 'where', 'why', 'how', 'all', 'any', 'both', 'each', 'few', 'more', 'most', 'other', 'some', 'such', 'no', 'nor', 'not', 'only', 'own', 'same', 'so', 'than', 'too', 'very', 's', 't', 'can', 'will', 'just', 'don', \"don't\", 'should', \"should've\", 'now', 'd', 'll', 'm', 'o', 're', 've', 'y', 'ain', 'aren', \"aren't\", 'couldn', \"couldn't\", 'didn', \"didn't\", 'doesn', \"doesn't\", 'hadn', \"hadn't\", 'hasn', \"hasn't\", 'haven', \"haven't\", 'isn', \"isn't\", 'ma', 'mightn', \"mightn't\", 'mustn', \"mustn't\", 'needn', \"needn't\", 'shan', \"shan't\", 'shouldn', \"shouldn't\", 'wasn', \"wasn't\", 'weren', \"weren't\", 'won', \"won't\", 'wouldn', \"wouldn't\"]\n"
     ]
    }
   ],
   "source": [
    "# Import the list of stop words from the NLTK library\n",
    "stop_words = list(stopwords.words('english'))\n",
    "\n",
    "# Print the list of stop words\n",
    "print(stop_words)"
   ]
  },
  {
   "cell_type": "code",
   "execution_count": 73,
   "metadata": {
    "colab": {
     "base_uri": "https://localhost:8080/",
     "height": 424
    },
    "id": "PwbosiTPHXCw",
    "outputId": "0cf3d788-1606-445b-c65a-eaba2a898abb"
   },
   "outputs": [
    {
     "data": {
      "text/html": [
       "<div>\n",
       "<style scoped>\n",
       "    .dataframe tbody tr th:only-of-type {\n",
       "        vertical-align: middle;\n",
       "    }\n",
       "\n",
       "    .dataframe tbody tr th {\n",
       "        vertical-align: top;\n",
       "    }\n",
       "\n",
       "    .dataframe thead th {\n",
       "        text-align: right;\n",
       "    }\n",
       "</style>\n",
       "<table border=\"1\" class=\"dataframe\">\n",
       "  <thead>\n",
       "    <tr style=\"text-align: right;\">\n",
       "      <th></th>\n",
       "      <th>hope</th>\n",
       "      <th>good</th>\n",
       "      <th>week</th>\n",
       "      <th>checking</th>\n",
       "      <th>k</th>\n",
       "      <th>give</th>\n",
       "      <th>back</th>\n",
       "      <th>thanks</th>\n",
       "      <th>also</th>\n",
       "      <th>cbe</th>\n",
       "      <th>...</th>\n",
       "      <th>sang</th>\n",
       "      <th>uptown</th>\n",
       "      <th>pounded</th>\n",
       "      <th>young</th>\n",
       "      <th>diesel</th>\n",
       "      <th>jsco</th>\n",
       "      <th>leadership</th>\n",
       "      <th>skills</th>\n",
       "      <th>psychic</th>\n",
       "      <th>Target</th>\n",
       "    </tr>\n",
       "  </thead>\n",
       "  <tbody>\n",
       "    <tr>\n",
       "      <th>0</th>\n",
       "      <td>1.0</td>\n",
       "      <td>1.0</td>\n",
       "      <td>1.0</td>\n",
       "      <td>1.0</td>\n",
       "      <td>0.0</td>\n",
       "      <td>0.0</td>\n",
       "      <td>0.0</td>\n",
       "      <td>0.0</td>\n",
       "      <td>0.0</td>\n",
       "      <td>0.0</td>\n",
       "      <td>...</td>\n",
       "      <td>0.0</td>\n",
       "      <td>0.0</td>\n",
       "      <td>0.0</td>\n",
       "      <td>0.0</td>\n",
       "      <td>0.0</td>\n",
       "      <td>0.0</td>\n",
       "      <td>0.0</td>\n",
       "      <td>0.0</td>\n",
       "      <td>0.0</td>\n",
       "      <td>0</td>\n",
       "    </tr>\n",
       "    <tr>\n",
       "      <th>1</th>\n",
       "      <td>0.0</td>\n",
       "      <td>0.0</td>\n",
       "      <td>0.0</td>\n",
       "      <td>0.0</td>\n",
       "      <td>1.0</td>\n",
       "      <td>1.0</td>\n",
       "      <td>1.0</td>\n",
       "      <td>1.0</td>\n",
       "      <td>0.0</td>\n",
       "      <td>0.0</td>\n",
       "      <td>...</td>\n",
       "      <td>0.0</td>\n",
       "      <td>0.0</td>\n",
       "      <td>0.0</td>\n",
       "      <td>0.0</td>\n",
       "      <td>0.0</td>\n",
       "      <td>0.0</td>\n",
       "      <td>0.0</td>\n",
       "      <td>0.0</td>\n",
       "      <td>0.0</td>\n",
       "      <td>0</td>\n",
       "    </tr>\n",
       "    <tr>\n",
       "      <th>2</th>\n",
       "      <td>0.0</td>\n",
       "      <td>0.0</td>\n",
       "      <td>0.0</td>\n",
       "      <td>0.0</td>\n",
       "      <td>0.0</td>\n",
       "      <td>0.0</td>\n",
       "      <td>0.0</td>\n",
       "      <td>0.0</td>\n",
       "      <td>1.0</td>\n",
       "      <td>1.0</td>\n",
       "      <td>...</td>\n",
       "      <td>0.0</td>\n",
       "      <td>0.0</td>\n",
       "      <td>0.0</td>\n",
       "      <td>0.0</td>\n",
       "      <td>0.0</td>\n",
       "      <td>0.0</td>\n",
       "      <td>0.0</td>\n",
       "      <td>0.0</td>\n",
       "      <td>0.0</td>\n",
       "      <td>0</td>\n",
       "    </tr>\n",
       "    <tr>\n",
       "      <th>3</th>\n",
       "      <td>0.0</td>\n",
       "      <td>0.0</td>\n",
       "      <td>0.0</td>\n",
       "      <td>0.0</td>\n",
       "      <td>0.0</td>\n",
       "      <td>0.0</td>\n",
       "      <td>0.0</td>\n",
       "      <td>0.0</td>\n",
       "      <td>0.0</td>\n",
       "      <td>0.0</td>\n",
       "      <td>...</td>\n",
       "      <td>0.0</td>\n",
       "      <td>0.0</td>\n",
       "      <td>0.0</td>\n",
       "      <td>0.0</td>\n",
       "      <td>0.0</td>\n",
       "      <td>0.0</td>\n",
       "      <td>0.0</td>\n",
       "      <td>0.0</td>\n",
       "      <td>0.0</td>\n",
       "      <td>1</td>\n",
       "    </tr>\n",
       "    <tr>\n",
       "      <th>4</th>\n",
       "      <td>0.0</td>\n",
       "      <td>0.0</td>\n",
       "      <td>0.0</td>\n",
       "      <td>0.0</td>\n",
       "      <td>0.0</td>\n",
       "      <td>0.0</td>\n",
       "      <td>0.0</td>\n",
       "      <td>0.0</td>\n",
       "      <td>0.0</td>\n",
       "      <td>0.0</td>\n",
       "      <td>...</td>\n",
       "      <td>0.0</td>\n",
       "      <td>0.0</td>\n",
       "      <td>0.0</td>\n",
       "      <td>0.0</td>\n",
       "      <td>0.0</td>\n",
       "      <td>0.0</td>\n",
       "      <td>0.0</td>\n",
       "      <td>0.0</td>\n",
       "      <td>0.0</td>\n",
       "      <td>1</td>\n",
       "    </tr>\n",
       "    <tr>\n",
       "      <th>...</th>\n",
       "      <td>...</td>\n",
       "      <td>...</td>\n",
       "      <td>...</td>\n",
       "      <td>...</td>\n",
       "      <td>...</td>\n",
       "      <td>...</td>\n",
       "      <td>...</td>\n",
       "      <td>...</td>\n",
       "      <td>...</td>\n",
       "      <td>...</td>\n",
       "      <td>...</td>\n",
       "      <td>...</td>\n",
       "      <td>...</td>\n",
       "      <td>...</td>\n",
       "      <td>...</td>\n",
       "      <td>...</td>\n",
       "      <td>...</td>\n",
       "      <td>...</td>\n",
       "      <td>...</td>\n",
       "      <td>...</td>\n",
       "      <td>...</td>\n",
       "    </tr>\n",
       "    <tr>\n",
       "      <th>5554</th>\n",
       "      <td>0.0</td>\n",
       "      <td>0.0</td>\n",
       "      <td>0.0</td>\n",
       "      <td>0.0</td>\n",
       "      <td>0.0</td>\n",
       "      <td>0.0</td>\n",
       "      <td>0.0</td>\n",
       "      <td>0.0</td>\n",
       "      <td>0.0</td>\n",
       "      <td>0.0</td>\n",
       "      <td>...</td>\n",
       "      <td>0.0</td>\n",
       "      <td>0.0</td>\n",
       "      <td>0.0</td>\n",
       "      <td>1.0</td>\n",
       "      <td>0.0</td>\n",
       "      <td>0.0</td>\n",
       "      <td>0.0</td>\n",
       "      <td>0.0</td>\n",
       "      <td>0.0</td>\n",
       "      <td>0</td>\n",
       "    </tr>\n",
       "    <tr>\n",
       "      <th>5555</th>\n",
       "      <td>0.0</td>\n",
       "      <td>0.0</td>\n",
       "      <td>0.0</td>\n",
       "      <td>0.0</td>\n",
       "      <td>0.0</td>\n",
       "      <td>0.0</td>\n",
       "      <td>0.0</td>\n",
       "      <td>0.0</td>\n",
       "      <td>0.0</td>\n",
       "      <td>0.0</td>\n",
       "      <td>...</td>\n",
       "      <td>0.0</td>\n",
       "      <td>0.0</td>\n",
       "      <td>0.0</td>\n",
       "      <td>0.0</td>\n",
       "      <td>1.0</td>\n",
       "      <td>0.0</td>\n",
       "      <td>0.0</td>\n",
       "      <td>0.0</td>\n",
       "      <td>0.0</td>\n",
       "      <td>0</td>\n",
       "    </tr>\n",
       "    <tr>\n",
       "      <th>5556</th>\n",
       "      <td>0.0</td>\n",
       "      <td>0.0</td>\n",
       "      <td>0.0</td>\n",
       "      <td>0.0</td>\n",
       "      <td>0.0</td>\n",
       "      <td>0.0</td>\n",
       "      <td>1.0</td>\n",
       "      <td>0.0</td>\n",
       "      <td>0.0</td>\n",
       "      <td>0.0</td>\n",
       "      <td>...</td>\n",
       "      <td>0.0</td>\n",
       "      <td>0.0</td>\n",
       "      <td>0.0</td>\n",
       "      <td>0.0</td>\n",
       "      <td>0.0</td>\n",
       "      <td>0.0</td>\n",
       "      <td>0.0</td>\n",
       "      <td>0.0</td>\n",
       "      <td>0.0</td>\n",
       "      <td>1</td>\n",
       "    </tr>\n",
       "    <tr>\n",
       "      <th>5557</th>\n",
       "      <td>0.0</td>\n",
       "      <td>0.0</td>\n",
       "      <td>0.0</td>\n",
       "      <td>0.0</td>\n",
       "      <td>0.0</td>\n",
       "      <td>0.0</td>\n",
       "      <td>0.0</td>\n",
       "      <td>0.0</td>\n",
       "      <td>0.0</td>\n",
       "      <td>0.0</td>\n",
       "      <td>...</td>\n",
       "      <td>0.0</td>\n",
       "      <td>0.0</td>\n",
       "      <td>0.0</td>\n",
       "      <td>0.0</td>\n",
       "      <td>0.0</td>\n",
       "      <td>2.0</td>\n",
       "      <td>1.0</td>\n",
       "      <td>1.0</td>\n",
       "      <td>1.0</td>\n",
       "      <td>1</td>\n",
       "    </tr>\n",
       "    <tr>\n",
       "      <th>5558</th>\n",
       "      <td>0.0</td>\n",
       "      <td>0.0</td>\n",
       "      <td>0.0</td>\n",
       "      <td>0.0</td>\n",
       "      <td>0.0</td>\n",
       "      <td>0.0</td>\n",
       "      <td>0.0</td>\n",
       "      <td>0.0</td>\n",
       "      <td>0.0</td>\n",
       "      <td>0.0</td>\n",
       "      <td>...</td>\n",
       "      <td>0.0</td>\n",
       "      <td>0.0</td>\n",
       "      <td>0.0</td>\n",
       "      <td>0.0</td>\n",
       "      <td>0.0</td>\n",
       "      <td>0.0</td>\n",
       "      <td>0.0</td>\n",
       "      <td>0.0</td>\n",
       "      <td>0.0</td>\n",
       "      <td>0</td>\n",
       "    </tr>\n",
       "  </tbody>\n",
       "</table>\n",
       "<p>5559 rows × 7593 columns</p>\n",
       "</div>"
      ],
      "text/plain": [
       "      hope  good  week  checking    k  give  back  thanks  also  cbe  ...  \\\n",
       "0      1.0   1.0   1.0       1.0  0.0   0.0   0.0     0.0   0.0  0.0  ...   \n",
       "1      0.0   0.0   0.0       0.0  1.0   1.0   1.0     1.0   0.0  0.0  ...   \n",
       "2      0.0   0.0   0.0       0.0  0.0   0.0   0.0     0.0   1.0  1.0  ...   \n",
       "3      0.0   0.0   0.0       0.0  0.0   0.0   0.0     0.0   0.0  0.0  ...   \n",
       "4      0.0   0.0   0.0       0.0  0.0   0.0   0.0     0.0   0.0  0.0  ...   \n",
       "...    ...   ...   ...       ...  ...   ...   ...     ...   ...  ...  ...   \n",
       "5554   0.0   0.0   0.0       0.0  0.0   0.0   0.0     0.0   0.0  0.0  ...   \n",
       "5555   0.0   0.0   0.0       0.0  0.0   0.0   0.0     0.0   0.0  0.0  ...   \n",
       "5556   0.0   0.0   0.0       0.0  0.0   0.0   1.0     0.0   0.0  0.0  ...   \n",
       "5557   0.0   0.0   0.0       0.0  0.0   0.0   0.0     0.0   0.0  0.0  ...   \n",
       "5558   0.0   0.0   0.0       0.0  0.0   0.0   0.0     0.0   0.0  0.0  ...   \n",
       "\n",
       "      sang  uptown  pounded  young  diesel  jsco  leadership  skills  psychic  \\\n",
       "0      0.0     0.0      0.0    0.0     0.0   0.0         0.0     0.0      0.0   \n",
       "1      0.0     0.0      0.0    0.0     0.0   0.0         0.0     0.0      0.0   \n",
       "2      0.0     0.0      0.0    0.0     0.0   0.0         0.0     0.0      0.0   \n",
       "3      0.0     0.0      0.0    0.0     0.0   0.0         0.0     0.0      0.0   \n",
       "4      0.0     0.0      0.0    0.0     0.0   0.0         0.0     0.0      0.0   \n",
       "...    ...     ...      ...    ...     ...   ...         ...     ...      ...   \n",
       "5554   0.0     0.0      0.0    1.0     0.0   0.0         0.0     0.0      0.0   \n",
       "5555   0.0     0.0      0.0    0.0     1.0   0.0         0.0     0.0      0.0   \n",
       "5556   0.0     0.0      0.0    0.0     0.0   0.0         0.0     0.0      0.0   \n",
       "5557   0.0     0.0      0.0    0.0     0.0   2.0         1.0     1.0      1.0   \n",
       "5558   0.0     0.0      0.0    0.0     0.0   0.0         0.0     0.0      0.0   \n",
       "\n",
       "      Target  \n",
       "0          0  \n",
       "1          0  \n",
       "2          0  \n",
       "3          1  \n",
       "4          1  \n",
       "...      ...  \n",
       "5554       0  \n",
       "5555       0  \n",
       "5556       1  \n",
       "5557       1  \n",
       "5558       0  \n",
       "\n",
       "[5559 rows x 7593 columns]"
      ]
     },
     "execution_count": 73,
     "metadata": {},
     "output_type": "execute_result"
    }
   ],
   "source": [
    "# Remove the stop words columns from the DataFrame\n",
    "# The 'errors=\"ignore\"' parameter ensures that non-existent columns are ignored\n",
    "df_filtered_sw = df.drop(stop_words, axis=1, errors=\"ignore\")\n",
    "\n",
    "# Display the resulting DataFrame after stop words removal\n",
    "df_filtered_sw"
   ]
  },
  {
   "cell_type": "code",
   "execution_count": 74,
   "metadata": {
    "colab": {
     "base_uri": "https://localhost:8080/",
     "height": 424
    },
    "id": "dz6LFk_UICg2",
    "outputId": "d0cfec5c-a460-41c4-b00a-e018958be7cb"
   },
   "outputs": [
    {
     "data": {
      "text/html": [
       "<div>\n",
       "<style scoped>\n",
       "    .dataframe tbody tr th:only-of-type {\n",
       "        vertical-align: middle;\n",
       "    }\n",
       "\n",
       "    .dataframe tbody tr th {\n",
       "        vertical-align: top;\n",
       "    }\n",
       "\n",
       "    .dataframe thead th {\n",
       "        text-align: right;\n",
       "    }\n",
       "</style>\n",
       "<table border=\"1\" class=\"dataframe\">\n",
       "  <thead>\n",
       "    <tr style=\"text-align: right;\">\n",
       "      <th></th>\n",
       "      <th>hope</th>\n",
       "      <th>good</th>\n",
       "      <th>week</th>\n",
       "      <th>checking</th>\n",
       "      <th>k</th>\n",
       "      <th>give</th>\n",
       "      <th>back</th>\n",
       "      <th>thanks</th>\n",
       "      <th>also</th>\n",
       "      <th>cbe</th>\n",
       "      <th>...</th>\n",
       "      <th>blanket</th>\n",
       "      <th>sang</th>\n",
       "      <th>uptown</th>\n",
       "      <th>pounded</th>\n",
       "      <th>young</th>\n",
       "      <th>diesel</th>\n",
       "      <th>jsco</th>\n",
       "      <th>leadership</th>\n",
       "      <th>skills</th>\n",
       "      <th>psychic</th>\n",
       "    </tr>\n",
       "  </thead>\n",
       "  <tbody>\n",
       "    <tr>\n",
       "      <th>0</th>\n",
       "      <td>1.0</td>\n",
       "      <td>1.0</td>\n",
       "      <td>1.0</td>\n",
       "      <td>1.0</td>\n",
       "      <td>0.0</td>\n",
       "      <td>0.0</td>\n",
       "      <td>0.0</td>\n",
       "      <td>0.0</td>\n",
       "      <td>0.0</td>\n",
       "      <td>0.0</td>\n",
       "      <td>...</td>\n",
       "      <td>0.0</td>\n",
       "      <td>0.0</td>\n",
       "      <td>0.0</td>\n",
       "      <td>0.0</td>\n",
       "      <td>0.0</td>\n",
       "      <td>0.0</td>\n",
       "      <td>0.0</td>\n",
       "      <td>0.0</td>\n",
       "      <td>0.0</td>\n",
       "      <td>0.0</td>\n",
       "    </tr>\n",
       "    <tr>\n",
       "      <th>1</th>\n",
       "      <td>0.0</td>\n",
       "      <td>0.0</td>\n",
       "      <td>0.0</td>\n",
       "      <td>0.0</td>\n",
       "      <td>1.0</td>\n",
       "      <td>1.0</td>\n",
       "      <td>1.0</td>\n",
       "      <td>1.0</td>\n",
       "      <td>0.0</td>\n",
       "      <td>0.0</td>\n",
       "      <td>...</td>\n",
       "      <td>0.0</td>\n",
       "      <td>0.0</td>\n",
       "      <td>0.0</td>\n",
       "      <td>0.0</td>\n",
       "      <td>0.0</td>\n",
       "      <td>0.0</td>\n",
       "      <td>0.0</td>\n",
       "      <td>0.0</td>\n",
       "      <td>0.0</td>\n",
       "      <td>0.0</td>\n",
       "    </tr>\n",
       "    <tr>\n",
       "      <th>2</th>\n",
       "      <td>0.0</td>\n",
       "      <td>0.0</td>\n",
       "      <td>0.0</td>\n",
       "      <td>0.0</td>\n",
       "      <td>0.0</td>\n",
       "      <td>0.0</td>\n",
       "      <td>0.0</td>\n",
       "      <td>0.0</td>\n",
       "      <td>1.0</td>\n",
       "      <td>1.0</td>\n",
       "      <td>...</td>\n",
       "      <td>0.0</td>\n",
       "      <td>0.0</td>\n",
       "      <td>0.0</td>\n",
       "      <td>0.0</td>\n",
       "      <td>0.0</td>\n",
       "      <td>0.0</td>\n",
       "      <td>0.0</td>\n",
       "      <td>0.0</td>\n",
       "      <td>0.0</td>\n",
       "      <td>0.0</td>\n",
       "    </tr>\n",
       "    <tr>\n",
       "      <th>3</th>\n",
       "      <td>0.0</td>\n",
       "      <td>0.0</td>\n",
       "      <td>0.0</td>\n",
       "      <td>0.0</td>\n",
       "      <td>0.0</td>\n",
       "      <td>0.0</td>\n",
       "      <td>0.0</td>\n",
       "      <td>0.0</td>\n",
       "      <td>0.0</td>\n",
       "      <td>0.0</td>\n",
       "      <td>...</td>\n",
       "      <td>0.0</td>\n",
       "      <td>0.0</td>\n",
       "      <td>0.0</td>\n",
       "      <td>0.0</td>\n",
       "      <td>0.0</td>\n",
       "      <td>0.0</td>\n",
       "      <td>0.0</td>\n",
       "      <td>0.0</td>\n",
       "      <td>0.0</td>\n",
       "      <td>0.0</td>\n",
       "    </tr>\n",
       "    <tr>\n",
       "      <th>4</th>\n",
       "      <td>0.0</td>\n",
       "      <td>0.0</td>\n",
       "      <td>0.0</td>\n",
       "      <td>0.0</td>\n",
       "      <td>0.0</td>\n",
       "      <td>0.0</td>\n",
       "      <td>0.0</td>\n",
       "      <td>0.0</td>\n",
       "      <td>0.0</td>\n",
       "      <td>0.0</td>\n",
       "      <td>...</td>\n",
       "      <td>0.0</td>\n",
       "      <td>0.0</td>\n",
       "      <td>0.0</td>\n",
       "      <td>0.0</td>\n",
       "      <td>0.0</td>\n",
       "      <td>0.0</td>\n",
       "      <td>0.0</td>\n",
       "      <td>0.0</td>\n",
       "      <td>0.0</td>\n",
       "      <td>0.0</td>\n",
       "    </tr>\n",
       "    <tr>\n",
       "      <th>...</th>\n",
       "      <td>...</td>\n",
       "      <td>...</td>\n",
       "      <td>...</td>\n",
       "      <td>...</td>\n",
       "      <td>...</td>\n",
       "      <td>...</td>\n",
       "      <td>...</td>\n",
       "      <td>...</td>\n",
       "      <td>...</td>\n",
       "      <td>...</td>\n",
       "      <td>...</td>\n",
       "      <td>...</td>\n",
       "      <td>...</td>\n",
       "      <td>...</td>\n",
       "      <td>...</td>\n",
       "      <td>...</td>\n",
       "      <td>...</td>\n",
       "      <td>...</td>\n",
       "      <td>...</td>\n",
       "      <td>...</td>\n",
       "      <td>...</td>\n",
       "    </tr>\n",
       "    <tr>\n",
       "      <th>5554</th>\n",
       "      <td>0.0</td>\n",
       "      <td>0.0</td>\n",
       "      <td>0.0</td>\n",
       "      <td>0.0</td>\n",
       "      <td>0.0</td>\n",
       "      <td>0.0</td>\n",
       "      <td>0.0</td>\n",
       "      <td>0.0</td>\n",
       "      <td>0.0</td>\n",
       "      <td>0.0</td>\n",
       "      <td>...</td>\n",
       "      <td>0.0</td>\n",
       "      <td>0.0</td>\n",
       "      <td>0.0</td>\n",
       "      <td>0.0</td>\n",
       "      <td>1.0</td>\n",
       "      <td>0.0</td>\n",
       "      <td>0.0</td>\n",
       "      <td>0.0</td>\n",
       "      <td>0.0</td>\n",
       "      <td>0.0</td>\n",
       "    </tr>\n",
       "    <tr>\n",
       "      <th>5555</th>\n",
       "      <td>0.0</td>\n",
       "      <td>0.0</td>\n",
       "      <td>0.0</td>\n",
       "      <td>0.0</td>\n",
       "      <td>0.0</td>\n",
       "      <td>0.0</td>\n",
       "      <td>0.0</td>\n",
       "      <td>0.0</td>\n",
       "      <td>0.0</td>\n",
       "      <td>0.0</td>\n",
       "      <td>...</td>\n",
       "      <td>0.0</td>\n",
       "      <td>0.0</td>\n",
       "      <td>0.0</td>\n",
       "      <td>0.0</td>\n",
       "      <td>0.0</td>\n",
       "      <td>1.0</td>\n",
       "      <td>0.0</td>\n",
       "      <td>0.0</td>\n",
       "      <td>0.0</td>\n",
       "      <td>0.0</td>\n",
       "    </tr>\n",
       "    <tr>\n",
       "      <th>5556</th>\n",
       "      <td>0.0</td>\n",
       "      <td>0.0</td>\n",
       "      <td>0.0</td>\n",
       "      <td>0.0</td>\n",
       "      <td>0.0</td>\n",
       "      <td>0.0</td>\n",
       "      <td>1.0</td>\n",
       "      <td>0.0</td>\n",
       "      <td>0.0</td>\n",
       "      <td>0.0</td>\n",
       "      <td>...</td>\n",
       "      <td>0.0</td>\n",
       "      <td>0.0</td>\n",
       "      <td>0.0</td>\n",
       "      <td>0.0</td>\n",
       "      <td>0.0</td>\n",
       "      <td>0.0</td>\n",
       "      <td>0.0</td>\n",
       "      <td>0.0</td>\n",
       "      <td>0.0</td>\n",
       "      <td>0.0</td>\n",
       "    </tr>\n",
       "    <tr>\n",
       "      <th>5557</th>\n",
       "      <td>0.0</td>\n",
       "      <td>0.0</td>\n",
       "      <td>0.0</td>\n",
       "      <td>0.0</td>\n",
       "      <td>0.0</td>\n",
       "      <td>0.0</td>\n",
       "      <td>0.0</td>\n",
       "      <td>0.0</td>\n",
       "      <td>0.0</td>\n",
       "      <td>0.0</td>\n",
       "      <td>...</td>\n",
       "      <td>0.0</td>\n",
       "      <td>0.0</td>\n",
       "      <td>0.0</td>\n",
       "      <td>0.0</td>\n",
       "      <td>0.0</td>\n",
       "      <td>0.0</td>\n",
       "      <td>2.0</td>\n",
       "      <td>1.0</td>\n",
       "      <td>1.0</td>\n",
       "      <td>1.0</td>\n",
       "    </tr>\n",
       "    <tr>\n",
       "      <th>5558</th>\n",
       "      <td>0.0</td>\n",
       "      <td>0.0</td>\n",
       "      <td>0.0</td>\n",
       "      <td>0.0</td>\n",
       "      <td>0.0</td>\n",
       "      <td>0.0</td>\n",
       "      <td>0.0</td>\n",
       "      <td>0.0</td>\n",
       "      <td>0.0</td>\n",
       "      <td>0.0</td>\n",
       "      <td>...</td>\n",
       "      <td>0.0</td>\n",
       "      <td>0.0</td>\n",
       "      <td>0.0</td>\n",
       "      <td>0.0</td>\n",
       "      <td>0.0</td>\n",
       "      <td>0.0</td>\n",
       "      <td>0.0</td>\n",
       "      <td>0.0</td>\n",
       "      <td>0.0</td>\n",
       "      <td>0.0</td>\n",
       "    </tr>\n",
       "  </tbody>\n",
       "</table>\n",
       "<p>5559 rows × 7592 columns</p>\n",
       "</div>"
      ],
      "text/plain": [
       "      hope  good  week  checking    k  give  back  thanks  also  cbe  ...  \\\n",
       "0      1.0   1.0   1.0       1.0  0.0   0.0   0.0     0.0   0.0  0.0  ...   \n",
       "1      0.0   0.0   0.0       0.0  1.0   1.0   1.0     1.0   0.0  0.0  ...   \n",
       "2      0.0   0.0   0.0       0.0  0.0   0.0   0.0     0.0   1.0  1.0  ...   \n",
       "3      0.0   0.0   0.0       0.0  0.0   0.0   0.0     0.0   0.0  0.0  ...   \n",
       "4      0.0   0.0   0.0       0.0  0.0   0.0   0.0     0.0   0.0  0.0  ...   \n",
       "...    ...   ...   ...       ...  ...   ...   ...     ...   ...  ...  ...   \n",
       "5554   0.0   0.0   0.0       0.0  0.0   0.0   0.0     0.0   0.0  0.0  ...   \n",
       "5555   0.0   0.0   0.0       0.0  0.0   0.0   0.0     0.0   0.0  0.0  ...   \n",
       "5556   0.0   0.0   0.0       0.0  0.0   0.0   1.0     0.0   0.0  0.0  ...   \n",
       "5557   0.0   0.0   0.0       0.0  0.0   0.0   0.0     0.0   0.0  0.0  ...   \n",
       "5558   0.0   0.0   0.0       0.0  0.0   0.0   0.0     0.0   0.0  0.0  ...   \n",
       "\n",
       "      blanket  sang  uptown  pounded  young  diesel  jsco  leadership  skills  \\\n",
       "0         0.0   0.0     0.0      0.0    0.0     0.0   0.0         0.0     0.0   \n",
       "1         0.0   0.0     0.0      0.0    0.0     0.0   0.0         0.0     0.0   \n",
       "2         0.0   0.0     0.0      0.0    0.0     0.0   0.0         0.0     0.0   \n",
       "3         0.0   0.0     0.0      0.0    0.0     0.0   0.0         0.0     0.0   \n",
       "4         0.0   0.0     0.0      0.0    0.0     0.0   0.0         0.0     0.0   \n",
       "...       ...   ...     ...      ...    ...     ...   ...         ...     ...   \n",
       "5554      0.0   0.0     0.0      0.0    1.0     0.0   0.0         0.0     0.0   \n",
       "5555      0.0   0.0     0.0      0.0    0.0     1.0   0.0         0.0     0.0   \n",
       "5556      0.0   0.0     0.0      0.0    0.0     0.0   0.0         0.0     0.0   \n",
       "5557      0.0   0.0     0.0      0.0    0.0     0.0   2.0         1.0     1.0   \n",
       "5558      0.0   0.0     0.0      0.0    0.0     0.0   0.0         0.0     0.0   \n",
       "\n",
       "      psychic  \n",
       "0         0.0  \n",
       "1         0.0  \n",
       "2         0.0  \n",
       "3         0.0  \n",
       "4         0.0  \n",
       "...       ...  \n",
       "5554      0.0  \n",
       "5555      0.0  \n",
       "5556      0.0  \n",
       "5557      1.0  \n",
       "5558      0.0  \n",
       "\n",
       "[5559 rows x 7592 columns]"
      ]
     },
     "execution_count": 74,
     "metadata": {},
     "output_type": "execute_result"
    }
   ],
   "source": [
    "# Create a new DataFrame X_filtered_sw by dropping the 'Target' column from df_filtered_sw\n",
    "X_filtered_sw = df_filtered_sw.drop(\"Target\", axis=1)\n",
    "\n",
    "# Display X_filtered_sw, which now contains the filtered features after stop words removal\n",
    "X_filtered_sw"
   ]
  },
  {
   "cell_type": "code",
   "execution_count": 75,
   "metadata": {
    "colab": {
     "base_uri": "https://localhost:8080/",
     "height": 458
    },
    "id": "kk4pxy7WIf-d",
    "outputId": "ab46d6a5-703c-43a6-c996-ac8ff957b16f"
   },
   "outputs": [
    {
     "data": {
      "text/plain": [
       "0       0\n",
       "1       0\n",
       "2       0\n",
       "3       1\n",
       "4       1\n",
       "       ..\n",
       "5554    0\n",
       "5555    0\n",
       "5556    1\n",
       "5557    1\n",
       "5558    0\n",
       "Name: Target, Length: 5559, dtype: int64"
      ]
     },
     "execution_count": 75,
     "metadata": {},
     "output_type": "execute_result"
    }
   ],
   "source": [
    "# Create a new Series y_filtered_sw containing the 'Target' column from df_filtered_sw\n",
    "y_filtered_sw = df_filtered_sw[\"Target\"]\n",
    "\n",
    "# Display y_filtered_sw, which now contains the labels after stop words removal\n",
    "y_filtered_sw"
   ]
  },
  {
   "cell_type": "markdown",
   "metadata": {
    "id": "qFItbSmjIx9D"
   },
   "source": [
    "#### Split the Filtered Dataset Into Training and Testing Sets"
   ]
  },
  {
   "cell_type": "code",
   "execution_count": 76,
   "metadata": {
    "colab": {
     "base_uri": "https://localhost:8080/"
    },
    "id": "0xVIpgnjI6x8",
    "outputId": "16a37735-3caf-4bf5-8a28-4abe24b76615"
   },
   "outputs": [
    {
     "name": "stdout",
     "output_type": "stream",
     "text": [
      "(4447, 7592) (4447,) (1112, 7592) (1112,)\n"
     ]
    }
   ],
   "source": [
    "X_train_filtered_sw, X_test_filtered_sw, y_train_filtered_sw, y_test_filtered_sw = train_test_split(X_filtered_sw, y_filtered_sw, test_size=0.2, random_state=42)\n",
    "\n",
    "# Print the shapes of the training and testing sets to verify the split\n",
    "print(X_train_filtered_sw.shape, y_train_filtered_sw.shape, X_test_filtered_sw.shape, y_test_filtered_sw.shape)"
   ]
  },
  {
   "cell_type": "markdown",
   "metadata": {
    "id": "97Kvx6aJJQWR"
   },
   "source": [
    "#### Apply Logistic Regression"
   ]
  },
  {
   "cell_type": "code",
   "execution_count": 77,
   "metadata": {
    "colab": {
     "base_uri": "https://localhost:8080/",
     "height": 80
    },
    "id": "RjmHjzugJYR0",
    "outputId": "7b521887-09ec-4cab-cb23-51d47ec8555d"
   },
   "outputs": [
    {
     "data": {
      "text/html": [
       "<style>#sk-container-id-3 {color: black;}#sk-container-id-3 pre{padding: 0;}#sk-container-id-3 div.sk-toggleable {background-color: white;}#sk-container-id-3 label.sk-toggleable__label {cursor: pointer;display: block;width: 100%;margin-bottom: 0;padding: 0.3em;box-sizing: border-box;text-align: center;}#sk-container-id-3 label.sk-toggleable__label-arrow:before {content: \"▸\";float: left;margin-right: 0.25em;color: #696969;}#sk-container-id-3 label.sk-toggleable__label-arrow:hover:before {color: black;}#sk-container-id-3 div.sk-estimator:hover label.sk-toggleable__label-arrow:before {color: black;}#sk-container-id-3 div.sk-toggleable__content {max-height: 0;max-width: 0;overflow: hidden;text-align: left;background-color: #f0f8ff;}#sk-container-id-3 div.sk-toggleable__content pre {margin: 0.2em;color: black;border-radius: 0.25em;background-color: #f0f8ff;}#sk-container-id-3 input.sk-toggleable__control:checked~div.sk-toggleable__content {max-height: 200px;max-width: 100%;overflow: auto;}#sk-container-id-3 input.sk-toggleable__control:checked~label.sk-toggleable__label-arrow:before {content: \"▾\";}#sk-container-id-3 div.sk-estimator input.sk-toggleable__control:checked~label.sk-toggleable__label {background-color: #d4ebff;}#sk-container-id-3 div.sk-label input.sk-toggleable__control:checked~label.sk-toggleable__label {background-color: #d4ebff;}#sk-container-id-3 input.sk-hidden--visually {border: 0;clip: rect(1px 1px 1px 1px);clip: rect(1px, 1px, 1px, 1px);height: 1px;margin: -1px;overflow: hidden;padding: 0;position: absolute;width: 1px;}#sk-container-id-3 div.sk-estimator {font-family: monospace;background-color: #f0f8ff;border: 1px dotted black;border-radius: 0.25em;box-sizing: border-box;margin-bottom: 0.5em;}#sk-container-id-3 div.sk-estimator:hover {background-color: #d4ebff;}#sk-container-id-3 div.sk-parallel-item::after {content: \"\";width: 100%;border-bottom: 1px solid gray;flex-grow: 1;}#sk-container-id-3 div.sk-label:hover label.sk-toggleable__label {background-color: #d4ebff;}#sk-container-id-3 div.sk-serial::before {content: \"\";position: absolute;border-left: 1px solid gray;box-sizing: border-box;top: 0;bottom: 0;left: 50%;z-index: 0;}#sk-container-id-3 div.sk-serial {display: flex;flex-direction: column;align-items: center;background-color: white;padding-right: 0.2em;padding-left: 0.2em;position: relative;}#sk-container-id-3 div.sk-item {position: relative;z-index: 1;}#sk-container-id-3 div.sk-parallel {display: flex;align-items: stretch;justify-content: center;background-color: white;position: relative;}#sk-container-id-3 div.sk-item::before, #sk-container-id-3 div.sk-parallel-item::before {content: \"\";position: absolute;border-left: 1px solid gray;box-sizing: border-box;top: 0;bottom: 0;left: 50%;z-index: -1;}#sk-container-id-3 div.sk-parallel-item {display: flex;flex-direction: column;z-index: 1;position: relative;background-color: white;}#sk-container-id-3 div.sk-parallel-item:first-child::after {align-self: flex-end;width: 50%;}#sk-container-id-3 div.sk-parallel-item:last-child::after {align-self: flex-start;width: 50%;}#sk-container-id-3 div.sk-parallel-item:only-child::after {width: 0;}#sk-container-id-3 div.sk-dashed-wrapped {border: 1px dashed gray;margin: 0 0.4em 0.5em 0.4em;box-sizing: border-box;padding-bottom: 0.4em;background-color: white;}#sk-container-id-3 div.sk-label label {font-family: monospace;font-weight: bold;display: inline-block;line-height: 1.2em;}#sk-container-id-3 div.sk-label-container {text-align: center;}#sk-container-id-3 div.sk-container {/* jupyter's `normalize.less` sets `[hidden] { display: none; }` but bootstrap.min.css set `[hidden] { display: none !important; }` so we also need the `!important` here to be able to override the default hidden behavior on the sphinx rendered scikit-learn.org. See: https://github.com/scikit-learn/scikit-learn/issues/21755 */display: inline-block !important;position: relative;}#sk-container-id-3 div.sk-text-repr-fallback {display: none;}</style><div id=\"sk-container-id-3\" class=\"sk-top-container\"><div class=\"sk-text-repr-fallback\"><pre>LogisticRegression(max_iter=1000, random_state=42)</pre><b>In a Jupyter environment, please rerun this cell to show the HTML representation or trust the notebook. <br />On GitHub, the HTML representation is unable to render, please try loading this page with nbviewer.org.</b></div><div class=\"sk-container\" hidden><div class=\"sk-item\"><div class=\"sk-estimator sk-toggleable\"><input class=\"sk-toggleable__control sk-hidden--visually\" id=\"sk-estimator-id-3\" type=\"checkbox\" checked><label for=\"sk-estimator-id-3\" class=\"sk-toggleable__label sk-toggleable__label-arrow\">LogisticRegression</label><div class=\"sk-toggleable__content\"><pre>LogisticRegression(max_iter=1000, random_state=42)</pre></div></div></div></div></div>"
      ],
      "text/plain": [
       "LogisticRegression(max_iter=1000, random_state=42)"
      ]
     },
     "execution_count": 77,
     "metadata": {},
     "output_type": "execute_result"
    }
   ],
   "source": [
    "# Initialize a Logistic Regression model with specified random state and maximum iterations\n",
    "reg_log_filtered_sw = LogisticRegression(random_state=42, max_iter=1000)\n",
    "\n",
    "# Train the Logistic Regression model on the filtered training data\n",
    "reg_log_filtered_sw.fit(X_train_filtered_sw, y_train_filtered_sw)"
   ]
  },
  {
   "cell_type": "code",
   "execution_count": 78,
   "metadata": {
    "id": "17_8vrIIJv2x"
   },
   "outputs": [],
   "source": [
    "# Predict the labels for the filtered test data using the trained Logistic Regression model\n",
    "y_pred_reg_log_filtered_sw = reg_log_filtered_sw.predict(X_test_filtered_sw)"
   ]
  },
  {
   "cell_type": "code",
   "execution_count": 79,
   "metadata": {
    "colab": {
     "base_uri": "https://localhost:8080/"
    },
    "id": "9Ib8wfhcJ8uF",
    "outputId": "1728e0f7-093b-4f49-c033-5dabe708b66c"
   },
   "outputs": [
    {
     "name": "stdout",
     "output_type": "stream",
     "text": [
      "Classification report: \n",
      "              precision    recall  f1-score   support\n",
      "\n",
      "           0       0.98      1.00      0.99       963\n",
      "           1       0.98      0.85      0.91       149\n",
      "\n",
      "    accuracy                           0.98      1112\n",
      "   macro avg       0.98      0.92      0.95      1112\n",
      "weighted avg       0.98      0.98      0.98      1112\n",
      "\n"
     ]
    }
   ],
   "source": [
    "# Print a header for the classification report\n",
    "print(\"Classification report: \")\n",
    "\n",
    "# Print the classification report to evaluate the performance of the Logistic Regression model\n",
    "print(classification_report(y_test_filtered_sw, y_pred_reg_log_filtered_sw))"
   ]
  },
  {
   "cell_type": "code",
   "execution_count": 80,
   "metadata": {
    "colab": {
     "base_uri": "https://localhost:8080/",
     "height": 195
    },
    "id": "B_1LYGykKRdL",
    "outputId": "e8519d93-aa69-48da-8cf2-3a70c14c8919"
   },
   "outputs": [
    {
     "data": {
      "image/png": "[encoded data removed]",
      "text/plain": [
       "<Figure size 150x150 with 1 Axes>"
      ]
     },
     "metadata": {},
     "output_type": "display_data"
    }
   ],
   "source": [
    "# Compute the confusion matrix to evaluate the performance of the Logistic Regression model\n",
    "cm_reg_log_filtered_sw = confusion_matrix(y_test_filtered_sw, y_pred_reg_log_filtered_sw)\n",
    "\n",
    "df_cm_reg_log_filtered_sw = pd.DataFrame(cm_reg_log_filtered_sw, columns=np.unique(y_test), index = np.unique(y_test))\n",
    "\n",
    "# Set the names for the DataFrame's index (rows) and columns\n",
    "df_cm_reg_log_filtered_sw.index.name = 'Actual'\n",
    "df_cm_reg_log_filtered_sw.columns.name = 'Predicted'\n",
    "\n",
    "# Create a new figure for the heatmap\n",
    "plt.figure(figsize = (1.5,1.5))\n",
    "\n",
    "# Generate the heatmap visualization\n",
    "sb.heatmap(df_cm_reg_log_filtered_sw, annot=True, annot_kws={\"size\": 12}, cbar=False, square=True, fmt=\"d\", cmap=\"Reds\")\n",
    "\n",
    "plt.show()"
   ]
  },
  {
   "cell_type": "markdown",
   "metadata": {
    "id": "2_v7l80HK34V"
   },
   "source": [
    "#### Discussion of Removing Stop Words\n",
    "\n",
    "The model's performance did not improve after removing stop words. There could be several reasons why this happened:\n",
    "\n",
    "- The dataset might not heavily rely on stop words for classification.\n",
    "- Removing stop words might not have reduced the feature space significantly enough to improve model performance."
   ]
  },
  {
   "cell_type": "markdown",
   "metadata": {
    "id": "nvhWWO9aMfbL"
   },
   "source": [
    "### 2. Scaling\n",
    "\n",
    "- Afterwards, decided to use scaling, particularly min-max scaling, with Logistic Regression because it performs better when features are on a similar scale. Min-max scaling was chosen because the data distribution is not Gaussian (not normal).\n",
    "- If features are on different scales (e.g., one feature ranges from 0 to 1000 and another from 0 to 10), features with larger scales can dominate the model's learning process. Scaling ensures that all features are transformed to a similar scale, preventing this dominance and allowing the model to learn from each feature more uniformly.\n",
    "- Besides, scaling ensures that the optimization process converges more quickly and efficiently, leading to faster training times."
   ]
  },
  {
   "cell_type": "markdown",
   "metadata": {
    "id": "ZmXhygpGNDTr"
   },
   "source": [
    "#### Min-Max Scaler"
   ]
  },
  {
   "cell_type": "code",
   "execution_count": 81,
   "metadata": {
    "id": "MivhfL1sNW7J"
   },
   "outputs": [],
   "source": [
    "# Initialize MinMaxScaler for scaling features to a specified range (default is [0, 1])\n",
    "min_max_scaler = preprocessing.MinMaxScaler()"
   ]
  },
  {
   "cell_type": "code",
   "execution_count": 82,
   "metadata": {
    "colab": {
     "base_uri": "https://localhost:8080/"
    },
    "id": "LTIj-zY4NbVV",
    "outputId": "2d14aebc-779a-4c84-8898-9ce6ad65ac79"
   },
   "outputs": [
    {
     "data": {
      "text/plain": [
       "array([[0., 0., 0., ..., 0., 0., 0.],\n",
       "       [0., 0., 0., ..., 0., 0., 0.],\n",
       "       [0., 0., 0., ..., 0., 0., 0.],\n",
       "       ...,\n",
       "       [0., 0., 0., ..., 0., 0., 0.],\n",
       "       [0., 0., 0., ..., 0., 0., 0.],\n",
       "       [0., 0., 0., ..., 0., 0., 0.]])"
      ]
     },
     "execution_count": 82,
     "metadata": {},
     "output_type": "execute_result"
    }
   ],
   "source": [
    "# Fit and transform the training data using MinMaxScaler to scale features to [0, 1]\n",
    "X_train_minmax = min_max_scaler.fit_transform(X_train)\n",
    "X_train_minmax"
   ]
  },
  {
   "cell_type": "code",
   "execution_count": 83,
   "metadata": {
    "colab": {
     "base_uri": "https://localhost:8080/"
    },
    "id": "4ZA6fpIUOBte",
    "outputId": "fe4f89bc-b7cc-4f4d-b6ef-672a74288b19"
   },
   "outputs": [
    {
     "data": {
      "text/plain": [
       "array([[0.        , 0.        , 0.        , ..., 0.        , 0.        ,\n",
       "        0.        ],\n",
       "       [0.        , 0.        , 0.        , ..., 0.        , 0.        ,\n",
       "        0.        ],\n",
       "       [0.        , 0.07142857, 0.        , ..., 0.        , 0.        ,\n",
       "        0.        ],\n",
       "       ...,\n",
       "       [0.        , 0.        , 0.        , ..., 0.        , 0.        ,\n",
       "        0.        ],\n",
       "       [0.        , 0.        , 0.        , ..., 0.        , 0.        ,\n",
       "        0.        ],\n",
       "       [0.        , 0.        , 0.        , ..., 0.        , 0.        ,\n",
       "        0.        ]])"
      ]
     },
     "execution_count": 83,
     "metadata": {},
     "output_type": "execute_result"
    }
   ],
   "source": [
    "# Transform the test data using the MinMaxScaler fitted on X_train\n",
    "X_test_minmax = min_max_scaler.fit_transform(X_test)\n",
    "X_test_minmax"
   ]
  },
  {
   "cell_type": "markdown",
   "metadata": {
    "id": "dIQK_lF6OKyH"
   },
   "source": [
    "#### Apply Logistic Regression"
   ]
  },
  {
   "cell_type": "code",
   "execution_count": 84,
   "metadata": {
    "colab": {
     "base_uri": "https://localhost:8080/",
     "height": 80
    },
    "id": "bxRdphfGOTFF",
    "outputId": "6097a778-2216-45bc-8f32-c8c508571c84"
   },
   "outputs": [
    {
     "data": {
      "text/html": [
       "<style>#sk-container-id-4 {color: black;}#sk-container-id-4 pre{padding: 0;}#sk-container-id-4 div.sk-toggleable {background-color: white;}#sk-container-id-4 label.sk-toggleable__label {cursor: pointer;display: block;width: 100%;margin-bottom: 0;padding: 0.3em;box-sizing: border-box;text-align: center;}#sk-container-id-4 label.sk-toggleable__label-arrow:before {content: \"▸\";float: left;margin-right: 0.25em;color: #696969;}#sk-container-id-4 label.sk-toggleable__label-arrow:hover:before {color: black;}#sk-container-id-4 div.sk-estimator:hover label.sk-toggleable__label-arrow:before {color: black;}#sk-container-id-4 div.sk-toggleable__content {max-height: 0;max-width: 0;overflow: hidden;text-align: left;background-color: #f0f8ff;}#sk-container-id-4 div.sk-toggleable__content pre {margin: 0.2em;color: black;border-radius: 0.25em;background-color: #f0f8ff;}#sk-container-id-4 input.sk-toggleable__control:checked~div.sk-toggleable__content {max-height: 200px;max-width: 100%;overflow: auto;}#sk-container-id-4 input.sk-toggleable__control:checked~label.sk-toggleable__label-arrow:before {content: \"▾\";}#sk-container-id-4 div.sk-estimator input.sk-toggleable__control:checked~label.sk-toggleable__label {background-color: #d4ebff;}#sk-container-id-4 div.sk-label input.sk-toggleable__control:checked~label.sk-toggleable__label {background-color: #d4ebff;}#sk-container-id-4 input.sk-hidden--visually {border: 0;clip: rect(1px 1px 1px 1px);clip: rect(1px, 1px, 1px, 1px);height: 1px;margin: -1px;overflow: hidden;padding: 0;position: absolute;width: 1px;}#sk-container-id-4 div.sk-estimator {font-family: monospace;background-color: #f0f8ff;border: 1px dotted black;border-radius: 0.25em;box-sizing: border-box;margin-bottom: 0.5em;}#sk-container-id-4 div.sk-estimator:hover {background-color: #d4ebff;}#sk-container-id-4 div.sk-parallel-item::after {content: \"\";width: 100%;border-bottom: 1px solid gray;flex-grow: 1;}#sk-container-id-4 div.sk-label:hover label.sk-toggleable__label {background-color: #d4ebff;}#sk-container-id-4 div.sk-serial::before {content: \"\";position: absolute;border-left: 1px solid gray;box-sizing: border-box;top: 0;bottom: 0;left: 50%;z-index: 0;}#sk-container-id-4 div.sk-serial {display: flex;flex-direction: column;align-items: center;background-color: white;padding-right: 0.2em;padding-left: 0.2em;position: relative;}#sk-container-id-4 div.sk-item {position: relative;z-index: 1;}#sk-container-id-4 div.sk-parallel {display: flex;align-items: stretch;justify-content: center;background-color: white;position: relative;}#sk-container-id-4 div.sk-item::before, #sk-container-id-4 div.sk-parallel-item::before {content: \"\";position: absolute;border-left: 1px solid gray;box-sizing: border-box;top: 0;bottom: 0;left: 50%;z-index: -1;}#sk-container-id-4 div.sk-parallel-item {display: flex;flex-direction: column;z-index: 1;position: relative;background-color: white;}#sk-container-id-4 div.sk-parallel-item:first-child::after {align-self: flex-end;width: 50%;}#sk-container-id-4 div.sk-parallel-item:last-child::after {align-self: flex-start;width: 50%;}#sk-container-id-4 div.sk-parallel-item:only-child::after {width: 0;}#sk-container-id-4 div.sk-dashed-wrapped {border: 1px dashed gray;margin: 0 0.4em 0.5em 0.4em;box-sizing: border-box;padding-bottom: 0.4em;background-color: white;}#sk-container-id-4 div.sk-label label {font-family: monospace;font-weight: bold;display: inline-block;line-height: 1.2em;}#sk-container-id-4 div.sk-label-container {text-align: center;}#sk-container-id-4 div.sk-container {/* jupyter's `normalize.less` sets `[hidden] { display: none; }` but bootstrap.min.css set `[hidden] { display: none !important; }` so we also need the `!important` here to be able to override the default hidden behavior on the sphinx rendered scikit-learn.org. See: https://github.com/scikit-learn/scikit-learn/issues/21755 */display: inline-block !important;position: relative;}#sk-container-id-4 div.sk-text-repr-fallback {display: none;}</style><div id=\"sk-container-id-4\" class=\"sk-top-container\"><div class=\"sk-text-repr-fallback\"><pre>LogisticRegression(max_iter=1000, random_state=42)</pre><b>In a Jupyter environment, please rerun this cell to show the HTML representation or trust the notebook. <br />On GitHub, the HTML representation is unable to render, please try loading this page with nbviewer.org.</b></div><div class=\"sk-container\" hidden><div class=\"sk-item\"><div class=\"sk-estimator sk-toggleable\"><input class=\"sk-toggleable__control sk-hidden--visually\" id=\"sk-estimator-id-4\" type=\"checkbox\" checked><label for=\"sk-estimator-id-4\" class=\"sk-toggleable__label sk-toggleable__label-arrow\">LogisticRegression</label><div class=\"sk-toggleable__content\"><pre>LogisticRegression(max_iter=1000, random_state=42)</pre></div></div></div></div></div>"
      ],
      "text/plain": [
       "LogisticRegression(max_iter=1000, random_state=42)"
      ]
     },
     "execution_count": 84,
     "metadata": {},
     "output_type": "execute_result"
    }
   ],
   "source": [
    "# Initialize Logistic Regression with MinMax scaled data\n",
    "reg_log_minmax = LogisticRegression(random_state=42, max_iter=1000)\n",
    "reg_log_minmax.fit(X_train_minmax, y_train)"
   ]
  },
  {
   "cell_type": "code",
   "execution_count": 85,
   "metadata": {
    "id": "iD9rq3CkOaMV"
   },
   "outputs": [],
   "source": [
    "# Predict using the logistic regression model with MinMax scaled test data\n",
    "y_pred_reg_log_minmax = reg_log_minmax.predict(X_test_minmax)"
   ]
  },
  {
   "cell_type": "code",
   "execution_count": 86,
   "metadata": {
    "colab": {
     "base_uri": "https://localhost:8080/"
    },
    "id": "RYKDkfqKOgLC",
    "outputId": "e8a2c3ac-c9cc-4eba-c497-1da366211efb"
   },
   "outputs": [
    {
     "name": "stdout",
     "output_type": "stream",
     "text": [
      "Classification report: \n",
      "              precision    recall  f1-score   support\n",
      "\n",
      "           0       0.98      1.00      0.99       963\n",
      "           1       0.98      0.86      0.92       149\n",
      "\n",
      "    accuracy                           0.98      1112\n",
      "   macro avg       0.98      0.93      0.95      1112\n",
      "weighted avg       0.98      0.98      0.98      1112\n",
      "\n"
     ]
    }
   ],
   "source": [
    "# Print classification report to evaluate model performance\n",
    "print(\"Classification report: \")\n",
    "print(classification_report(y_test, y_pred_reg_log_minmax))"
   ]
  },
  {
   "cell_type": "code",
   "execution_count": 87,
   "metadata": {
    "colab": {
     "base_uri": "https://localhost:8080/",
     "height": 195
    },
    "id": "4VLF7U_POqIp",
    "outputId": "999ea3fa-447f-42ab-bc54-a67acfb57cf6"
   },
   "outputs": [
    {
     "data": {
      "image/png": "[encoded data removed]",
      "text/plain": [
       "<Figure size 150x150 with 1 Axes>"
      ]
     },
     "metadata": {},
     "output_type": "display_data"
    }
   ],
   "source": [
    "# Compute and print confusion matrix to assess model performance\n",
    "cm_reg_log_minmax = confusion_matrix(y_test, y_pred_reg_log_minmax)\n",
    "\n",
    "# Create a DataFrame from confusion matrix for visualization\n",
    "df_cm_reg_log_minmax = pd.DataFrame(cm_reg_log_minmax, columns=np.unique(y_test), index=np.unique(y_test))\n",
    "\n",
    "# Set the names for the DataFrame's index (rows) and columns\n",
    "df_cm_reg_log_minmax.index.name = 'Actual'\n",
    "df_cm_reg_log_minmax.columns.name = 'Predicted'\n",
    "\n",
    "# Create a new figure for the heatmap visualization\n",
    "plt.figure(figsize=(1.5, 1.5))\n",
    "\n",
    "# Generate the heatmap using Seaborn\n",
    "sb.heatmap(df_cm_reg_log_minmax, annot=True, annot_kws={\"size\": 12}, cbar=False, square=True, fmt=\"d\", cmap=\"Reds\")\n",
    "\n",
    "# Display the heatmap\n",
    "plt.show()"
   ]
  },
  {
   "cell_type": "markdown",
   "metadata": {
    "id": "_xoSRZiKPB3c"
   },
   "source": [
    "#### Discussion of the Performance after Using Min-Max Scaling\n",
    "\n",
    "The model's performance did not improve after Min-Max Scaling"
   ]
  },
  {
   "cell_type": "markdown",
   "metadata": {
    "id": "cGyEqiSOQ_rx"
   },
   "source": [
    "---"
   ]
  },
  {
   "cell_type": "markdown",
   "metadata": {
    "id": "kav_Rf4GRB9A"
   },
   "source": [
    "## VII.- Models Comparision"
   ]
  },
  {
   "cell_type": "code",
   "execution_count": 88,
   "metadata": {
    "colab": {
     "base_uri": "https://localhost:8080/",
     "height": 343
    },
    "id": "1MADqMZaSHps",
    "outputId": "fa59cae7-b6f5-4e07-982b-8ced5c771d0f"
   },
   "outputs": [
    {
     "data": {
      "image/png": "[encoded data removed]",
      "text/plain": [
       "<Figure size 2000x500 with 4 Axes>"
      ]
     },
     "metadata": {},
     "output_type": "display_data"
    }
   ],
   "source": [
    "# Create figure for the heatmaps\n",
    "fig, axs = plt.subplots(1, 4, figsize=(20, 5))\n",
    "\n",
    "# Heatmap for Naive Bayes\n",
    "sb.heatmap(df_cm_nb, annot=True, annot_kws={\"size\": 20}, cbar=False, square=True, fmt=\"d\", cmap=\"Reds\", ax=axs[0])\n",
    "axs[0].set_title('Naive Bayes', fontsize=18)\n",
    "axs[0].set_xlabel('Predicted', fontsize=16)\n",
    "axs[0].set_ylabel('Actual', fontsize=16)\n",
    "axs[0].tick_params(axis='both', which='major', labelsize=16)\n",
    "\n",
    "# Heatmap for Logistic Regression\n",
    "sb.heatmap(df_cm_reg_log, annot=True, annot_kws={\"size\": 20}, cbar=False, square=True, fmt=\"d\", cmap=\"Blues\", ax=axs[1])\n",
    "axs[1].set_title('Logistic Regression', fontsize=18)\n",
    "axs[1].set_xlabel('Predicted', fontsize=16)\n",
    "axs[1].set_ylabel('Actual', fontsize=16)\n",
    "axs[1].tick_params(axis='both', which='major', labelsize=16)\n",
    "\n",
    "# Heatmap for Logistic Regression on Filtered Stopwords\n",
    "sb.heatmap(df_cm_reg_log_filtered_sw, annot=True, annot_kws={\"size\": 20}, cbar=False, square=True, fmt=\"d\", cmap=\"Greens\", ax=axs[2])\n",
    "axs[2].set_title('Logistic Regression (Filtered Stopwords)', fontsize=18)\n",
    "axs[2].set_xlabel('Predicted', fontsize=16)\n",
    "axs[2].set_ylabel('Actual', fontsize=16)\n",
    "axs[2].tick_params(axis='both', which='major', labelsize=16)\n",
    "\n",
    "# Heatmap for Logistic Regression on Min-Max Scaled Features\n",
    "sb.heatmap(df_cm_reg_log_minmax, annot=True, annot_kws={\"size\": 20}, cbar=False, square=True, fmt=\"d\", cmap=\"Purples\", ax=axs[3])\n",
    "axs[3].set_title('Logistic Regression (Min-Max Scaled)', fontsize=18)\n",
    "axs[3].set_xlabel('Predicted', fontsize=16)\n",
    "axs[3].set_ylabel('Actual', fontsize=16)\n",
    "axs[3].tick_params(axis='both', which='major', labelsize=16)\n",
    "\n",
    "# Adjust layout\n",
    "plt.tight_layout()\n",
    "plt.show()"
   ]
  },
  {
   "cell_type": "markdown",
   "metadata": {
    "id": "oOy5j9anS7VN"
   },
   "source": [
    "*   In conclusion, neither Stopwords nor Min-max contributed to improving performance of the logistic regression model\n",
    "\n",
    "\n"
   ]
  },
  {
   "cell_type": "markdown",
   "metadata": {
    "id": "-l7U5b6MifcW"
   },
   "source": [
    "---"
   ]
  },
  {
   "cell_type": "markdown",
   "metadata": {
    "id": "ystKSLOfihcU"
   },
   "source": [
    "## VIII.- Cross-Validation\n",
    "- Cross-validation is a technique used to evaluate the performance of a model by dividing the data into multiple subsets, training the model on some subsets, and testing it on the remaining subsets.\n",
    "- This process is repeated several times to ensure the model's effectiveness and to prevent overfitting."
   ]
  },
  {
   "cell_type": "code",
   "execution_count": 89,
   "metadata": {
    "colab": {
     "base_uri": "https://localhost:8080/"
    },
    "id": "fVk3bq7NkvsE",
    "outputId": "1b55511f-217b-4de6-dacd-b152937d6217"
   },
   "outputs": [
    {
     "data": {
      "text/plain": [
       "array([[0.5       , 0.07142857, 0.2       , ..., 0.        , 0.        ,\n",
       "        0.        ],\n",
       "       [0.        , 0.        , 0.        , ..., 0.        , 0.        ,\n",
       "        0.        ],\n",
       "       [0.        , 0.        , 0.        , ..., 0.        , 0.        ,\n",
       "        0.        ],\n",
       "       ...,\n",
       "       [0.        , 0.07142857, 0.        , ..., 0.        , 0.        ,\n",
       "        0.        ],\n",
       "       [0.        , 0.        , 0.        , ..., 1.        , 1.        ,\n",
       "        1.        ],\n",
       "       [0.        , 0.        , 0.        , ..., 0.        , 0.        ,\n",
       "        0.        ]])"
      ]
     },
     "execution_count": 89,
     "metadata": {},
     "output_type": "execute_result"
    }
   ],
   "source": [
    "# Apply MinMax scaling to the feature matrix X\n",
    "X_minmax = min_max_scaler.fit_transform(X)\n",
    "X_minmax"
   ]
  },
  {
   "cell_type": "code",
   "execution_count": 90,
   "metadata": {
    "colab": {
     "base_uri": "https://localhost:8080/"
    },
    "id": "_X4ZsyMTnl29",
    "outputId": "fed48fbb-1c0b-468e-81b7-71c790686a23"
   },
   "outputs": [
    {
     "name": "stdout",
     "output_type": "stream",
     "text": [
      "Logistic Regression Minmax CV Accuracy:  0.9800319240557149\n"
     ]
    }
   ],
   "source": [
    "# Create a Logistic Regression model with specified parameters\n",
    "log_reg = LogisticRegression(random_state=42, max_iter=1000)\n",
    "\n",
    "# Perform cross-validation on the MinMax scaled data X_minmax and target y\n",
    "reg_log_minmax_scores = cross_val_score(log_reg, X_minmax, y, cv=5, scoring='accuracy')\n",
    "\n",
    "# Print the mean accuracy of cross-validation scores for Logistic Regression with MinMax scaling\n",
    "print(\"Logistic Regression Minmax CV Accuracy: \", reg_log_minmax_scores.mean())"
   ]
  },
  {
   "cell_type": "markdown",
   "metadata": {
    "id": "r8Uxx-xMn2Ji"
   },
   "source": [
    "#### Discussion on the Cross-Validation\n",
    "\n",
    "- The \"Logistic Regression Minmax CV Accuracy: 0.979672049938807\" represents the average accuracy of a Logistic Regression model trained on data that has been scaled using MinMax scaling, evaluated using 5-fold cross-validation.\n",
    "- This metric indicates that, on average, the model correctly predicts the class of emails (spam or not spam) about 97.97% of the time across different folds of the dataset.\n",
    "- This score provides a robust estimate of the model's performance and its ability to generalize to unseen data, accounting for variations in the training and validation subsets used in cross-validation."
   ]
  },
  {
   "cell_type": "markdown",
   "metadata": {
    "id": "rT0-3fkhTuzH"
   },
   "source": [
    "---"
   ]
  },
  {
   "cell_type": "markdown",
   "metadata": {
    "id": "IR-QR2MbTxW-"
   },
   "source": [
    "## IX. Findings and Insights"
   ]
  },
  {
   "cell_type": "markdown",
   "metadata": {
    "id": "yP5wkHKvT0PT"
   },
   "source": [
    "- Overall, the dataset consists of 5559 emails with features derived from counts of the 7737 most common words, creating a high-dimensional and sparse feature space. Exploratory Data Analysis revealed significant variation in feature values, yet no missing data was present. The label distribution is notably imbalanced, with a higher number of non-spam emails than spam, which can impact model performance by introducing bias towards the majority class.\n",
    "\n",
    "- Regarding model performance, Multinomial Naive Bayes was effective for text classification but showed a need to reduce false positives in spam detection. Logistic Regression outperformed Naive Bayes across several metrics, including accuracy (0.98 vs. 0.97), precision for spam detection (0.98 vs. 0.88), recall, and F1-score. By conducting feature engineering, removing stop words did not improve model performance, possibly due to its limited impact on the feature space. Applying Min-Max scaling did not enhance performance.\n",
    "\n",
    "- Cross-validation results showed that Logistic Regression achieved an average accuracy of 97.7% across 5 folds, indicating strong generalization. The model maintained high precision for non-spam emails (0.98) and good recall for spam (0.89), suggesting it retains some generalization capabilities. Future improvements could focus on incorporating more diverse training data and addressing class imbalance more effectively.\n",
    "\n",
    "- Challenges included the feature independence assumption in Naive Bayes, which might not capture all the complexities of the data. Applied Logistic Regression to address this issue. Further exploration of feature engineering techniques could provide additional benefits. Another challenge was managing class imbalance to avoid bias towards non-spam emails."
   ]
  }
 ],
 "metadata": {
  "colab": {
   "provenance": []
  },
  "kernelspec": {
   "display_name": "base",
   "language": "python",
   "name": "python3"
  },
  "language_info": {
   "codemirror_mode": {
    "name": "ipython",
    "version": 3
   },
   "file_extension": ".py",
   "mimetype": "text/x-python",
   "name": "python",
   "nbconvert_exporter": "python",
   "pygments_lexer": "ipython3",
   "version": "3.11.5"
  }
 },
 "nbformat": 4,
 "nbformat_minor": 0
}
